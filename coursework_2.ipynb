{
 "cells": [
  {
   "cell_type": "markdown",
   "id": "57ebe58f",
   "metadata": {
    "id": "57ebe58f"
   },
   "source": [
    "# Predicting Early Alzheimer's Using EEG Data and Artificial Intelligence Techniques"
   ]
  },
  {
   "cell_type": "markdown",
   "id": "3SbIhPXBUazc",
   "metadata": {
    "id": "3SbIhPXBUazc"
   },
   "source": [
    "For confidentiality reasons I cannot include datasets in this repository. They can be requested from https://adni.loni.usc.edu/\n"
   ]
  },
  {
   "cell_type": "markdown",
   "id": "979c46c1",
   "metadata": {
    "id": "979c46c1"
   },
   "source": [
    "# 1. Introduction"
   ]
  },
  {
   "cell_type": "markdown",
   "id": "c8e6d848",
   "metadata": {
    "id": "c8e6d848"
   },
   "source": [
    "## 1.1 Research topic\n",
    "\n",
    "In my exploratory data analysis (EDA) I explored multiple aspects of data pertaining to Alzheimer's disease (AD), including fMRI data and mental state examination scores, gathered from two different sources. Specifically, I extracted data pertaining to early alzheimer's, which is mild cogntive impairment (MCI) that later converts to Alzheimer's. I aimed to prepare a data pipeline that could inform the development of a machine learning or deep learning model to predict whether a subject with MCI will convert to AD.\n",
    "\n",
    "Alzheimer's is a neurodegenerative disease that causes memory loss which subsequently leads to the brain being unable to perform vital functions [1]. According to [2], Alzheimer's is the most common form of dementia that effects adults in later stages of life, though a genetic form of Alzheimer's can lead to early-onset Alzheimer's. Due to increases in life expectancy cases of AD are projected to triple by 2050 [3], making it a socioeconmic issue as well as a personal health issue. Although there is research being conducted to develop new tratments [4] and there are currently treatments which slow down progression, there is currently no method of reversing or permenantly halting neurodegeneration, thus, it is important for patients to be treated at the earliest stage possible. Unfortunatly, significant neurodegeneration occurs before individuals present with symptoms of AD [5], so a diagnostic critearia must be developed to diagnose indidivuals with early Alzheimer's before they present with symptoms. In 2011, a revised diagnoistic criteria was devised, infromed by empirical evidence, to include the use of neuroimaging techniques to diagnose Alzheimrer's and other forms of dementia [6-7]. Though, detecting biomarkers of Alzheimer's, especially early Alzheimer's, through inspection of images can be difficult as the difference between normal aging and early Alzheimer's is often subtle, additionally, the difference between stable MCI and early Alzheimer's is much more subtle. Recent research has revealed biomarkers that are clear in brain images and only occur within Alzheimer's patients, namely, amyloid plaques and neurofibrillary tangles [8], however, current neuroimaging techniques required to view these biomarkers can only be performed ex-vivo, in other words, a significant amount of brain tissue must be removed from the body. Although, there is research being conducted to develop in-vivo neuroimaging techniques for these biomarkers [9].\n",
    "\n",
    "Neurodegeneration leads to cognitive impairment and is a normal part of aging, however, there are pathological levels of cogntive imaprment which are diagnosed as MCI and AD. Individuals with MCI often remain stable, however, there are cases where indidivuals with MCI convert to AD. A meta-analyses by Mitchell and Shiri-Feshki revealed that, amongst 41 clinical studies, there was a 33% conversion rate [10], meaning there is a chance that individuals with MCI will convert to AD, making these individuals a good cohort for neuroimaging testing for early Alzheimer's. Another cohort would be individuals who are genetically predisposed to developing Alzheimer's, such as individuals who have family with Alzheimer's or other genetic markers that are connected to Alzherimer's. \n",
    "\n",
    "\n",
    "### 1.1.1 Magnetic Resonance Imaging (MRI)\n",
    "\n",
    "MRI techniques are the most widely used brain imaging techniques due to it's ability to form detailed images of the brain while being non-invasice and safe; it is also possible to adjust parameters according to the structure of interest, making it a flexible technique. MRI techniques emits a magnetic field which effects the spin of atomic nucleus, as the atoms in different areas of the brain have different properties, namely, the difference between distrubution of water in different brain areas means their will be different distrubutions of hydrogen atoms, causing them to generate different frequencies of energy which is imaged with sub-millimeter resolution [11]. Specifically, an MRI image is formed from the magnetic field gradient of the spin of an atoms nuclei when effected by the magnetic field produced by the MRI. \n",
    "\n",
    "<img src=\"images/MRI.png\">\n",
    "MRI of subjects with no AD or MCI, MCI and AD as illustrated in [12, Fig. 1]\n",
    "\n",
    "Above is an example of an image produced by an MRI scan. There is a slight difference between these two images, namely, the grey area, knwno as grey and white matter, has significantly atrophied in the subject with Alzheimer's.\n",
    "\n",
    "\n",
    "### 1.1.2 Artificial Intelligence and Advanced Statistical Methods\n",
    "\n",
    "In recent years, interest in Artificial Intelligence and advanced statistical methods, such as machine learning and deep learning algorithms, has led to a number of publications in the medical field, as well as many other fields [13]. These algorithms are able to identify parameters that can be used to model data, though, higher predictive value is associated with a larger amount of data as large datasets are able to provide more information on the underlying truth of the area of interest. A rule of thumb is often 10 times more data than there are parameters, due to issues with degrees of freedom, such as overfitting. This presents a problem for AI applied to the medical field as it is difficult to generate large datasets of sensitive data. Thus, methods have been devised to improve the power of AI when less data is available\n",
    "\n",
    "### 1.1.3 Computer Vision\n",
    "\n",
    "\n",
    "## 1.2 Aims and Objectives\n",
    "\n",
    "During the EDA a logistic regression model was used to find a model that could fit the data, additionally, a Kruskal-Wallis test was used to investigate whether there was a statistical difference between the rate of decay between those who had stable MCI and those who later converted, however, due to the lack of data and possibly also the nature of the data, namely, it being non-linear, a logistic regression model could not be found for this data and the Kruskal-Wallis test did not find a significant difference in rate of decay. Thus, during this project I aim to use more powerful methods to find the function of this data and subsequently build a model that performs better than the previous models used.\n",
    "\n",
    "### 1.2.1 Logistic Regression\n",
    "\n",
    "In the EDA, logistic regression was chosen due to it's flexiblity, namely, it is not reliant on the distribution of the data meeting a certain assumption, so data does not need to be normally distriubted or linearly correlated to the DV. Although logistic regression is a non-linear model it uses the linear regression model to model or fit the data, the prediction or $ \\hat{Y} $ is what is computed via a non-linear model\n",
    "\n",
    "$ \\hat{Y}_{i} = \\frac{e^{u}}{1+e^{^{u}}} $\n",
    "where:\n",
    "$ \\hat{Y}_{i} $ is the probability that the ith input (i = 1, ..., n) belongs to one of the classes\n",
    "u is the linear regression model $ A + B_{1}X_{1} + B_{2}X_{2} + ... + B_{k}X_{k} $ which forms the logit $ ln(\\frac{\\hat{Y}}{1-\\hat{Y}}) = A + \\sum B_{j}X_{ij} $ where j = number of coefficients\n",
    "\n",
    "A mathematical model of logistic regression as seen in [14, eq. (10.1 - 10.3)]\n",
    "\n",
    "Thus, the linear regression is the natural log of the probability of the input belonging to one class divided by the probability of being in the other group and the coefficients are estimated iteratively using maximum likelihood, similar to neural netowrk models, coefficients are set to small random values and the error is calculated and coefficients are updated to maximize the liklihood of the model fitting the data.\n",
    "\n",
    "In conclusion, logistic regression is similar to machine and deep learning methods in that it utilises a non-linear function, however, it is only the output that utilises the non-linear function, the data is fitted using linear regression. Thus, this model cannot find non-linear relationships in data.  \n",
    "\n",
    "\n",
    "### 1.2.2 Rate of Atrophy\n",
    "\n",
    "The equation used to model the rate of atrophy $ \\frac{X_{i}-X_{1}}{X_{1}} $ which is a simple equation. During the EDA I performed simple data analysis methods in order to form a benchmark for further analysis. A more advanced methods will be used during this project\n",
    "\n",
    "### 1.2.3 Kruskal-Wallis Test\n",
    "\n",
    "During the EDA a Kruskal-Wallis test was conducted to examine the differences between MMSE scores according to the conversion group, namely, stable MCI and early Alzheimer's. A significant difference (H=65.88, p<0.01) was found among the 2 samples (group 3, conversion from MCI to AD and group 0, no conversion). A post-hoc test will not be necessary as there are 2 variables, so we know that there is a significant difference between the two variables presented. However, due to MMSE being an examination conducted by doctors, I will not be using it as a variable to allow for the process to be as automated as possible."
   ]
  },
  {
   "cell_type": "markdown",
   "id": "042f1c3b",
   "metadata": {
    "id": "042f1c3b"
   },
   "source": [
    "# 2. Methods"
   ]
  },
  {
   "cell_type": "markdown",
   "id": "866770a7",
   "metadata": {
    "id": "866770a7"
   },
   "source": [
    "## 2.1 Data cleaning and preparation"
   ]
  },
  {
   "cell_type": "code",
   "execution_count": null,
   "id": "eb5b614b",
   "metadata": {
    "id": "eb5b614b"
   },
   "outputs": [],
   "source": [
    "import pandas as pd\n",
    "import matplotlib.pyplot as plt\n",
    "import numpy as np\n",
    "import re\n",
    "import scipy.stats as stats\n",
    "import seaborn as sns\n",
    "import datetime as dt\n",
    "\n",
    "# numbers will be displayed up to 3 decimal places, with no scientific notation\n",
    "pd.options.display.float_format = '{:.3f}'.format\n",
    "np.set_printoptions(suppress = True)\n",
    "\n",
    "#only select relevant fields from dataset\n",
    "fields1 = ['RID','CDGLOBAL','EXAMDATE']\n",
    "CDR_df = pd.read_csv(\"CDR.csv\",usecols=fields1)\n",
    "\n",
    "fields2 = ['RID','EICV','EXAMDATE']\n",
    "IV_df = pd.read_csv(\"UCSDVOL.csv\",usecols=fields2)\n",
    "\n",
    "fields3 = ['RID','BRAINVOL','EXAMDATE']\n",
    "BV_df = pd.read_csv(\"FOXLABBSI_04_29_22.csv\",usecols=fields3)\n",
    "\n",
    "fields4 = ['RID','MMSE','EXAMDATE','AGE']\n",
    "MMSE_df = pd.read_csv(\"ADNIMERGE.csv\",usecols=fields4)"
   ]
  },
  {
   "cell_type": "code",
   "execution_count": 6,
   "id": "Bsopzd71oUPE",
   "metadata": {
    "colab": {
     "base_uri": "https://localhost:8080/",
     "height": 179
    },
    "id": "Bsopzd71oUPE",
    "outputId": "c1fddd05-badc-4a88-9407-f9a93749977d"
   },
   "outputs": [
    {
     "data": {
      "text/html": [
       "\n",
       "     <input type=\"file\" id=\"files-4b4a50ec-33d2-4c77-945a-4173d0bba49e\" name=\"files[]\" multiple disabled\n",
       "        style=\"border:none\" />\n",
       "     <output id=\"result-4b4a50ec-33d2-4c77-945a-4173d0bba49e\">\n",
       "      Upload widget is only available when the cell has been executed in the\n",
       "      current browser session. Please rerun this cell to enable.\n",
       "      </output>\n",
       "      <script>// Copyright 2017 Google LLC\n",
       "//\n",
       "// Licensed under the Apache License, Version 2.0 (the \"License\");\n",
       "// you may not use this file except in compliance with the License.\n",
       "// You may obtain a copy of the License at\n",
       "//\n",
       "//      http://www.apache.org/licenses/LICENSE-2.0\n",
       "//\n",
       "// Unless required by applicable law or agreed to in writing, software\n",
       "// distributed under the License is distributed on an \"AS IS\" BASIS,\n",
       "// WITHOUT WARRANTIES OR CONDITIONS OF ANY KIND, either express or implied.\n",
       "// See the License for the specific language governing permissions and\n",
       "// limitations under the License.\n",
       "\n",
       "/**\n",
       " * @fileoverview Helpers for google.colab Python module.\n",
       " */\n",
       "(function(scope) {\n",
       "function span(text, styleAttributes = {}) {\n",
       "  const element = document.createElement('span');\n",
       "  element.textContent = text;\n",
       "  for (const key of Object.keys(styleAttributes)) {\n",
       "    element.style[key] = styleAttributes[key];\n",
       "  }\n",
       "  return element;\n",
       "}\n",
       "\n",
       "// Max number of bytes which will be uploaded at a time.\n",
       "const MAX_PAYLOAD_SIZE = 100 * 1024;\n",
       "\n",
       "function _uploadFiles(inputId, outputId) {\n",
       "  const steps = uploadFilesStep(inputId, outputId);\n",
       "  const outputElement = document.getElementById(outputId);\n",
       "  // Cache steps on the outputElement to make it available for the next call\n",
       "  // to uploadFilesContinue from Python.\n",
       "  outputElement.steps = steps;\n",
       "\n",
       "  return _uploadFilesContinue(outputId);\n",
       "}\n",
       "\n",
       "// This is roughly an async generator (not supported in the browser yet),\n",
       "// where there are multiple asynchronous steps and the Python side is going\n",
       "// to poll for completion of each step.\n",
       "// This uses a Promise to block the python side on completion of each step,\n",
       "// then passes the result of the previous step as the input to the next step.\n",
       "function _uploadFilesContinue(outputId) {\n",
       "  const outputElement = document.getElementById(outputId);\n",
       "  const steps = outputElement.steps;\n",
       "\n",
       "  const next = steps.next(outputElement.lastPromiseValue);\n",
       "  return Promise.resolve(next.value.promise).then((value) => {\n",
       "    // Cache the last promise value to make it available to the next\n",
       "    // step of the generator.\n",
       "    outputElement.lastPromiseValue = value;\n",
       "    return next.value.response;\n",
       "  });\n",
       "}\n",
       "\n",
       "/**\n",
       " * Generator function which is called between each async step of the upload\n",
       " * process.\n",
       " * @param {string} inputId Element ID of the input file picker element.\n",
       " * @param {string} outputId Element ID of the output display.\n",
       " * @return {!Iterable<!Object>} Iterable of next steps.\n",
       " */\n",
       "function* uploadFilesStep(inputId, outputId) {\n",
       "  const inputElement = document.getElementById(inputId);\n",
       "  inputElement.disabled = false;\n",
       "\n",
       "  const outputElement = document.getElementById(outputId);\n",
       "  outputElement.innerHTML = '';\n",
       "\n",
       "  const pickedPromise = new Promise((resolve) => {\n",
       "    inputElement.addEventListener('change', (e) => {\n",
       "      resolve(e.target.files);\n",
       "    });\n",
       "  });\n",
       "\n",
       "  const cancel = document.createElement('button');\n",
       "  inputElement.parentElement.appendChild(cancel);\n",
       "  cancel.textContent = 'Cancel upload';\n",
       "  const cancelPromise = new Promise((resolve) => {\n",
       "    cancel.onclick = () => {\n",
       "      resolve(null);\n",
       "    };\n",
       "  });\n",
       "\n",
       "  // Wait for the user to pick the files.\n",
       "  const files = yield {\n",
       "    promise: Promise.race([pickedPromise, cancelPromise]),\n",
       "    response: {\n",
       "      action: 'starting',\n",
       "    }\n",
       "  };\n",
       "\n",
       "  cancel.remove();\n",
       "\n",
       "  // Disable the input element since further picks are not allowed.\n",
       "  inputElement.disabled = true;\n",
       "\n",
       "  if (!files) {\n",
       "    return {\n",
       "      response: {\n",
       "        action: 'complete',\n",
       "      }\n",
       "    };\n",
       "  }\n",
       "\n",
       "  for (const file of files) {\n",
       "    const li = document.createElement('li');\n",
       "    li.append(span(file.name, {fontWeight: 'bold'}));\n",
       "    li.append(span(\n",
       "        `(${file.type || 'n/a'}) - ${file.size} bytes, ` +\n",
       "        `last modified: ${\n",
       "            file.lastModifiedDate ? file.lastModifiedDate.toLocaleDateString() :\n",
       "                                    'n/a'} - `));\n",
       "    const percent = span('0% done');\n",
       "    li.appendChild(percent);\n",
       "\n",
       "    outputElement.appendChild(li);\n",
       "\n",
       "    const fileDataPromise = new Promise((resolve) => {\n",
       "      const reader = new FileReader();\n",
       "      reader.onload = (e) => {\n",
       "        resolve(e.target.result);\n",
       "      };\n",
       "      reader.readAsArrayBuffer(file);\n",
       "    });\n",
       "    // Wait for the data to be ready.\n",
       "    let fileData = yield {\n",
       "      promise: fileDataPromise,\n",
       "      response: {\n",
       "        action: 'continue',\n",
       "      }\n",
       "    };\n",
       "\n",
       "    // Use a chunked sending to avoid message size limits. See b/62115660.\n",
       "    let position = 0;\n",
       "    do {\n",
       "      const length = Math.min(fileData.byteLength - position, MAX_PAYLOAD_SIZE);\n",
       "      const chunk = new Uint8Array(fileData, position, length);\n",
       "      position += length;\n",
       "\n",
       "      const base64 = btoa(String.fromCharCode.apply(null, chunk));\n",
       "      yield {\n",
       "        response: {\n",
       "          action: 'append',\n",
       "          file: file.name,\n",
       "          data: base64,\n",
       "        },\n",
       "      };\n",
       "\n",
       "      let percentDone = fileData.byteLength === 0 ?\n",
       "          100 :\n",
       "          Math.round((position / fileData.byteLength) * 100);\n",
       "      percent.textContent = `${percentDone}% done`;\n",
       "\n",
       "    } while (position < fileData.byteLength);\n",
       "  }\n",
       "\n",
       "  // All done.\n",
       "  yield {\n",
       "    response: {\n",
       "      action: 'complete',\n",
       "    }\n",
       "  };\n",
       "}\n",
       "\n",
       "scope.google = scope.google || {};\n",
       "scope.google.colab = scope.google.colab || {};\n",
       "scope.google.colab._files = {\n",
       "  _uploadFiles,\n",
       "  _uploadFilesContinue,\n",
       "};\n",
       "})(self);\n",
       "</script> "
      ],
      "text/plain": [
       "<IPython.core.display.HTML object>"
      ]
     },
     "metadata": {},
     "output_type": "display_data"
    },
    {
     "name": "stdout",
     "output_type": "stream",
     "text": [
      "Saving CDR.csv to CDR.csv\n",
      "Saving UCSDVOL.csv to UCSDVOL.csv\n",
      "Saving FOXLABBSI_04_29_22.csv to FOXLABBSI_04_29_22.csv\n",
      "Saving ADNIMERGE.csv to ADNIMERGE.csv\n"
     ]
    }
   ],
   "source": [
    "# for google colab\n",
    "\n",
    "import pandas as pd\n",
    "import matplotlib.pyplot as plt\n",
    "import numpy as np\n",
    "import re\n",
    "import scipy.stats as stats\n",
    "import seaborn as sns\n",
    "import datetime as dt\n",
    "import io\n",
    "\n",
    "\n",
    "# numbers will be displayed up to 3 decimal places, with no scientific notation\n",
    "pd.options.display.float_format = '{:.3f}'.format\n",
    "np.set_printoptions(suppress = True)\n",
    "\n",
    "from google.colab import files\n",
    "uploaded = files.upload()\n",
    "\n",
    "#only select relevant fields from dataset\n",
    "fields1 = ['RID','CDGLOBAL','EXAMDATE']\n",
    "CDR_df = pd.read_csv(io.BytesIO(uploaded['CDR.csv']),usecols=fields1)\n",
    "\n",
    "\n",
    "fields2 = ['RID','EICV','EXAMDATE']\n",
    "IV_df = pd.read_csv(io.BytesIO(uploaded['UCSDVOL.csv']),usecols=fields2)\n",
    "\n",
    "\n",
    "fields3 = ['RID','BRAINVOL','EXAMDATE']\n",
    "BV_df = pd.read_csv(io.BytesIO(uploaded['FOXLABBSI_04_29_22.csv']),usecols=fields3)\n",
    "\n",
    "\n",
    "fields4 = ['RID','MMSE','EXAMDATE','AGE']\n",
    "MMSE_df = pd.read_csv(io.BytesIO(uploaded['ADNIMERGE.csv']),usecols=fields4)\n"
   ]
  },
  {
   "cell_type": "code",
   "execution_count": 7,
   "id": "243c6706",
   "metadata": {
    "id": "243c6706"
   },
   "outputs": [],
   "source": [
    "class DataCleaning:\n",
    "    \n",
    "    \n",
    "    def __init__(self, *dataframe):\n",
    "        self.dataframe = list(dataframe)\n",
    "        \n",
    "        # allows user to change a variable amount of column names\n",
    "    def rename_columns(self, **column_dict):\n",
    "        \n",
    "        for df in self.dataframe:\n",
    "            for key,value in column_dict.items():\n",
    "                df.rename(columns= {key:value},inplace=True)\n",
    "\n",
    "        # drop duplicates\n",
    "    def drop_dupl_na(self):\n",
    "        self.dataframe['MR_Delay'].fillna(0,inplace=True)\n",
    "        for j in range(len(self.dataframe)):\n",
    "            for i in range(len(self.dataframe)):\n",
    "                if j == i:\n",
    "                    continue\n",
    "                if CDR_df.iloc[j,1] == 0 & self.dataframe.iloc[j,0] == self.dataframe.iloc[i,0]:\n",
    "                    self.dataframe.iloc[i].drop(inplace=True)\n",
    "    \n",
    "    def get_df(self):\n",
    "        for df in self.dataframe:\n",
    "            print(df.head(), '\\n', len(df), '\\n')\n",
    "        \n",
    "\n",
    "\n",
    "\n",
    "class DatetimeConvert(DataCleaning):\n",
    "    \n",
    "    #sort by date then calculate days between scans\n",
    "    # preparing to convert DAYS column to number of days between scans instead of dates\n",
    "    def sort(self):\n",
    "        for df in self.dataframe:\n",
    "            df.loc[:,'DAYS'] = pd.to_datetime(df['DAYS'])\n",
    "            df.sort_values(by='DAYS', inplace=True)\n",
    "            df.reset_index(drop=True, inplace=True)\n",
    "        \n",
    "        # convert dates to days since first diagnosis\n",
    "    def convert_to_days(self):\n",
    "        \n",
    "        for df in self.dataframe:\n",
    "            date1 = df.groupby(['RID']).DAYS.first() # first date for each subject ID\n",
    "            date1_idx = date1.index # subject ID's\n",
    "\n",
    "            for i in date1_idx:\n",
    "                for j in range(len(df.loc[df['RID']==i])):\n",
    "                    idx = df.loc[df['RID']==i].index[j]\n",
    "                    df.loc[idx,'DAYS'] = (df.loc[df['RID']==i].iloc[j,1]-date1[i]).days\n",
    "                    \n",
    "\n",
    "\n",
    "\n",
    "\n",
    "class Converted(DataCleaning):\n",
    "    \n",
    "    \n",
    "    def __init__(self, diagnosis1, diagnosis2, *dataframe, group=None):\n",
    "        \n",
    "        super().__init__(*dataframe)\n",
    "        self.diagnosis1 = diagnosis1\n",
    "        self.diagnosis2 = diagnosis2\n",
    "        self.group = group\n",
    "        \n",
    "        \n",
    "    def get_group(self):\n",
    "        # finds converted group using diagnosis and prints group that is called\n",
    "        Converted_dict = {('ND','MCI'):1, ('ND','AD'):2, ('MCI','AD'):3, ('MCI','ND'):4, ('AD','MCI'):5, ('AD','ND'):6}\n",
    "        self.group = Converted_dict[(self.diagnosis1,self.diagnosis2)]\n",
    "        \n",
    "        \n",
    "        \n",
    "    def diagnose(self):\n",
    "        # diagnosis based on CDR score\n",
    "        for df in self.dataframe:\n",
    "            df.loc[df['CDR'] == 0, 'Group'] = 'ND'\n",
    "            df.loc[df['CDR'] == 0.5, 'Group'] = 'MCI'\n",
    "            df.loc[df['CDR'] == 1, 'Group'] = 'AD'\n",
    "            df.loc[df['CDR'] == 2, 'Group'] = 'AD'\n",
    "            df.loc[df['CDR'] == 3, 'Group'] = 'AD'\n",
    "            df.loc[df['CDR'].isnull(), 'Group'] = 'U'\n",
    "            df.loc[df['CDR'] == -1, 'Group'] = 'U'\n",
    "        \n",
    "        \n",
    "    def setup(self):\n",
    "    # create a column called counts which groups the RID column and counts the amount of unique values in \n",
    "    # each group, this tells me which subjects' diagnosis changed between scans\n",
    "\n",
    "    # used transform on nunique instead of nunique by itself as nunique returns a series which results in NAN values \n",
    "    #if there are no unique values in Group and does not return series of the same length as MRI, transform duplicates \n",
    "    # the MRI dataframe with the new column which is more convinient as I do not have to manually change NAN values to \n",
    "    # 0 or 1 \n",
    "        for df in self.dataframe:\n",
    "            counts = df.groupby('RID').Group.transform('nunique')\n",
    "            df.loc[:,'counts'] = counts\n",
    "        \n",
    "        \n",
    "    # created a column that counts the amount of times a subject had an MRI, although I will not be using this \n",
    "    # column as I will be taking the first and last value of each group as long as they had more than 1 scan\n",
    "    # it may be useful for later projects \n",
    "            IDGROUPED = df.groupby('RID', as_index=True)\n",
    "            num_MRI = IDGROUPED.RID.transform('count')\n",
    "            df.loc[:,'num_MRI'] = num_MRI\n",
    "        \n",
    "        \n",
    "    def fill_converted(self, count, print_values=False):\n",
    "        \n",
    "        \n",
    "        \n",
    "        \n",
    "        for df in self.dataframe:\n",
    "            \n",
    "        # grouped subjects by the amount of scans they had then picked the first and last subject ID\n",
    "            multigroup_first = df.groupby(['RID','counts'], as_index=True).Group.first()\n",
    "            multigroup_last = df.groupby(['RID','counts'], as_index=True).Group.last()\n",
    "        \n",
    "            first = multigroup_first.filter(regex=\"\\d{1,}, \"+count)\n",
    "            firstindex = first.index.get_level_values(0)\n",
    "            last = multigroup_last.filter(regex=\"\\d{1,}, \"+count)\n",
    "            \n",
    "            if print_values == False:\n",
    "                \n",
    "            # index lists are reset on each epoch to avoid bugs, when empty list nothing is updated\n",
    "               converted_ind_list = []\n",
    "               non_ind_list = []\n",
    "               U_ind_list = []\n",
    "                \n",
    "               for i,v in enumerate(first):\n",
    "                \n",
    "                    \n",
    "                    if (v == self.diagnosis1) & (last[firstindex[i]].iloc[0] == self.diagnosis2):\n",
    "                        # indicies of subject RID in speicified group\n",
    "                        for rid_index in df.loc[df['RID']==firstindex[i]].index:\n",
    "                            converted_ind_list.append(rid_index) \n",
    "    \n",
    "                        \n",
    "                    # for an unknown reason df does not update if update code is within the if statement, \n",
    "                    #the if statement has been tested and logic is correct so this line has been taken out \n",
    "                    #and list of indices is created in if statement to be passed to outside if statement\n",
    "                    \n",
    "                    \n",
    "                    # if first and last diagnoses are the same it means that they had a different diagnosis inbetween\n",
    "                    # these subjects will be put in no conversion group\n",
    "                    elif (v == last[firstindex[i]].iloc[0]) & (v != 'U'):\n",
    "                        \n",
    "                        for rid_index in df.loc[df['RID']==firstindex[i]].index:\n",
    "                            non_ind_list.append(rid_index) \n",
    "                    \n",
    "                    \n",
    "                    # undiagnosed subjects put in converted group none\n",
    "                    elif (v == 'U') | (last[firstindex[i]].iloc[0] == 'U'):\n",
    "                        \n",
    "                        for rid_index in df.loc[df['RID']==firstindex[i]].index:\n",
    "                            U_ind_list.append(rid_index) \n",
    "              \n",
    "              # update dataframes      \n",
    "               df.loc[converted_ind_list, 'Converted']= self.group\n",
    "               df.loc[non_ind_list, 'Converted']= 0\n",
    "               df.loc[U_ind_list, 'Converted']= 'none'\n",
    "                    \n",
    "        \n",
    "    \n",
    "            if print_values == True:\n",
    "                converted_ind_list = []\n",
    "                non_ind_list = []\n",
    "                U_ind_list = []\n",
    "                \n",
    "                for i,v in enumerate(first):\n",
    "                    # index lists are reset on each epoch to avoid bugs, when empty list nothing is updated\n",
    "                    \n",
    "                    #df.loc[1, 'Converted']= 5\n",
    "                    \n",
    "                    if (v == self.diagnosis1) & (last[firstindex[i]].iloc[0] == self.diagnosis2):\n",
    "                        # indicies of subject RID in speicified group\n",
    "                        for rid_index in df.loc[df['RID']==firstindex[i]].index:\n",
    "                            converted_ind_list.append(rid_index) \n",
    "                        print(i,\n",
    "                              '\\n',\n",
    "                              'RID of first diagnosis:',\n",
    "                              firstindex[i],\n",
    "                              '\\n',\n",
    "                              'row of first diagnosis:',\n",
    "                              '\\n',\n",
    "                              first.iloc[i:i+1],\n",
    "                              '\\n',\n",
    "                              'row of last diagnosis:',\n",
    "                              '\\n',\n",
    "                              last.iloc[i:i+1],\n",
    "                              '\\n',\n",
    "                              'group:',\n",
    "                              self.group)\n",
    "                        \n",
    "                    # for an unknown reason this line does not update the df if update code is within if statement, \n",
    "                    #the if statement has been tested and logic is correct so this line has been taken out \n",
    "                    #and list of indidcies is created in if statement to be passed to this line outside if statement\n",
    "                    \n",
    "                        \n",
    "                    #looks for subject id or specified index and updates converted column using group dictionary\n",
    "                        \n",
    "                    \n",
    "                    \n",
    "                    \n",
    "                    # if first and last diagnoses are the same it means that they had a different diagnosis inbetween\n",
    "                    # these subjects will be put in no conversion group\n",
    "                    elif (v == last[firstindex[i]].iloc[0]) & (v != 'U'):\n",
    "                        \n",
    "                        for rid_index in df.loc[df['RID']==firstindex[i]].index:\n",
    "                            non_ind_list.append(rid_index) \n",
    "                        \n",
    "                        \n",
    "                    \n",
    "                    \n",
    "                    # undiagnosed subjects put in converted group none\n",
    "                    elif (v == 'U') | (last[firstindex[i]].iloc[0] == 'U'):\n",
    "                        \n",
    "                        for rid_index in df.loc[df['RID']==firstindex[i]].index:\n",
    "                            U_ind_list.append(rid_index) \n",
    "                        \n",
    "                    \n",
    "                    #print(i)\n",
    "                    #print(converted_ind_list)\n",
    "                df.loc[converted_ind_list, 'Converted']= self.group\n",
    "                df.loc[non_ind_list, 'Converted']= 0\n",
    "                df.loc[U_ind_list, 'Converted']= 'none'\n",
    "                    \n",
    "                # prints a space between each group for readability         \n",
    "                print(\"\\n\",\"\\n\")\n",
    "        \n",
    "        \n",
    "        "
   ]
  },
  {
   "cell_type": "markdown",
   "id": "80858444",
   "metadata": {
    "id": "80858444"
   },
   "source": [
    "# Combining ADNI data\n",
    "\n",
    "Dataframes are combined using an outer merge on RID and EXAMDATE, so rows that have the same RID and EXAMDATE will be merged into one row, if they do not have corresponding data for the other columns these columns will be filled with NaN. All other rows will be still be included in the dataframe\n",
    "\n",
    "I will be using two dataframes, one with missing values in the CDR column removed and one with missing values in CDR included. This means one dataframe will have data solely for diagnosed subjects and trials and the other will have data for both diagnosed and undiagnosed subjects and trials."
   ]
  },
  {
   "cell_type": "code",
   "execution_count": 8,
   "id": "ac7d3589",
   "metadata": {
    "id": "ac7d3589"
   },
   "outputs": [],
   "source": [
    "ADNI = pd.merge(\n",
    "            pd.merge(\n",
    "                 pd.merge(MMSE_df,IV_df, how='outer',on=['RID','EXAMDATE']),\n",
    "                        BV_df,how='outer',on=['RID','EXAMDATE']), \n",
    "                            CDR_df,how='outer',on=['RID','EXAMDATE'])\n"
   ]
  },
  {
   "cell_type": "code",
   "execution_count": 9,
   "id": "3d80c72c",
   "metadata": {
    "id": "3d80c72c"
   },
   "outputs": [],
   "source": [
    "CleanADNI = DataCleaning(ADNI)\n",
    "CleanADNI.rename_columns(EXAMDATE='DAYS',CDGLOBAL='CDR')"
   ]
  },
  {
   "cell_type": "code",
   "execution_count": 10,
   "id": "7128cedf",
   "metadata": {
    "id": "7128cedf"
   },
   "outputs": [],
   "source": [
    "ADNI.dropna(subset=['DAYS'], inplace=True)\n",
    "# if there are no values in these three columns the row is useless\n",
    "ADNI.dropna(how='all',subset=['MMSE','EICV','BRAINVOL'], inplace=True)\n",
    "\n",
    "# D stands for diagnosed\n",
    "ADNI_D = ADNI.dropna(subset=['CDR'], inplace=False)\n",
    "\n",
    "# put them in a list as I will be performing the same preprocessing steps on both dfs so will ues a loop\n",
    "ADNI_dfs = DatetimeConvert(ADNI,ADNI_D)"
   ]
  },
  {
   "cell_type": "code",
   "execution_count": 11,
   "id": "57cd8e37",
   "metadata": {
    "colab": {
     "base_uri": "https://localhost:8080/"
    },
    "id": "57cd8e37",
    "outputId": "cbb3a36f-02e4-44eb-e6d3-6a165bbced7b"
   },
   "outputs": [
    {
     "name": "stderr",
     "output_type": "stream",
     "text": [
      "/usr/local/lib/python3.8/dist-packages/pandas/core/indexing.py:1773: SettingWithCopyWarning: \n",
      "A value is trying to be set on a copy of a slice from a DataFrame.\n",
      "Try using .loc[row_indexer,col_indexer] = value instead\n",
      "\n",
      "See the caveats in the documentation: https://pandas.pydata.org/pandas-docs/stable/user_guide/indexing.html#returning-a-view-versus-a-copy\n",
      "  self._setitem_single_column(ilocs[0], value, pi)\n",
      "/usr/local/lib/python3.8/dist-packages/pandas/util/_decorators.py:311: SettingWithCopyWarning: \n",
      "A value is trying to be set on a copy of a slice from a DataFrame\n",
      "\n",
      "See the caveats in the documentation: https://pandas.pydata.org/pandas-docs/stable/user_guide/indexing.html#returning-a-view-versus-a-copy\n",
      "  return func(*args, **kwargs)\n"
     ]
    }
   ],
   "source": [
    "ADNI_dfs.sort()\n"
   ]
  },
  {
   "cell_type": "code",
   "execution_count": 12,
   "id": "a33b8686",
   "metadata": {
    "colab": {
     "base_uri": "https://localhost:8080/"
    },
    "id": "a33b8686",
    "outputId": "3466f16b-f7f9-43e7-b2e8-3fe687082c51"
   },
   "outputs": [
    {
     "name": "stderr",
     "output_type": "stream",
     "text": [
      "/usr/local/lib/python3.8/dist-packages/pandas/core/indexing.py:1817: SettingWithCopyWarning: \n",
      "A value is trying to be set on a copy of a slice from a DataFrame.\n",
      "Try using .loc[row_indexer,col_indexer] = value instead\n",
      "\n",
      "See the caveats in the documentation: https://pandas.pydata.org/pandas-docs/stable/user_guide/indexing.html#returning-a-view-versus-a-copy\n",
      "  self._setitem_single_column(loc, value, pi)\n"
     ]
    }
   ],
   "source": [
    "ADNI_dfs.convert_to_days()"
   ]
  },
  {
   "cell_type": "markdown",
   "id": "0e082e3b",
   "metadata": {
    "id": "0e082e3b"
   },
   "source": [
    "# Preparing to create converted column"
   ]
  },
  {
   "cell_type": "markdown",
   "id": "13a70123",
   "metadata": {
    "id": "13a70123"
   },
   "source": [
    "# Subjects that converted\n",
    "\n",
    "I can now create a column that will identify the subjects that converted between scans\n",
    "This column will contain numerical values that pertain to a specific conversion\n",
    "\n",
    "No conversion = 0\n",
    "\n",
    "ND -> MCI = 1\n",
    "\n",
    "ND -> AD = 2\n",
    "\n",
    "MCI -> AD = 3\n",
    "\n",
    "MCI -> ND = 4\n",
    "\n",
    "AD -> MCI = 5\n",
    "\n",
    "AD -> ND = 6\n",
    "\n",
    "\n",
    "It is highly unlikely that a subject could convert from AD to MCI or AD to ND unless they were on a new experimental treatment, as alzheimer's is a progressive neurodegenerative disease. It is also unlikely that a subject could convert from MCI to ND but this case is more likely. I have included these keys for completeness, though, subjects in these groups are more likely the result of a data entry error so if any of these keys show up I will investigate further"
   ]
  },
  {
   "cell_type": "code",
   "execution_count": 13,
   "id": "77ebb628",
   "metadata": {
    "colab": {
     "base_uri": "https://localhost:8080/"
    },
    "id": "77ebb628",
    "outputId": "80425769-3095-4e16-eb3b-1a60ac1a004a"
   },
   "outputs": [
    {
     "name": "stderr",
     "output_type": "stream",
     "text": [
      "/usr/local/lib/python3.8/dist-packages/pandas/core/indexing.py:1667: SettingWithCopyWarning: \n",
      "A value is trying to be set on a copy of a slice from a DataFrame.\n",
      "Try using .loc[row_indexer,col_indexer] = value instead\n",
      "\n",
      "See the caveats in the documentation: https://pandas.pydata.org/pandas-docs/stable/user_guide/indexing.html#returning-a-view-versus-a-copy\n",
      "  self.obj[key] = value\n"
     ]
    }
   ],
   "source": [
    "  # create a column called counts which groups the RID column and counts the amount of unique values in \n",
    "    # each group, this tells me which subjects' diagnosis changed between scans\n",
    "\n",
    "    # used transform on nunique instead of nunique by itself as nunique returns a series which results in NAN values \n",
    "    #if there are no unique values in Group and does not return series of the same length as MRI, transform duplicates \n",
    "    # the MRI dataframe with the new column which is more convinient as I do not have to manually change NAN values to \n",
    "    # 0 or 1 \n",
    "df_list = [ADNI,ADNI_D]\n",
    "for df in df_list:\n",
    "    df.loc[:,'Converted'] = np.nan\n"
   ]
  },
  {
   "cell_type": "code",
   "execution_count": 14,
   "id": "7255e80c",
   "metadata": {
    "colab": {
     "base_uri": "https://localhost:8080/"
    },
    "id": "7255e80c",
    "outputId": "14c85d56-d7ac-41fe-adcc-475ef1700728"
   },
   "outputs": [
    {
     "name": "stdout",
     "output_type": "stream",
     "text": [
      "1\n"
     ]
    },
    {
     "name": "stderr",
     "output_type": "stream",
     "text": [
      "/usr/local/lib/python3.8/dist-packages/pandas/core/indexing.py:1684: SettingWithCopyWarning: \n",
      "A value is trying to be set on a copy of a slice from a DataFrame.\n",
      "Try using .loc[row_indexer,col_indexer] = value instead\n",
      "\n",
      "See the caveats in the documentation: https://pandas.pydata.org/pandas-docs/stable/user_guide/indexing.html#returning-a-view-versus-a-copy\n",
      "  self.obj[key] = infer_fill_value(value)\n"
     ]
    },
    {
     "name": "stdout",
     "output_type": "stream",
     "text": [
      "2\n",
      "3\n",
      "4\n",
      "5\n",
      "6\n"
     ]
    }
   ],
   "source": [
    "\n",
    "\n",
    "# Call function for each group with each number of counts\n",
    "converted_list = [Converted('ND','MCI',ADNI,ADNI_D), \n",
    "                  Converted('ND','AD',ADNI,ADNI_D), \n",
    "                  Converted('MCI','AD',ADNI,ADNI_D), \n",
    "                  Converted('MCI','ND',ADNI,ADNI_D), \n",
    "                  Converted('AD','MCI',ADNI,ADNI_D), \n",
    "                  Converted('AD','ND',ADNI,ADNI_D)]\n",
    "\n",
    "for x in converted_list:\n",
    "    x.get_group()\n",
    "    print(x.group)\n",
    "    x.diagnose()\n",
    "    x.setup()\n",
    "    x.fill_converted(\"2\", print_values=False)\n",
    "    x.fill_converted(\"3\", print_values=False)\n",
    "    x.fill_converted(\"4\", print_values=False)\n",
    "\n",
    "\n"
   ]
  },
  {
   "cell_type": "code",
   "execution_count": 15,
   "id": "b542f86f",
   "metadata": {
    "id": "b542f86f"
   },
   "outputs": [],
   "source": [
    "# those with only one diagnosis did not convert\n",
    "for df in df_list:\n",
    "    df.loc[(df['counts'] == 1), 'Converted']=0\n",
    "    df.loc[df['Group'] == 'U', 'Converted']= 'none'\n"
   ]
  },
  {
   "cell_type": "markdown",
   "id": "9d10d565",
   "metadata": {
    "id": "9d10d565"
   },
   "source": [
    "# Univariate Outliers / Z scores\n",
    "\n",
    "I will compute the z scores of the eTIV, nBWV for each group and analyse values that are  ±  3.29\n",
    "\n",
    "I am simply looking for outliers within each group so I will include all subjects with a specific diagnosis at any time\n",
    "\n",
    "I will not include the undiagnosed group,thiull only be computing scores for the dataframe with no missing values (ADNI_D)"
   ]
  },
  {
   "cell_type": "code",
   "execution_count": 16,
   "id": "660a17a1",
   "metadata": {
    "id": "660a17a1"
   },
   "outputs": [],
   "source": [
    "# Intracranial volume\n",
    "AD_IV_D = np.array(ADNI_D.loc[ADNI_D['Group']=='AD', 'EICV'])\n",
    "MCI_IV_D = np.array(ADNI_D.loc[ADNI_D['Group']=='MCI', 'EICV'])\n",
    "ND_IV_D = np.array(ADNI_D.loc[ADNI_D['Group']=='ND', 'EICV'])\n"
   ]
  },
  {
   "cell_type": "code",
   "execution_count": null,
   "id": "05bf2288",
   "metadata": {
    "id": "05bf2288",
    "outputId": "ec7e6508-07fd-4c5d-801d-3de26509942b"
   },
   "outputs": [
    {
     "name": "stdout",
     "output_type": "stream",
     "text": [
      "[]\n",
      "[]\n"
     ]
    }
   ],
   "source": [
    "IV_ZSCORE_AD = stats.zscore(AD_IV_D,nan_policy='omit')\n",
    "print(IV_ZSCORE_AD[IV_ZSCORE_AD>3.28])\n",
    "print(IV_ZSCORE_AD[IV_ZSCORE_AD<-3.28])"
   ]
  },
  {
   "cell_type": "code",
   "execution_count": null,
   "id": "ef476f8c",
   "metadata": {
    "id": "ef476f8c",
    "outputId": "29f688f9-f981-4d99-cd40-f5f2d8dd888c"
   },
   "outputs": [
    {
     "name": "stdout",
     "output_type": "stream",
     "text": [
      "[]\n",
      "[]\n"
     ]
    }
   ],
   "source": [
    "IV_ZSCORE_MCI = stats.zscore(MCI_IV_D,nan_policy='omit')\n",
    "print(IV_ZSCORE_MCI[IV_ZSCORE_MCI>3.28])\n",
    "print(IV_ZSCORE_MCI[IV_ZSCORE_MCI<-3.28])"
   ]
  },
  {
   "cell_type": "code",
   "execution_count": null,
   "id": "18c4cdc7",
   "metadata": {
    "id": "18c4cdc7",
    "outputId": "03e835cd-4f10-40c5-c7c0-18724a62e4c9"
   },
   "outputs": [
    {
     "name": "stdout",
     "output_type": "stream",
     "text": [
      "[]\n",
      "[]\n"
     ]
    }
   ],
   "source": [
    "IV_ZSCORE_ND = stats.zscore(ND_IV_D,nan_policy='omit')\n",
    "print(IV_ZSCORE_ND[IV_ZSCORE_ND>3.28])\n",
    "print(IV_ZSCORE_ND[IV_ZSCORE_ND<-3.28])"
   ]
  },
  {
   "cell_type": "code",
   "execution_count": 15,
   "id": "6e7abaf1",
   "metadata": {
    "id": "6e7abaf1"
   },
   "outputs": [],
   "source": [
    "# Whole brain volume\n",
    "AD_BV_D = np.array(ADNI_D.loc[ADNI_D['Group']=='AD', 'BRAINVOL'])\n",
    "MCI_BV_D = np.array(ADNI_D.loc[ADNI_D['Group']=='MCI', 'BRAINVOL'])\n",
    "ND_BV_D = np.array(ADNI_D.loc[ADNI_D['Group']=='ND', 'BRAINVOL'])"
   ]
  },
  {
   "cell_type": "code",
   "execution_count": 17,
   "id": "d903f65d",
   "metadata": {
    "colab": {
     "base_uri": "https://localhost:8080/"
    },
    "id": "d903f65d",
    "outputId": "7a6871da-33ba-4dec-fb4b-56a9a97fa04d"
   },
   "outputs": [
    {
     "name": "stdout",
     "output_type": "stream",
     "text": [
      "[3.5386308]\n",
      "[]\n"
     ]
    }
   ],
   "source": [
    "BV_ZSCORE_AD = stats.zscore(AD_BV_D,nan_policy='omit')\n",
    "print(BV_ZSCORE_AD[BV_ZSCORE_AD>3.28])\n",
    "print(BV_ZSCORE_AD[BV_ZSCORE_AD<-3.28])"
   ]
  },
  {
   "cell_type": "code",
   "execution_count": null,
   "id": "13567984",
   "metadata": {
    "id": "13567984",
    "outputId": "252c61b5-94fe-4be5-88bc-573fcb57ed3d"
   },
   "outputs": [
    {
     "name": "stdout",
     "output_type": "stream",
     "text": [
      "[]\n",
      "[]\n"
     ]
    }
   ],
   "source": [
    "BV_ZSCORE_MCI = stats.zscore(MCI_BV_D,nan_policy='omit')\n",
    "print(BV_ZSCORE_MCI[BV_ZSCORE_MCI>3.28])\n",
    "print(BV_ZSCORE_MCI[BV_ZSCORE_MCI<-3.28])"
   ]
  },
  {
   "cell_type": "code",
   "execution_count": null,
   "id": "d218f3b3",
   "metadata": {
    "id": "d218f3b3",
    "outputId": "d335d675-fc16-47b6-c858-3a92d5409cb6"
   },
   "outputs": [
    {
     "name": "stdout",
     "output_type": "stream",
     "text": [
      "[]\n",
      "[]\n"
     ]
    }
   ],
   "source": [
    "BV_ZSCORE_ND = stats.zscore(ND_BV_D,nan_policy='omit')\n",
    "print(BV_ZSCORE_ND[BV_ZSCORE_ND>3.28])\n",
    "print(BV_ZSCORE_ND[BV_ZSCORE_ND<-3.28])"
   ]
  },
  {
   "cell_type": "markdown",
   "id": "2234c385",
   "metadata": {
    "id": "2234c385"
   },
   "source": [
    "# Locating the outlier\n",
    "\n",
    "As the zscore function used only gives the zscore value I will need to find the position of this value manually.\n",
    "\n",
    "\n",
    "The equation for caluclating a zscore is:\n",
    "\n",
    "$ Z = \\frac{(x-mean)}{sd} $\n",
    "\n",
    "Thus, the equation to find the x value, in other words, to transform the zscore back to its original value, which in this case is the BRAINVOL, is:\n",
    "\n",
    "$ x = (Z\\cdot sd) + mean $"
   ]
  },
  {
   "cell_type": "code",
   "execution_count": 18,
   "id": "94efab8b",
   "metadata": {
    "colab": {
     "base_uri": "https://localhost:8080/",
     "height": 99
    },
    "id": "94efab8b",
    "outputId": "42cd2abb-c1fd-44c9-f897-24b0054a7065"
   },
   "outputs": [
    {
     "name": "stdout",
     "output_type": "stream",
     "text": [
      "[1400.909]\n"
     ]
    },
    {
     "data": {
      "text/html": [
       "\n",
       "  <div id=\"df-aa730e61-a340-4ad1-b3ed-ec7d4d7f970b\">\n",
       "    <div class=\"colab-df-container\">\n",
       "      <div>\n",
       "<style scoped>\n",
       "    .dataframe tbody tr th:only-of-type {\n",
       "        vertical-align: middle;\n",
       "    }\n",
       "\n",
       "    .dataframe tbody tr th {\n",
       "        vertical-align: top;\n",
       "    }\n",
       "\n",
       "    .dataframe thead th {\n",
       "        text-align: right;\n",
       "    }\n",
       "</style>\n",
       "<table border=\"1\" class=\"dataframe\">\n",
       "  <thead>\n",
       "    <tr style=\"text-align: right;\">\n",
       "      <th></th>\n",
       "      <th>RID</th>\n",
       "      <th>DAYS</th>\n",
       "      <th>AGE</th>\n",
       "      <th>MMSE</th>\n",
       "      <th>EICV</th>\n",
       "      <th>BRAINVOL</th>\n",
       "      <th>CDR</th>\n",
       "      <th>Converted</th>\n",
       "      <th>Group</th>\n",
       "      <th>counts</th>\n",
       "      <th>num_MRI</th>\n",
       "    </tr>\n",
       "  </thead>\n",
       "  <tbody>\n",
       "    <tr>\n",
       "      <th>754</th>\n",
       "      <td>300</td>\n",
       "      <td>195</td>\n",
       "      <td>56.400</td>\n",
       "      <td>28.000</td>\n",
       "      <td>1803380.000</td>\n",
       "      <td>1400.909</td>\n",
       "      <td>1.000</td>\n",
       "      <td>0</td>\n",
       "      <td>AD</td>\n",
       "      <td>2</td>\n",
       "      <td>5</td>\n",
       "    </tr>\n",
       "  </tbody>\n",
       "</table>\n",
       "</div>\n",
       "      <button class=\"colab-df-convert\" onclick=\"convertToInteractive('df-aa730e61-a340-4ad1-b3ed-ec7d4d7f970b')\"\n",
       "              title=\"Convert this dataframe to an interactive table.\"\n",
       "              style=\"display:none;\">\n",
       "        \n",
       "  <svg xmlns=\"http://www.w3.org/2000/svg\" height=\"24px\"viewBox=\"0 0 24 24\"\n",
       "       width=\"24px\">\n",
       "    <path d=\"M0 0h24v24H0V0z\" fill=\"none\"/>\n",
       "    <path d=\"M18.56 5.44l.94 2.06.94-2.06 2.06-.94-2.06-.94-.94-2.06-.94 2.06-2.06.94zm-11 1L8.5 8.5l.94-2.06 2.06-.94-2.06-.94L8.5 2.5l-.94 2.06-2.06.94zm10 10l.94 2.06.94-2.06 2.06-.94-2.06-.94-.94-2.06-.94 2.06-2.06.94z\"/><path d=\"M17.41 7.96l-1.37-1.37c-.4-.4-.92-.59-1.43-.59-.52 0-1.04.2-1.43.59L10.3 9.45l-7.72 7.72c-.78.78-.78 2.05 0 2.83L4 21.41c.39.39.9.59 1.41.59.51 0 1.02-.2 1.41-.59l7.78-7.78 2.81-2.81c.8-.78.8-2.07 0-2.86zM5.41 20L4 18.59l7.72-7.72 1.47 1.35L5.41 20z\"/>\n",
       "  </svg>\n",
       "      </button>\n",
       "      \n",
       "  <style>\n",
       "    .colab-df-container {\n",
       "      display:flex;\n",
       "      flex-wrap:wrap;\n",
       "      gap: 12px;\n",
       "    }\n",
       "\n",
       "    .colab-df-convert {\n",
       "      background-color: #E8F0FE;\n",
       "      border: none;\n",
       "      border-radius: 50%;\n",
       "      cursor: pointer;\n",
       "      display: none;\n",
       "      fill: #1967D2;\n",
       "      height: 32px;\n",
       "      padding: 0 0 0 0;\n",
       "      width: 32px;\n",
       "    }\n",
       "\n",
       "    .colab-df-convert:hover {\n",
       "      background-color: #E2EBFA;\n",
       "      box-shadow: 0px 1px 2px rgba(60, 64, 67, 0.3), 0px 1px 3px 1px rgba(60, 64, 67, 0.15);\n",
       "      fill: #174EA6;\n",
       "    }\n",
       "\n",
       "    [theme=dark] .colab-df-convert {\n",
       "      background-color: #3B4455;\n",
       "      fill: #D2E3FC;\n",
       "    }\n",
       "\n",
       "    [theme=dark] .colab-df-convert:hover {\n",
       "      background-color: #434B5C;\n",
       "      box-shadow: 0px 1px 3px 1px rgba(0, 0, 0, 0.15);\n",
       "      filter: drop-shadow(0px 1px 2px rgba(0, 0, 0, 0.3));\n",
       "      fill: #FFFFFF;\n",
       "    }\n",
       "  </style>\n",
       "\n",
       "      <script>\n",
       "        const buttonEl =\n",
       "          document.querySelector('#df-aa730e61-a340-4ad1-b3ed-ec7d4d7f970b button.colab-df-convert');\n",
       "        buttonEl.style.display =\n",
       "          google.colab.kernel.accessAllowed ? 'block' : 'none';\n",
       "\n",
       "        async function convertToInteractive(key) {\n",
       "          const element = document.querySelector('#df-aa730e61-a340-4ad1-b3ed-ec7d4d7f970b');\n",
       "          const dataTable =\n",
       "            await google.colab.kernel.invokeFunction('convertToInteractive',\n",
       "                                                     [key], {});\n",
       "          if (!dataTable) return;\n",
       "\n",
       "          const docLinkHtml = 'Like what you see? Visit the ' +\n",
       "            '<a target=\"_blank\" href=https://colab.research.google.com/notebooks/data_table.ipynb>data table notebook</a>'\n",
       "            + ' to learn more about interactive tables.';\n",
       "          element.innerHTML = '';\n",
       "          dataTable['output_type'] = 'display_data';\n",
       "          await google.colab.output.renderOutput(dataTable, element);\n",
       "          const docLink = document.createElement('div');\n",
       "          docLink.innerHTML = docLinkHtml;\n",
       "          element.appendChild(docLink);\n",
       "        }\n",
       "      </script>\n",
       "    </div>\n",
       "  </div>\n",
       "  "
      ],
      "text/plain": [
       "     RID DAYS    AGE   MMSE        EICV  BRAINVOL   CDR Converted Group  \\\n",
       "754  300  195 56.400 28.000 1803380.000  1400.909 1.000         0    AD   \n",
       "\n",
       "     counts  num_MRI  \n",
       "754       2        5  "
      ]
     },
     "execution_count": 18,
     "metadata": {},
     "output_type": "execute_result"
    }
   ],
   "source": [
    "outlier = np.nanmean(AD_BV_D) + ((BV_ZSCORE_AD[BV_ZSCORE_AD>3.28])*np.nanstd(AD_BV_D))\n",
    "print(outlier)\n",
    "ADNI_D.loc[ADNI_D['BRAINVOL']==float(outlier)]"
   ]
  },
  {
   "cell_type": "code",
   "execution_count": 16,
   "id": "ece57990",
   "metadata": {
    "colab": {
     "base_uri": "https://localhost:8080/"
    },
    "id": "ece57990",
    "outputId": "4e5cc183-c622-4985-b712-1d1624571d10"
   },
   "outputs": [
    {
     "name": "stderr",
     "output_type": "stream",
     "text": [
      "/usr/local/lib/python3.8/dist-packages/pandas/core/frame.py:4906: SettingWithCopyWarning: \n",
      "A value is trying to be set on a copy of a slice from a DataFrame\n",
      "\n",
      "See the caveats in the documentation: https://pandas.pydata.org/pandas-docs/stable/user_guide/indexing.html#returning-a-view-versus-a-copy\n",
      "  return super().drop(\n"
     ]
    }
   ],
   "source": [
    "ADNI_D.drop(754,inplace=True)"
   ]
  },
  {
   "cell_type": "markdown",
   "id": "36e15492",
   "metadata": {
    "id": "36e15492"
   },
   "source": [
    "# Machine Learning - Support Vector Machine"
   ]
  },
  {
   "cell_type": "code",
   "execution_count": 17,
   "id": "51ba2a7d",
   "metadata": {
    "id": "51ba2a7d"
   },
   "outputs": [],
   "source": [
    "from sklearn.model_selection import train_test_split\n",
    "from sklearn.svm import SVC\n",
    "from sklearn.metrics import classification_report, confusion_matrix\n",
    "from sklearn import metrics"
   ]
  },
  {
   "cell_type": "markdown",
   "id": "8b1f0767",
   "metadata": {
    "id": "8b1f0767"
   },
   "source": [
    "# Data structures for converted groups"
   ]
  },
  {
   "cell_type": "code",
   "execution_count": 18,
   "id": "107336e9",
   "metadata": {
    "id": "107336e9"
   },
   "outputs": [],
   "source": [
    "# to avoid missing values dataframes are cut to 207 as this is the smallest length of one of the dataframes\n",
    "BV3 = ADNI_D.loc[(ADNI_D['BRAINVOL'].notnull())&(ADNI_D['Group']=='MCI')&(ADNI_D['Converted']==3),'BRAINVOL'][0:207]\n",
    "IV3 = ADNI_D.loc[(ADNI_D['EICV'].notnull())&(ADNI_D['Group']=='MCI')&(ADNI_D['Converted']==3),'EICV'][0:207]\n",
    "\n",
    "\n",
    "BV0 = ADNI_D.loc[(ADNI_D['BRAINVOL'].notnull())&(ADNI_D['Group']=='MCI')&(ADNI_D['Converted']==0),'BRAINVOL'][0:207]\n",
    "IV0 = ADNI_D.loc[(ADNI_D['EICV'].notnull())&(ADNI_D['Group']=='MCI')&(ADNI_D['Converted']==0),'EICV'][0:207]\n",
    "\n"
   ]
  },
  {
   "cell_type": "code",
   "execution_count": 19,
   "id": "b05eb8ff",
   "metadata": {
    "id": "b05eb8ff"
   },
   "outputs": [],
   "source": [
    "\n",
    "BV = pd.concat([BV3,BV0],ignore_index=True)\n",
    "BV = (BV-min(BV))/(max(BV)-min(BV))\n",
    "\n",
    "IV = pd.concat([IV3,IV0],ignore_index=True)\n",
    "IV = (IV-min(IV))/(max(IV)-min(IV))\n",
    "\n",
    "ones = pd.Series(np.ones(207))\n",
    "zeros = pd.Series(np.zeros(207))\n",
    "labels = pd.concat([ones,zeros],ignore_index=True)\n",
    "\n",
    "converted = pd.concat([BV,IV,labels], ignore_index=True, axis=1)\n",
    "\n"
   ]
  },
  {
   "cell_type": "code",
   "execution_count": 21,
   "id": "c369d72b",
   "metadata": {
    "id": "c369d72b"
   },
   "outputs": [],
   "source": [
    "X = converted.drop(2,axis=1)\n",
    "y = converted[2]"
   ]
  },
  {
   "cell_type": "code",
   "execution_count": 22,
   "id": "72f1913d",
   "metadata": {
    "id": "72f1913d"
   },
   "outputs": [],
   "source": [
    "X_train, X_test, y_train, y_test = train_test_split(X, y, test_size = 0.4)"
   ]
  },
  {
   "cell_type": "markdown",
   "id": "c621fae2",
   "metadata": {
    "id": "c621fae2"
   },
   "source": [
    "# Training support vector machine"
   ]
  },
  {
   "cell_type": "markdown",
   "id": "c831a231",
   "metadata": {
    "id": "c831a231"
   },
   "source": [
    "# polynomial kernel"
   ]
  },
  {
   "cell_type": "code",
   "execution_count": null,
   "id": "beb5338d",
   "metadata": {
    "id": "beb5338d",
    "scrolled": true
   },
   "outputs": [],
   "source": [
    "svclassifier = SVC(kernel='poly', degree=8)\n",
    "svclassifier.fit(X_train, y_train)"
   ]
  },
  {
   "cell_type": "code",
   "execution_count": null,
   "id": "9b55124d",
   "metadata": {
    "id": "9b55124d"
   },
   "outputs": [],
   "source": [
    "y_pred = svclassifier.predict(X_test)"
   ]
  },
  {
   "cell_type": "code",
   "execution_count": null,
   "id": "1fdc8fe1",
   "metadata": {
    "id": "1fdc8fe1",
    "outputId": "b8492e4c-4e67-45b9-c026-7ec32e45bec1"
   },
   "outputs": [
    {
     "name": "stdout",
     "output_type": "stream",
     "text": [
      "[[50 34]\n",
      " [33 49]]\n",
      "              precision    recall  f1-score   support\n",
      "\n",
      "         0.0       0.60      0.60      0.60        84\n",
      "         1.0       0.59      0.60      0.59        82\n",
      "\n",
      "    accuracy                           0.60       166\n",
      "   macro avg       0.60      0.60      0.60       166\n",
      "weighted avg       0.60      0.60      0.60       166\n",
      "\n",
      "Accuracy: 0.5963855421686747\n"
     ]
    }
   ],
   "source": [
    "print(confusion_matrix(y_test, y_pred))\n",
    "print(classification_report(y_test, y_pred))\n",
    "print(\"Accuracy:\",metrics.accuracy_score(y_test, y_pred))"
   ]
  },
  {
   "cell_type": "markdown",
   "id": "be6bb198",
   "metadata": {
    "id": "be6bb198"
   },
   "source": [
    "# Gaussian Kernel"
   ]
  },
  {
   "cell_type": "code",
   "execution_count": null,
   "id": "ec4da884",
   "metadata": {
    "id": "ec4da884",
    "outputId": "afdda35e-7803-4deb-eeaf-45b36193e301"
   },
   "outputs": [
    {
     "data": {
      "text/plain": [
       "SVC()"
      ]
     },
     "execution_count": 144,
     "metadata": {},
     "output_type": "execute_result"
    }
   ],
   "source": [
    "from sklearn.svm import SVC\n",
    "svclassifier = SVC(kernel='rbf')\n",
    "svclassifier.fit(X_train, y_train)"
   ]
  },
  {
   "cell_type": "code",
   "execution_count": null,
   "id": "88d4f059",
   "metadata": {
    "id": "88d4f059"
   },
   "outputs": [],
   "source": [
    "y_pred = svclassifier.predict(X_test)"
   ]
  },
  {
   "cell_type": "code",
   "execution_count": null,
   "id": "e0e46e6f",
   "metadata": {
    "id": "e0e46e6f",
    "outputId": "d6b7ea78-b1bf-4d01-e1d9-919120879063"
   },
   "outputs": [
    {
     "name": "stdout",
     "output_type": "stream",
     "text": [
      "[[61 23]\n",
      " [41 41]]\n",
      "              precision    recall  f1-score   support\n",
      "\n",
      "         0.0       0.60      0.73      0.66        84\n",
      "         1.0       0.64      0.50      0.56        82\n",
      "\n",
      "    accuracy                           0.61       166\n",
      "   macro avg       0.62      0.61      0.61       166\n",
      "weighted avg       0.62      0.61      0.61       166\n",
      "\n",
      "Accuracy: 0.6144578313253012\n"
     ]
    }
   ],
   "source": [
    "print(confusion_matrix(y_test, y_pred))\n",
    "print(classification_report(y_test, y_pred))\n",
    "print(\"Accuracy:\",metrics.accuracy_score(y_test, y_pred))"
   ]
  },
  {
   "cell_type": "markdown",
   "id": "02739454",
   "metadata": {
    "id": "02739454"
   },
   "source": [
    "# Sigmoid kernel"
   ]
  },
  {
   "cell_type": "code",
   "execution_count": null,
   "id": "bfb2feed",
   "metadata": {
    "id": "bfb2feed",
    "outputId": "34ee63f8-5ceb-4d06-8f70-a3e1ce993965"
   },
   "outputs": [
    {
     "data": {
      "text/plain": [
       "SVC(kernel='sigmoid')"
      ]
     },
     "execution_count": 147,
     "metadata": {},
     "output_type": "execute_result"
    }
   ],
   "source": [
    "svclassifier = SVC(kernel='sigmoid')\n",
    "svclassifier.fit(X_train, y_train)"
   ]
  },
  {
   "cell_type": "code",
   "execution_count": null,
   "id": "99f6b3d0",
   "metadata": {
    "id": "99f6b3d0"
   },
   "outputs": [],
   "source": [
    "y_pred = svclassifier.predict(X_test)"
   ]
  },
  {
   "cell_type": "code",
   "execution_count": null,
   "id": "06d3c0d6",
   "metadata": {
    "id": "06d3c0d6",
    "outputId": "796e08dd-9593-455f-cc51-4958158cc5b0"
   },
   "outputs": [
    {
     "name": "stdout",
     "output_type": "stream",
     "text": [
      "[[ 2 82]\n",
      " [10 72]]\n",
      "              precision    recall  f1-score   support\n",
      "\n",
      "         0.0       0.17      0.02      0.04        84\n",
      "         1.0       0.47      0.88      0.61        82\n",
      "\n",
      "    accuracy                           0.45       166\n",
      "   macro avg       0.32      0.45      0.33       166\n",
      "weighted avg       0.32      0.45      0.32       166\n",
      "\n",
      "Accuracy: 0.4457831325301205\n"
     ]
    }
   ],
   "source": [
    "print(confusion_matrix(y_test, y_pred))\n",
    "print(classification_report(y_test, y_pred))\n",
    "print(\"Accuracy:\",metrics.accuracy_score(y_test, y_pred))"
   ]
  },
  {
   "cell_type": "markdown",
   "id": "59a9f653",
   "metadata": {
    "id": "59a9f653"
   },
   "source": [
    "# Deep learning - inception model"
   ]
  },
  {
   "cell_type": "code",
   "execution_count": 20,
   "id": "kRVZzJyMGOoy",
   "metadata": {
    "id": "kRVZzJyMGOoy"
   },
   "outputs": [],
   "source": [
    "from keras import layers, Input, Model, regularizers\n",
    "import tensorflow as tf\n",
    "from math import trunc\n",
    "\n",
    "\n",
    "# Mini version of an inception model using tensorflow subclassing\n",
    "\n",
    "class ConvertedModel(tf.keras.Model):\n",
    "  \n",
    "\n",
    "  def __init__(self):\n",
    "\n",
    "    # initialize layers as attributes\n",
    "    super(ConvertedModel,self).__init__()\n",
    "    self.flatten = tf.keras.layers.Flatten()\n",
    "    self.dropout = tf.keras.layers.Dropout(0.2)\n",
    "    self.branch_a = tf.keras.layers.Dense(64, activation=tf.nn.relu, kernel_regularizer=regularizers.l2(1e-2))\n",
    "    \n",
    "    self.branch_b = tf.keras.layers.Dense(64, activation=tf.nn.relu)\n",
    "    self.branch_b2 = tf.keras.layers.Dense(64, activation=tf.nn.relu, kernel_regularizer=regularizers.l2(1e-2))\n",
    "\n",
    "    self.branch_c = tf.keras.layers.Dense(64, activation=tf.nn.relu)\n",
    "    self.branch_c2 = tf.keras.layers.Dense(64, activation=tf.nn.relu, kernel_regularizer=regularizers.l2(1e-2))\n",
    "\n",
    "    self.branch_d = tf.keras.layers.Dense(64, activation=tf.nn.relu)\n",
    "    self.branch_d2 = tf.keras.layers.Dense(64, activation=tf.nn.relu)\n",
    "    self.branch_d3 = tf.keras.layers.Dense(64, activation=tf.nn.relu, kernel_regularizer=regularizers.l2(1e-2))\n",
    "\n",
    "    self.concat = tf.keras.layers.Concatenate()\n",
    "    self.diagnose = tf.keras.layers.Dense(1, activation=tf.nn.sigmoid)\n",
    "    \n",
    "\n",
    "  # override call function to build model\n",
    "  def call(self, inputs):\n",
    "    flatten = self.flatten(inputs)\n",
    "    a = self.branch_a(flatten)\n",
    "\n",
    "    b = self.branch_b(flatten)\n",
    "    b = self.branch_b2(b)\n",
    "      \n",
    "    c = self.branch_c(flatten)\n",
    "    c = self.branch_c2(c)\n",
    "\n",
    "    d = self.branch_d(flatten)\n",
    "    d = self.branch_d2(d)\n",
    "    d = self.branch_d3(d)\n",
    "\n",
    "    output = self.concat([a,b,c,d])\n",
    "    dropout = self.dropout(output)\n",
    "\n",
    "    x = self.diagnose(output)\n",
    "    \n",
    "    return x"
   ]
  },
  {
   "cell_type": "code",
   "execution_count": 21,
   "id": "B3CuRgOC5qKF",
   "metadata": {
    "colab": {
     "base_uri": "https://localhost:8080/"
    },
    "id": "B3CuRgOC5qKF",
    "outputId": "5384ff1f-53ef-4ea1-f49b-a69c8de0e8e3"
   },
   "outputs": [
    {
     "name": "stdout",
     "output_type": "stream",
     "text": [
      "(414, 3)\n"
     ]
    }
   ],
   "source": [
    "BV = converted[0]\n",
    "IV = converted[1]\n",
    "labels = converted[2]\n",
    "print(converted.shape)"
   ]
  },
  {
   "cell_type": "code",
   "execution_count": 22,
   "id": "9KlgKCYz1FeR",
   "metadata": {
    "id": "9KlgKCYz1FeR"
   },
   "outputs": [],
   "source": [
    "# make seperate data strucs for IV and BV, make multi input model\n",
    "\n",
    "\n",
    "indices = np.arange(converted.shape[0]) \n",
    "np.random.shuffle(indices) \n",
    "training_samples = trunc(len(converted)*2/3) \n",
    "validation_samples = trunc(len(converted)*1/6)\n",
    "\n",
    "\n",
    "iv_data = IV[indices]\n",
    "bv_data = BV[indices]\n",
    "labels = labels[indices]\n",
    "\n",
    "y_train = labels[:training_samples]\n",
    "x_train = converted[[0,1]][:training_samples]\n",
    "\n",
    "x_val = converted[[0,1]][training_samples:training_samples+validation_samples+1]\n",
    "y_val = labels[training_samples:training_samples+validation_samples+1]\n",
    "\n",
    "x_test = converted[[0,1]][training_samples+validation_samples+1:training_samples+validation_samples+1+validation_samples]\n",
    "y_test = labels[training_samples+validation_samples+1:training_samples+validation_samples+1+validation_samples]\n",
    "\n"
   ]
  },
  {
   "cell_type": "code",
   "execution_count": 25,
   "id": "ed-mQVG4HxQy",
   "metadata": {
    "colab": {
     "base_uri": "https://localhost:8080/"
    },
    "id": "ed-mQVG4HxQy",
    "outputId": "eee43115-1d97-43ce-c75b-8b4cd9ce1d4b"
   },
   "outputs": [
    {
     "data": {
      "text/plain": [
       "<KerasTensor: shape=(None, 1) dtype=float32 (created by layer 'converted_model')>"
      ]
     },
     "execution_count": 25,
     "metadata": {},
     "output_type": "execute_result"
    }
   ],
   "source": [
    "input = Input(shape=(2,))\n",
    "\n",
    "model = ConvertedModel()\n",
    "model(input) # call function"
   ]
  },
  {
   "cell_type": "code",
   "execution_count": 32,
   "id": "S4xap6sLrxBv",
   "metadata": {
    "colab": {
     "base_uri": "https://localhost:8080/"
    },
    "id": "S4xap6sLrxBv",
    "outputId": "d03eafef-55b4-4ec5-cf2a-428394a7ea75"
   },
   "outputs": [
    {
     "name": "stdout",
     "output_type": "stream",
     "text": [
      "Epoch 1/40\n",
      "9/9 [==============================] - 2s 37ms/step - loss: 0.6933 - acc: 0.5036 - val_loss: 0.6950 - val_acc: 0.5286\n",
      "Epoch 2/40\n",
      "9/9 [==============================] - 0s 7ms/step - loss: 0.6938 - acc: 0.4964 - val_loss: 0.6955 - val_acc: 0.5143\n",
      "Epoch 3/40\n",
      "9/9 [==============================] - 0s 9ms/step - loss: 0.6929 - acc: 0.4819 - val_loss: 0.6958 - val_acc: 0.5000\n",
      "Epoch 4/40\n",
      "9/9 [==============================] - 0s 8ms/step - loss: 0.6929 - acc: 0.4928 - val_loss: 0.6955 - val_acc: 0.5000\n",
      "Epoch 5/40\n",
      "9/9 [==============================] - 0s 7ms/step - loss: 0.6926 - acc: 0.5362 - val_loss: 0.6962 - val_acc: 0.4857\n",
      "Epoch 6/40\n",
      "9/9 [==============================] - 0s 8ms/step - loss: 0.6927 - acc: 0.5072 - val_loss: 0.6957 - val_acc: 0.5000\n",
      "Epoch 7/40\n",
      "9/9 [==============================] - 0s 9ms/step - loss: 0.6927 - acc: 0.5000 - val_loss: 0.6950 - val_acc: 0.5714\n",
      "Epoch 8/40\n",
      "9/9 [==============================] - 0s 10ms/step - loss: 0.6928 - acc: 0.5000 - val_loss: 0.6948 - val_acc: 0.5429\n",
      "Epoch 9/40\n",
      "9/9 [==============================] - 0s 8ms/step - loss: 0.6929 - acc: 0.5254 - val_loss: 0.6948 - val_acc: 0.5571\n",
      "Epoch 10/40\n",
      "9/9 [==============================] - 0s 9ms/step - loss: 0.6923 - acc: 0.5399 - val_loss: 0.6953 - val_acc: 0.5000\n",
      "Epoch 11/40\n",
      "9/9 [==============================] - 0s 7ms/step - loss: 0.6928 - acc: 0.5072 - val_loss: 0.6953 - val_acc: 0.4857\n",
      "Epoch 12/40\n",
      "9/9 [==============================] - 0s 7ms/step - loss: 0.6927 - acc: 0.5145 - val_loss: 0.6950 - val_acc: 0.5714\n",
      "Epoch 13/40\n",
      "9/9 [==============================] - 0s 9ms/step - loss: 0.6934 - acc: 0.5109 - val_loss: 0.6949 - val_acc: 0.5429\n",
      "Epoch 14/40\n",
      "9/9 [==============================] - 0s 7ms/step - loss: 0.6922 - acc: 0.5399 - val_loss: 0.6952 - val_acc: 0.5286\n",
      "Epoch 15/40\n",
      "9/9 [==============================] - 0s 9ms/step - loss: 0.6930 - acc: 0.5072 - val_loss: 0.6951 - val_acc: 0.5714\n",
      "Epoch 16/40\n",
      "9/9 [==============================] - 0s 9ms/step - loss: 0.6932 - acc: 0.5036 - val_loss: 0.6949 - val_acc: 0.5429\n",
      "Epoch 17/40\n",
      "9/9 [==============================] - 0s 10ms/step - loss: 0.6920 - acc: 0.5290 - val_loss: 0.6947 - val_acc: 0.5429\n",
      "Epoch 18/40\n",
      "9/9 [==============================] - 0s 18ms/step - loss: 0.6928 - acc: 0.5072 - val_loss: 0.6946 - val_acc: 0.5429\n",
      "Epoch 19/40\n",
      "9/9 [==============================] - 0s 14ms/step - loss: 0.6922 - acc: 0.5362 - val_loss: 0.6946 - val_acc: 0.5571\n",
      "Epoch 20/40\n",
      "9/9 [==============================] - 0s 12ms/step - loss: 0.6926 - acc: 0.5072 - val_loss: 0.6951 - val_acc: 0.5714\n",
      "Epoch 21/40\n",
      "9/9 [==============================] - 0s 18ms/step - loss: 0.6923 - acc: 0.5181 - val_loss: 0.6956 - val_acc: 0.5286\n",
      "Epoch 22/40\n",
      "9/9 [==============================] - 0s 14ms/step - loss: 0.6926 - acc: 0.5217 - val_loss: 0.6955 - val_acc: 0.5286\n",
      "Epoch 23/40\n",
      "9/9 [==============================] - 0s 13ms/step - loss: 0.6924 - acc: 0.5254 - val_loss: 0.6960 - val_acc: 0.5143\n",
      "Epoch 24/40\n",
      "9/9 [==============================] - 0s 14ms/step - loss: 0.6919 - acc: 0.5109 - val_loss: 0.6953 - val_acc: 0.5571\n",
      "Epoch 25/40\n",
      "9/9 [==============================] - 0s 15ms/step - loss: 0.6925 - acc: 0.5145 - val_loss: 0.6964 - val_acc: 0.4857\n",
      "Epoch 26/40\n",
      "9/9 [==============================] - 0s 14ms/step - loss: 0.6922 - acc: 0.5217 - val_loss: 0.6961 - val_acc: 0.5286\n",
      "Epoch 27/40\n",
      "9/9 [==============================] - 0s 12ms/step - loss: 0.6922 - acc: 0.5036 - val_loss: 0.6957 - val_acc: 0.5571\n",
      "Epoch 28/40\n",
      "9/9 [==============================] - 0s 14ms/step - loss: 0.6929 - acc: 0.5000 - val_loss: 0.6962 - val_acc: 0.5286\n",
      "Epoch 29/40\n",
      "9/9 [==============================] - 0s 12ms/step - loss: 0.6920 - acc: 0.5109 - val_loss: 0.6961 - val_acc: 0.5429\n",
      "Epoch 30/40\n",
      "9/9 [==============================] - 0s 12ms/step - loss: 0.6928 - acc: 0.4964 - val_loss: 0.6956 - val_acc: 0.5571\n",
      "Epoch 31/40\n",
      "9/9 [==============================] - 0s 13ms/step - loss: 0.6922 - acc: 0.5217 - val_loss: 0.6954 - val_acc: 0.5429\n",
      "Epoch 32/40\n",
      "9/9 [==============================] - 0s 11ms/step - loss: 0.6926 - acc: 0.5254 - val_loss: 0.6953 - val_acc: 0.5429\n",
      "Epoch 33/40\n",
      "9/9 [==============================] - 0s 14ms/step - loss: 0.6921 - acc: 0.5145 - val_loss: 0.6949 - val_acc: 0.5286\n",
      "Epoch 34/40\n",
      "9/9 [==============================] - 0s 12ms/step - loss: 0.6921 - acc: 0.5290 - val_loss: 0.6955 - val_acc: 0.5571\n",
      "Epoch 35/40\n",
      "9/9 [==============================] - 0s 12ms/step - loss: 0.6924 - acc: 0.5181 - val_loss: 0.6957 - val_acc: 0.5571\n",
      "Epoch 36/40\n",
      "9/9 [==============================] - 0s 14ms/step - loss: 0.6923 - acc: 0.5254 - val_loss: 0.6955 - val_acc: 0.5429\n",
      "Epoch 37/40\n",
      "9/9 [==============================] - 0s 12ms/step - loss: 0.6918 - acc: 0.5471 - val_loss: 0.6961 - val_acc: 0.5429\n",
      "Epoch 38/40\n",
      "9/9 [==============================] - 0s 10ms/step - loss: 0.6920 - acc: 0.5326 - val_loss: 0.6959 - val_acc: 0.5143\n",
      "Epoch 39/40\n",
      "9/9 [==============================] - 0s 10ms/step - loss: 0.6924 - acc: 0.5362 - val_loss: 0.6955 - val_acc: 0.5571\n",
      "Epoch 40/40\n",
      "9/9 [==============================] - 0s 10ms/step - loss: 0.6923 - acc: 0.5326 - val_loss: 0.6967 - val_acc: 0.5286\n"
     ]
    }
   ],
   "source": [
    "model.compile(optimizer='rmsprop', loss='binary_crossentropy',metrics=['acc'])\n",
    "history = model.fit(x_train, y_train, epochs=40, batch_size=32, validation_data=(x_val, y_val))"
   ]
  },
  {
   "cell_type": "code",
   "execution_count": 28,
   "id": "aPH13Dgfgbym",
   "metadata": {
    "id": "aPH13Dgfgbym"
   },
   "outputs": [],
   "source": [
    "# function to plot results for all models\n",
    "\n",
    "def plot_results(accc,val_accc,losss,val_losss):\n",
    "  epochs = range(1,len(accc)+1)\n",
    "  plt.plot(epochs, accc, 'bo', label='Training acc')\n",
    "  plt.plot(epochs, val_accc, 'b', label='Validation acc')\n",
    "  plt.xlabel(\"epoch\")\n",
    "  plt.ylabel(\"accuracy\")\n",
    "  plt.title('Training and validation accuracy')\n",
    "  plt.legend()\n",
    "\n",
    "  plt.figure()\n",
    "\n",
    "  plt.plot(epochs, losss, 'bo', label='Training loss')\n",
    "  plt.plot(epochs, val_losss, 'b', label='Validation loss')\n",
    "  plt.xlabel(\"epoch\")\n",
    "  plt.ylabel(\"loss\")\n",
    "  plt.title('Training and validation loss')\n",
    "  plt.legend()\n",
    "  plt.show()"
   ]
  },
  {
   "cell_type": "code",
   "execution_count": 33,
   "id": "b65r4sdWggY2",
   "metadata": {
    "colab": {
     "base_uri": "https://localhost:8080/",
     "height": 573
    },
    "id": "b65r4sdWggY2",
    "outputId": "b0197a90-7711-4b66-9959-ddbaa7af833a"
   },
   "outputs": [
    {
     "data": {
      "image/png": "[encoded data removed]",
      "text/plain": [
       "<Figure size 432x288 with 1 Axes>"
      ]
     },
     "metadata": {
      "needs_background": "light"
     },
     "output_type": "display_data"
    },
    {
     "data": {
      "image/png": "[encoded data removed]",
      "text/plain": [
       "<Figure size 432x288 with 1 Axes>"
      ]
     },
     "metadata": {
      "needs_background": "light"
     },
     "output_type": "display_data"
    }
   ],
   "source": [
    "plot_results(history.history['acc'],history.history['val_acc'],history.history['loss'],history.history['val_loss'])"
   ]
  },
  {
   "cell_type": "markdown",
   "id": "1z-eTO8C6zAh",
   "metadata": {
    "id": "1z-eTO8C6zAh"
   },
   "source": [
    "It is not possible to accuratley analyse these results as there was not enough data for the algorithm to perform properly. However, validation loss remained higher than validation loss suggesting overfitting, both accuracies seem to fluctuate around the same values between 0.48 and 0.56 which are close to chance for binary classification.\n",
    "\n",
    "Nonetheless, I will train the full dataset with ~ 5 epochs as this is where the model performed best."
   ]
  },
  {
   "cell_type": "code",
   "execution_count": 23,
   "id": "6_wFSB8RlKNA",
   "metadata": {
    "id": "6_wFSB8RlKNA"
   },
   "outputs": [],
   "source": [
    "full_x_train = pd.concat([converted[0][indices],converted[1][indices]], ignore_index=True, axis=1)\n",
    "full_y_train = labels[indices]"
   ]
  },
  {
   "cell_type": "code",
   "execution_count": 45,
   "id": "-Ixtcbffh4sE",
   "metadata": {
    "colab": {
     "base_uri": "https://localhost:8080/"
    },
    "id": "-Ixtcbffh4sE",
    "outputId": "458d2b48-b17e-405b-a719-86aea8469220"
   },
   "outputs": [
    {
     "name": "stdout",
     "output_type": "stream",
     "text": [
      "Epoch 1/3\n",
      "13/13 [==============================] - 0s 3ms/step - loss: 0.6782 - acc: 0.5870\n",
      "Epoch 2/3\n",
      "13/13 [==============================] - 0s 3ms/step - loss: 0.6765 - acc: 0.5942\n",
      "Epoch 3/3\n",
      "13/13 [==============================] - 0s 3ms/step - loss: 0.6767 - acc: 0.5870\n"
     ]
    }
   ],
   "source": [
    "history2 = model.fit(full_x_train, full_y_train, epochs=3, batch_size=32)"
   ]
  },
  {
   "cell_type": "code",
   "execution_count": 46,
   "id": "F7xGWzsrPq-X",
   "metadata": {
    "colab": {
     "base_uri": "https://localhost:8080/",
     "height": 573
    },
    "id": "F7xGWzsrPq-X",
    "outputId": "d84ab165-aa2e-4317-a2d0-934df209c8d1"
   },
   "outputs": [
    {
     "data": {
      "image/png": "[encoded data removed]",
      "text/plain": [
       "<Figure size 432x288 with 1 Axes>"
      ]
     },
     "metadata": {
      "needs_background": "light"
     },
     "output_type": "display_data"
    },
    {
     "data": {
      "image/png": "[encoded data removed]",
      "text/plain": [
       "<Figure size 432x288 with 1 Axes>"
      ]
     },
     "metadata": {
      "needs_background": "light"
     },
     "output_type": "display_data"
    }
   ],
   "source": [
    "\n",
    "epochs = range(1,len(history2.history['acc'])+1)\n",
    "plt.plot(epochs, history2.history['acc'], 'bo', label='Training acc')\n",
    "plt.xlabel(\"epoch\")\n",
    "plt.ylabel(\"accuracy\")\n",
    "plt.title('Training and validation accuracy')\n",
    "plt.legend()\n",
    "\n",
    "plt.figure()\n",
    "\n",
    "plt.plot(epochs, history2.history['loss'], 'bo', label='Training loss')\n",
    "plt.xlabel(\"epoch\")\n",
    "plt.ylabel(\"loss\")\n",
    "plt.title('Training and validation loss')\n",
    "plt.legend()\n",
    "plt.show()"
   ]
  },
  {
   "cell_type": "markdown",
   "id": "ue8QVBKK51Gi",
   "metadata": {
    "id": "ue8QVBKK51Gi"
   },
   "source": [
    "# Conclusion\n",
    "\n",
    "The Gaussian support vector machine was the best performing algorithm for this task, however, I did not form an ensemble of deep learning models which may have produced a better result, though, this would have largely increased the parameters which would increase degrees of freedom and lead to overfitting with a small dataset.\n",
    "\n",
    "There is a pretrained model called MedNet being developed, this model utilizes millions of MRI images to solve the problem of limited medical imaging data through transfer learning [15]."
   ]
  },
  {
   "cell_type": "markdown",
   "id": "c73eebf1",
   "metadata": {
    "id": "c73eebf1"
   },
   "source": [
    "# References\n",
    "\n",
    "[1] Mayo Clinic, “Alzheimer's disease,” Mayo Clinic, 19-Feb-2022. [Online]. Available: https://www.mayoclinic.org/diseases-conditions/alzheimers-disease/symptoms-causes/syc-20350447#:~:text=There%20is%20no%20treatment%20that,or%20infection%20%E2%80%94%20result%20in%20death. [Accessed: 06-Dec-2022]. \n",
    "\n",
    "[2] Centers for Disease Control and Prevention, “About dementia?,” Centers for Disease Control and Prevention, 05-Apr-2019. [Online]. Available: https://www.cdc.gov/aging/dementia/index.html#:~:text=Dementia%20is%20not%20a%20specific,a%20part%20of%20normal%20aging. [Accessed: 06-Dec-2022]. \n",
    "\n",
    "[3] D. E. Barnes and K. Yaffe, “The projected effect of risk factor reduction on alzheimer's disease prevalence,” The Lancet Neurology, vol. 10, no. 9, pp. 819–828, 2011. \n",
    "\n",
    "[4] M. Van Bulck, A. Sierra-Magro, J. Alarcon-Gil, A. Perez-Castillo, and J. Morales-Garcia, “Novel approaches for the treatment of alzheimer’s and parkinson’s disease,” International Journal of Molecular Sciences, vol. 20, no. 3, p. 719, 2019. \n",
    "\n",
    "[5] G. Moya-Alvarado, N. Gershoni-Emek, E. Perlson, and F. C. Bronfman, “Neurodegeneration and alzheimer's disease (AD). what can proteomics tell us about the alzheimer's brain?,” Molecular &amp; Cellular Proteomics, vol. 15, no. 2, pp. 409–425, 2016. \n",
    "\n",
    "[6] M. S. Albert et al., “The diagnosis of mild cognitive impairment due to alzheimer's disease: Recommendations from the National Institute on aging‐alzheimer's association workgroups on diagnostic guidelines for alzheimer's disease,” Alzheimer's &amp; Dementia, vol. 7, no. 3, pp. 270–279, 2011. \n",
    "\n",
    "[7] R. A. Sperling et al., “Toward defining the preclinical stages of alzheimer's disease: Recommendations from the National Institute on aging‐alzheimer's association workgroups on diagnostic guidelines for alzheimer's disease,” Alzheimer's &amp; Dementia, vol. 7, no. 3, pp. 280–292, 2011. \n",
    "\n",
    "[8] C. R. Jack et al., “Nia‐AA Research Framework: Toward a biological definition of alzheimer's disease,” Alzheimer's &amp; Dementia, vol. 14, no. 4, pp. 535–562, 2018. \n",
    "\n",
    "[9] C. Mathis, Y. Wang, and W. Klunk, “Imaging β-amyloid plaques and neurofibrillary tangles in the aging human brain,” Current Pharmaceutical Design, vol. 10, no. 13, pp. 1469–1492, 2004. \n",
    "\n",
    "[10] A. J. Mitchell and M. Shiri-Feshki, “Rate of progression of mild cognitive impairment to dementia - meta-analysis of 41 robust inception cohort studies,” Acta Psychiatrica Scandinavica, vol. 119, no. 4, pp. 252–265, 2009. \n",
    "\n",
    "[11] D. Purves, “Brain Imaging Techniques,” in Neuroscience, Sunderland, MA: Sinauer Associates, 2012. \n",
    "\n",
    "[12] A. Chandra, G. Dervenoulas, and M. Politis, “Magnetic Resonance Imaging in alzheimer’s disease and mild cognitive impairment,” Journal of Neurology, vol. 266, no. 6, pp. 1293–1302, 2018. \n",
    "\n",
    "[13] L. Nanni, M. Interlenghi, S. Brahnam, C. Salvatore, S. Papa, R. Nemni, I. Castiglioni, and Alzheimer's Disease Neuroimaging Initiative, “Comparison of transfer learning and conventional machine learning applied to structural brain MRI for the early diagnosis and prognosis of alzheimer's disease,” Frontiers in neurology, 05-Nov-2020. [Online]. Available: https://www.ncbi.nlm.nih.gov/pmc/articles/PMC7674838/. [Accessed: 15-Jan-2023]. \n",
    "\n",
    "[14] B. G. Tabachnick and L. S. Fidell, Using multivariate statistics, 7th ed. Upper Saddle River, NJ: Pearson, 2018.\n",
    "\n",
    "[15] L. Alzubaidi, J. Santamaría, M. Manoufali, B. Mohammed, M. A. Fadhel, J. Zhang, A. H. Al-Timemy, O. Al-Shamma, and Y. Duan, “MedNet: Pre-trained convolutional neural network model for the medical imaging tasks,” arXiv.org, 13-Oct-2021. [Online]. Available: https://arxiv.org/abs/2110.06512. [Accessed: 16-Jan-2023]. "
   ]
  },
  {
   "cell_type": "code",
   "execution_count": null,
   "id": "d8c40733",
   "metadata": {
    "collapsed": true,
    "id": "d8c40733"
   },
   "outputs": [],
   "source": []
  },
  {
   "cell_type": "code",
   "execution_count": null,
   "id": "712e3fca",
   "metadata": {
    "id": "712e3fca"
   },
   "outputs": [],
   "source": []
  }
 ],
 "metadata": {
  "colab": {
   "provenance": []
  },
  "gpuClass": "standard",
  "kernelspec": {
   "display_name": "Python 3 (ipykernel)",
   "language": "python",
   "name": "python3"
  },
  "language_info": {
   "codemirror_mode": {
    "name": "ipython",
    "version": 3
   },
   "file_extension": ".py",
   "mimetype": "text/x-python",
   "name": "python",
   "nbconvert_exporter": "python",
   "pygments_lexer": "ipython3",
   "version": "3.9.12"
  }
 },
 "nbformat": 4,
 "nbformat_minor": 5
}
