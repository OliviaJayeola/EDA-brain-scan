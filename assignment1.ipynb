{
 "cells": [
  {
   "cell_type": "markdown",
   "id": "049e5856",
   "metadata": {},
   "source": [
    "# Investigating Conversion from Mild Cognitive Impairment to Alzheimer's "
   ]
  },
  {
   "cell_type": "markdown",
   "id": "77a260cb",
   "metadata": {},
   "source": [
    "# Contents\n",
    "\n",
    "        1. Introduction\n",
    "            1.1 Research Topic\n",
    "            1.2 Reinforcement learning\n",
    "            \n",
    "        2. Method\n",
    "            2.1 Description of dataset\n",
    "            2.2 Data preparation and cleaning\n",
    "            \n",
    "        3. Analysis"
   ]
  },
  {
   "cell_type": "markdown",
   "id": "88cebd9f",
   "metadata": {},
   "source": [
    "# 0. Limitations\n",
    "\n",
    "Due to the research topic being focused on a specific subset of subjects, namely, subjects with MCI who later converted to Alzheimer's, the sample size was small. The ADNI has a larger sample of this subset of subjects, however, I was given access to this dataset"
   ]
  },
  {
   "cell_type": "markdown",
   "id": "6b534142",
   "metadata": {},
   "source": [
    "\n",
    "\n",
    "# 1. Introduction\n",
    "\n",
    "## 1.1 Research Topic\n",
    "\n",
    "In my research proposal I put together databases from ADNI and OCEAN which invovled a range of longitudinal data pertaining to indicivuals with an Alzheimer's Disease (AD) diagnosis and individuals with Mild Cognitive Impairment (MCI) who were eiter later diagnosed with AD or stayed with MCI. I investigated the relationships between variables, in order to  apply a range of state-of-the-art (SOTA) Artificial Intelligence (AI) techniques andtest their efficacy in predicting MCI cases that would progress to AD/test the predictive power of each feature.\n",
    "\n",
    "progressive MCI (pMCI) and stable MCI (sMCI). - is there a difference?\n",
    "\n",
    "Alzheimer's is a neurodegenerative disorder that most often occurs in older adults and is the most common form of dementia (https://www.cdc.gov/aging/dementia/index.html#:~:text=Dementia%20is%20not%20a%20specific,a%20part%20of%20normal%20aging.). As life expectancy continues to increase cases of AD are expected to triple by 2050 (Barnes and Yaffe, 2011), which makes it is both a personal health and socioeconomic issue. Though there are new treatments being developed and treatments currently being used, there is currently no cure, therefore the stage of progression of the disease plays a role in the effectiveness of said treatments as they can only slow down progression. The earlier a person can be treated the better quality of life they can have, the problem is that, at present, it is not possible for a human to diagnose AD without analysing symptoms, and by that point they would have already developed significant neurodegeration.\n",
    "\n",
    "Cognitinve decline is a normal part of aging, however MCI is a type of impairment that is more severe than normal aging but less severe than dementia; individuals can recover from MCI or remain stable, they can also develop Alzheimer's after being diagnosed with MCI. At this stage, treatment would greatley effect their quality of life and could even prevent them from developning Alzheimer's but it is unclear what seperates MCI patients who develop AD and those who do not.\n",
    "\n",
    "OCEAN and ADNI have formed datasets from MRI data and a range of information such as education level and cognitve test scores, from participants over a period of years. Recent studies explore different features from these datasets using different SOTA AI algoritms and methods including Convolutional Neural Netowrks (CNN) and Support Vector Machines (SVM). These studies usually report accuracy of the models but do not solely focus on which features would lead to the highest predictive power. Although, one study found higher accuracy when the data was combined with neuropsychological test results (Machine learning framework for early MRI-based Alzheimer's conversion prediction in MCI subjects). To my knwoledge there are no studies which focus solely on the predictive power of features.\n",
    "\n",
    "The reason we conducted this Exploratory Data Analysis process is to state the relationship of data explicitly through a graph so that we could assume the correlations before data extraction or data analysis. It might help us to understand the nature of the data and to select the appropriate analysis method for the model later.\n",
    "\n",
    "I aim to predict how many days it may take an individual to develop a certain diagnosis based on their brain scan and MMSE scores. To my knowledge, this factor has not been used in the development of AI models\n",
    "\n",
    "# Magnetic Resonance Imaging (MRI)\n",
    "\n",
    "MRI is a non-invasive neurimaging technique that relies on the magnetic field of atoms within the brain. \n",
    "Good alternative to techniques such as Positron Electron Tomography which invovles the administration of a radioavtive substance. \n",
    "\n",
    "<img src=\"images/MRIAD.png\">\n",
    "\n",
    "Above is an example of an image produced by an MRI scan. There is a slight difference between these two images, namely, the grey area, knwno as grey and white matter, has significantly atrophied in the subject with Alzheimer's. The aim is to train a ML algorithm to learn the complex pattern between different MRI scans for classification.\n",
    "\n",
    "\n",
    "# Computer vision\n",
    "\n",
    "Brain volume data was extracted using computer vision techniques.\n",
    "\n",
    "# Objectives\n",
    "\n",
    "I intend to form a data pipeline to be used for a machine learning algorithm. Data will be grouped on conversion status, namely, whether subjects converted from MCI to AD or remained stable. Insights will be drawn from their brain and intracranial volume data as well as the temporal differences between scans. \n",
    "\n",
    "I aim to collect this data in order to form a ML algorithm that predicts whether a subject with MCI will convert to AD and the amount of days they are predicted to convert."
   ]
  },
  {
   "cell_type": "markdown",
   "id": "7886fb2a",
   "metadata": {},
   "source": [
    "# 2. Method\n",
    "\n"
   ]
  },
  {
   "cell_type": "markdown",
   "id": "0c6b1836",
   "metadata": {},
   "source": [
    "## 2.1 Description of dataset\n",
    "\n",
    "The data used in this project was obtained from two sources, OASIS and ADNI.\n",
    "\n",
    "## Oasis Dataset\n",
    "\n",
    "* Two datasets were put together: Longitudinal and cross sectional\n",
    "    * the longitundinal dataset consists of 150 subjects aged 60 to 96 who had MRI scans on multiple occasions\n",
    "    * the cross sectional dataset consists of 416 subjects aged 18 to 96 who had MRI scans on one occasion\n",
    "    \n",
    "### Brief description of columns\n",
    "\n",
    "|Column  |Desc  |\n",
    "|-------|-------|\n",
    "|EDUC   |Years of education       |\n",
    "|SES    |Socioeconimic status       |\n",
    "|MMSE   |Mini Mental State Examination\n",
    "|CDR    |Clinical Dementia Rating\n",
    "|eTIV   |Estimated Total Intracranial Volume\n",
    "|nWBV   |Normalized Whole Brain Volume\n",
    "|ASF    |Atlas Scaling Factor\n",
    "|Hand   |Right or Left Handed\n",
    "|MR_Delay| Time Between Scans Measured in Days\n",
    "\n",
    "### Further descriptions\n",
    "\n",
    "#### MMSE\n",
    "The Mini Mental State Examination is scored from 0 to 30, 0 being a low score and 30 being a high score. It is an examination of mental state pertaining to cognitive function.\n",
    "\n",
    "#### CDR\n",
    "The clinical dementia rating used in this dataset is a global rating based on six cognitive and behavioural domains. a CDR of 0 indicates no dementia, a CDR of 0.5 is often attributed to MCI but has also been attributed to very mild alzheimer's, a CDR of 1 or above is uniersally attributed to Alzheimrs.\n",
    "\n",
    "#### eTIV\n",
    "eTIV is a standardised measure of intracranial volume which was scaled via the ASF in order to account for different head sizes. eTIV accounts for grey matter, white matter and cerebrospinal fluid\n",
    "\n",
    "#### nWBV\n",
    "nWBV is a normalized measure which was computed via the FST software suite, it computes the probability that a voxel is grey or white matter. It represents the proportion of grey and white matter voxels in the eTIV. The unit of normalized volume is percent\n",
    "\n",
    "## ADNI Dataset\n",
    "\n",
    "### Brief description of columns\n",
    "\n",
    "|Column  |Desc  |\n",
    "|-------|-------|\n",
    "|RID   |Roster ID (Subejct ID)|\n",
    "|CDGLOBAL    |Global Clinical Dementia Rating        |\n",
    "|EXAMDATE   |Date of Scan\n",
    "|EICV    |Estimated Intracranial Volume\n",
    "|BRAINVOL   | Whole Brain Volume\n",
    "|MMSE   | Mini Mental State Examination\n",
    "\n",
    "\n",
    "### Further descriptions\n",
    "\n",
    "#### RID\n",
    "Multiple ID's were generated for subjects between scans, their RID remained the same\n",
    "\n",
    "#### EICV & BRAINVOL\n",
    "These measures use a different scaling method than OASIS\n",
    "\n",
    "# Rationale for the use of these datasets\n",
    "\n",
    "A relational database method was used for this project. I aimed to use multiple datasets in order to increase sample size, however, differnent standardization methods were used for the analysis of MRI so I analysed both datasets seperatley. \n",
    "\n",
    "As MMSE scores are uinversal this data was combined across datasets\n",
    "\n",
    "# Rationale for the use of pandas\n",
    "\n",
    "The datasets used in this project consist of identical ID's for different data. Pandas is able to compute row-wise metadata which greatly assisted in grouping and selecting data from groups. It is also compatible with numpy, which is a library that assisted in numerical operations on data"
   ]
  },
  {
   "cell_type": "markdown",
   "id": "daf89d98",
   "metadata": {},
   "source": [
    "## 2.1 Data cleaning and preparation"
   ]
  },
  {
   "cell_type": "code",
   "execution_count": 1,
   "id": "8411d20b",
   "metadata": {},
   "outputs": [],
   "source": [
    "import pandas as pd\n",
    "import matplotlib.pyplot as plt\n",
    "import numpy as np\n",
    "import re\n",
    "import scipy.stats as stats\n",
    "from sklearn.utils import shuffle\n",
    "from sklearn import linear_model\n",
    "import seaborn as sns\n",
    "from datetime import date\n",
    "# number will be displayed up to 3 decimal places, with no scientific notation\n",
    "pd.options.display.float_format = '{:.3f}'.format\n",
    "\n",
    "#convert MRI csv files to pandas Dataframe\n",
    "df1 = pd.read_csv(\"oasis_longitudinal.csv\")\n",
    "df2 = pd.read_csv(\"oasis_cross-sectional.csv\")\n",
    "\n",
    "#only select relevant fields from dataset\n",
    "fields1 = ['RID','CDGLOBAL','EXAMDATE']\n",
    "CDR_df = pd.read_csv(\"CDR.csv\",usecols=fields1)\n",
    "\n",
    "fields2 = ['RID','EICV','EXAMDATE']\n",
    "IV_df = pd.read_csv(\"UCSDVOL.csv\",usecols=fields2)\n",
    "\n",
    "fields3 = ['RID','BRAINVOL','EXAMDATE']\n",
    "BV_df = pd.read_csv(\"FOXLABBSI_04_29_22.csv\",usecols=fields3)\n",
    "\n",
    "fields4 = ['RID','MMSE','EXAMDATE','AGE']\n",
    "MMSE_df = pd.read_csv(\"ADNIMERGE.csv\",usecols=fields4)"
   ]
  },
  {
   "cell_type": "markdown",
   "id": "b18f8d47",
   "metadata": {},
   "source": [
    "I will be creating one dataframe using all data, so I will prepare each dataframe\n",
    "\n",
    "All dataframes will be formatted to match df1"
   ]
  },
  {
   "cell_type": "markdown",
   "id": "4f3bed1e",
   "metadata": {},
   "source": [
    "# OASIS cross-sectional dataframe\n",
    "\n",
    "Rationale for removing columns:\n",
    "1. all subjects are right handed\n",
    "2. Although previous research has discovered a link between education level, socioeconimic status, Gender and alzheimers (reference), these variables provide grounds for discrimination, which has been observed in machine learning methods (reference). Additionally, the algorithm could misclassify individuals who have high SES and EDUC values. If a machine learning algorithm cannot accuratleyt predict alzheimers using neuroimaging and cogntive examination data, more data would need to be obtained or it may be possible that AI is not a suitable method for thsi task.\n"
   ]
  },
  {
   "cell_type": "code",
   "execution_count": 2,
   "id": "b977021e",
   "metadata": {},
   "outputs": [
    {
     "name": "stdout",
     "output_type": "stream",
     "text": [
      "          MRI_ID  Age   MMSE   CDR  eTIV  nWBV   ASF  MR_Delay  Group  \\\n",
      "0  OAS1_0001_MR1   74 29.000 0.000  1344 0.743 1.306     0.000    NaN   \n",
      "1  OAS1_0002_MR1   55 29.000 0.000  1147 0.810 1.531     0.000    NaN   \n",
      "2  OAS1_0003_MR1   73 27.000 0.500  1454 0.708 1.207     0.000    NaN   \n",
      "8  OAS1_0010_MR1   74 30.000 0.000  1636 0.689 1.073     0.000    NaN   \n",
      "9  OAS1_0011_MR1   52 30.000 0.000  1321 0.827 1.329     0.000    NaN   \n",
      "\n",
      "  Subject_ID  \n",
      "0  OAS1_0001  \n",
      "1  OAS1_0002  \n",
      "2  OAS1_0003  \n",
      "8  OAS1_0010  \n",
      "9  OAS1_0011  \n"
     ]
    }
   ],
   "source": [
    "df2.drop(['Hand','Educ','SES','M/F'], axis=1,inplace=True)\n",
    "\n",
    "# I will be analysing data for subjects aged 50-100\n",
    "df2.drop(df2[(df2['Age'] < 50)].index, inplace=True)\n",
    "\n",
    "# rename columns to match df1\n",
    "df2 = df2.rename(columns= {'ID':'MRI_ID','Delay':'MR_Delay'})\n",
    "\n",
    "# creates a column called Group to match df1, will use CDR data to form groups\n",
    "df2[\"Group\"] = np.nan\n",
    "\n",
    "# creates a column called Subject_ID which matches the first 9 characters of MRI_ID, this organisation of \n",
    "# subject id's will greatly help later\n",
    "df2[\"Subject_ID\"] = df2['MRI_ID'].str[0:9]\n",
    "\n",
    "\n",
    "# change NaN values in the Delay column to 0 as this signifies their first visit/no delay between preivous visit\n",
    "# all subjects in this dataset had only 1 scan\n",
    "df2[\"MR_Delay\"] = df2[\"MR_Delay\"].fillna(0)\n",
    "\n",
    "print(df2.head())"
   ]
  },
  {
   "cell_type": "markdown",
   "id": "1a48dd90",
   "metadata": {},
   "source": [
    "# OASIS longitudinal dataframe"
   ]
  },
  {
   "cell_type": "code",
   "execution_count": 213,
   "id": "f7542f2c",
   "metadata": {},
   "outputs": [
    {
     "name": "stdout",
     "output_type": "stream",
     "text": [
      "  Subject_ID         MRI_ID        Group  Visit  MR_Delay  Age   MMSE   CDR  \\\n",
      "0  OAS2_0001  OAS2_0001_MR1  Nondemented      1         0   87 27.000 0.000   \n",
      "1  OAS2_0001  OAS2_0001_MR2  Nondemented      2       457   88 30.000 0.000   \n",
      "2  OAS2_0002  OAS2_0002_MR1     Demented      1         0   75 23.000 0.500   \n",
      "3  OAS2_0002  OAS2_0002_MR2     Demented      2       560   76 28.000 0.500   \n",
      "4  OAS2_0002  OAS2_0002_MR3     Demented      3      1895   80 22.000 0.500   \n",
      "\n",
      "   eTIV  nWBV   ASF  \n",
      "0  1987 0.696 0.883  \n",
      "1  2004 0.681 0.876  \n",
      "2  1678 0.736 1.046  \n",
      "3  1738 0.713 1.010  \n",
      "4  1698 0.701 1.034  \n"
     ]
    }
   ],
   "source": [
    "#df1.drop(['Hand','EDUC','SES','M/F'],axis=1,inplace=True)\n",
    "# rename ID column of df1 to remove space\n",
    "df1.columns = df1.columns.str.replace(' ','_')\n",
    "print(df1.head())\n"
   ]
  },
  {
   "cell_type": "markdown",
   "id": "b692e8dc",
   "metadata": {},
   "source": [
    "# CDR data from ADNI database"
   ]
  },
  {
   "cell_type": "code",
   "execution_count": 4,
   "id": "27a46928",
   "metadata": {},
   "outputs": [
    {
     "name": "stdout",
     "output_type": "stream",
     "text": [
      "12920\n",
      "4\n",
      "       Subject_ID    MR_Delay   CDR\n",
      "0               2  2005-08-17 0.000\n",
      "1               3  2005-08-18 1.000\n",
      "2               4  2005-08-18 0.500\n",
      "3               5  2005-08-23 0.000\n",
      "4               7  2005-08-25 1.000\n",
      "...           ...         ...   ...\n",
      "12915        6575           0 0.000\n",
      "12916        6473           0 0.000\n",
      "12917        6559           0 0.500\n",
      "12918        6572           0 0.000\n",
      "12919        6574           0 0.000\n",
      "\n",
      "[12920 rows x 3 columns]\n"
     ]
    }
   ],
   "source": [
    "def change_columns(dataframe,olddatacolumn,newdatacolumn):\n",
    "    dataframe = dataframe.rename(columns= {'RID':'Subject_ID','EXAMDATE':'MR_Delay', olddatacolumn:newdatacolumn},inplace=True)\n",
    "\n",
    "change_columns(CDR_df,'CDGLOBAL','CDR')\n",
    "\n",
    "# all missing values in the MR_Delay column will be set to 0 meaning I will set it to their first scan, \n",
    "# if data in subsequent dataframes with no date match the ID number they will replace eachother and \n",
    "# only one value will be used as multiple ID's are meaningless without dates\n",
    "def fillna(dataframe):\n",
    "    dataframe['MR_Delay'] = dataframe['MR_Delay'].fillna(0)\n",
    "\n",
    "fillna(CDR_df)\n",
    "# fill missing values in MR_Delay column with 0 to signify day 0, if data in subsequent dataframes with no \n",
    "# date matches the ID numbers they will replace eachother and only one values will be used as multiple ID's \n",
    "# are meaningless without dates \n",
    "\n",
    "print(CDR_df.head())\n"
   ]
  },
  {
   "cell_type": "markdown",
   "id": "9fe7042a",
   "metadata": {},
   "source": [
    "# Intracranial Volume data from ADNI database"
   ]
  },
  {
   "cell_type": "code",
   "execution_count": 5,
   "id": "37111e90",
   "metadata": {},
   "outputs": [
    {
     "name": "stdout",
     "output_type": "stream",
     "text": [
      "   Subject_ID    MR_Delay     EICV\n",
      "0           2  2005-08-26  1845620\n",
      "1           3  2005-09-01  1709170\n",
      "2           3  2006-03-13  1709170\n",
      "3           3  2006-09-12  1709170\n",
      "4           3  2007-09-12  1709170\n",
      "3128\n"
     ]
    }
   ],
   "source": [
    "IV_df = IV_df.rename(columns= {'RID':'Subject_ID','EXAMDATE':'MR_Delay'})\n",
    "fillna(IV_df)\n",
    "\n",
    "print(IV_df.head())\n"
   ]
  },
  {
   "cell_type": "markdown",
   "id": "89269148",
   "metadata": {},
   "source": [
    "# Brain Volume data from ADNI database"
   ]
  },
  {
   "cell_type": "code",
   "execution_count": 6,
   "id": "dc64f530",
   "metadata": {},
   "outputs": [
    {
     "name": "stdout",
     "output_type": "stream",
     "text": [
      "       Subject_ID    MR_Delay  BRAINVOL\n",
      "0               2  2005-08-26  1251.466\n",
      "1               3  2006-03-13  1169.872\n",
      "2               3  2005-09-01  1186.021\n",
      "3               3  2006-09-12  1160.033\n",
      "4               3  2007-09-12  1140.089\n",
      "...           ...         ...       ...\n",
      "14128        7015  2021-10-26       NaN\n",
      "14129        7020  2021-10-22       NaN\n",
      "14130        7021  2021-11-03       NaN\n",
      "14131        7023  2021-11-03       NaN\n",
      "14132        7027  2021-11-30       NaN\n",
      "\n",
      "[14133 rows x 3 columns]\n"
     ]
    }
   ],
   "source": [
    "BV_df = BV_df.rename(columns= {'RID':'Subject_ID','EXAMDATE':'MR_Delay'})\n",
    "fillna(BV_df)\n",
    "\n",
    "print(BV_df)"
   ]
  },
  {
   "cell_type": "markdown",
   "id": "b917b1d9",
   "metadata": {},
   "source": [
    "# MMSE data from ADNI database"
   ]
  },
  {
   "cell_type": "code",
   "execution_count": 7,
   "id": "20a465eb",
   "metadata": {},
   "outputs": [
    {
     "name": "stdout",
     "output_type": "stream",
     "text": [
      "       Subject_ID    MR_Delay    Age   MMSE\n",
      "0               2  2005-09-08 74.300 28.000\n",
      "1               3  2005-09-12 81.300 20.000\n",
      "2               3  2006-03-13 81.300 24.000\n",
      "3               3  2006-09-12 81.300 17.000\n",
      "4               3  2007-09-12 81.300 19.000\n",
      "...           ...         ...    ...    ...\n",
      "16214        6574  2022-11-01 73.500 30.000\n",
      "16215        6575  2022-11-01 73.500 27.000\n",
      "16216        6375  2020-09-09 69.300 28.000\n",
      "16217        6080  2022-11-04 76.800    NaN\n",
      "16218        6473  2022-11-01 66.100 30.000\n",
      "\n",
      "[16219 rows x 4 columns]\n"
     ]
    }
   ],
   "source": [
    "change_columns(MMSE_df,'AGE','Age')\n",
    "fillna(MMSE_df)\n",
    "\n",
    "print(MMSE_df)"
   ]
  },
  {
   "cell_type": "markdown",
   "id": "4b3c56bd",
   "metadata": {},
   "source": [
    "# Combining ADNI data"
   ]
  },
  {
   "cell_type": "code",
   "execution_count": 8,
   "id": "cc038e7b",
   "metadata": {},
   "outputs": [
    {
     "name": "stdout",
     "output_type": "stream",
     "text": [
      "       Subject_ID    MR_Delay    Age   MMSE        EICV  BRAINVOL   CDR\n",
      "2               3  2006-03-13 81.300 24.000 1709170.000  1169.872 1.000\n",
      "3               3  2006-09-12 81.300 17.000 1709170.000  1160.033 0.500\n",
      "4               3  2007-09-12 81.300 19.000 1709170.000  1140.089 1.000\n",
      "6               4  2006-05-02 67.500 28.000         NaN       NaN 0.500\n",
      "7               4  2006-11-14 67.500 26.000         NaN       NaN 0.500\n",
      "...           ...         ...    ...    ...         ...       ...   ...\n",
      "21151        1009  2007-11-26    NaN    NaN         NaN  1014.427 0.500\n",
      "21176        1072  2008-09-02    NaN    NaN         NaN  1102.628 0.000\n",
      "21181        1080  2009-12-11    NaN    NaN         NaN   958.048 1.000\n",
      "21262        1250  2007-09-05    NaN    NaN         NaN   810.950 0.000\n",
      "21315        1346  2010-06-11    NaN    NaN         NaN  1224.040 1.000\n",
      "\n",
      "[3010 rows x 7 columns]\n"
     ]
    }
   ],
   "source": [
    "# performs outer merge on all dataframes at once, on Subject_ID and MR_Delay, so if a row matches the \n",
    "# subject id AND MR_Delay of the MMSE_df subsequent columns belong to that ID on that date\n",
    "ADNI = pd.merge(pd.merge(pd.merge(MMSE_df,IV_df, how='outer',on=['Subject_ID','MR_Delay']),BV_df,how='outer',on=['Subject_ID','MR_Delay']),CDR_df,how='outer',on=['Subject_ID','MR_Delay'])\n",
    "\n",
    "#Missing values in CDR make the whole row meaningless as this gives diagnosis\n",
    "ADNI.dropna(subset='CDR',inplace=True)\n",
    "\n",
    "# if more than 4 rows are missing the whole row will be removed\n",
    "ADNI.dropna(thresh=4,inplace=True)\n",
    "\n",
    "print(ADNI.head())\n",
    "\n"
   ]
  },
  {
   "cell_type": "code",
   "execution_count": 9,
   "id": "8c11fe9a",
   "metadata": {},
   "outputs": [],
   "source": [
    "# this is done to aid the formatting of subject id column\n",
    "ADNI = ADNI.astype({'Subject_ID':str})"
   ]
  },
  {
   "cell_type": "code",
   "execution_count": 10,
   "id": "c899061b",
   "metadata": {},
   "outputs": [],
   "source": [
    "# takes each value and compares it to every other value to see if they have matching ID's, \n",
    "# if the ID's match and the value has not already been formatted it will be formatted to match df1 \n",
    "# this will make grouping and selecting data from groups simpler\n",
    "for i in range(len(ADNI)):\n",
    "    for j in range(len(ADNI)):\n",
    "        if ADNI.iloc[i,0] == ADNI.iloc[j,0]:\n",
    "            if ADNI.iloc[j,0][0] != 'O':\n",
    "                ADNI.iloc[j,0] = 'OAS3_'+ADNI.iloc[i,0]"
   ]
  },
  {
   "cell_type": "code",
   "execution_count": 11,
   "id": "39c99c93",
   "metadata": {},
   "outputs": [
    {
     "name": "stdout",
     "output_type": "stream",
     "text": [
      "      Subject_ID   MR_Delay    Age   MMSE        EICV  BRAINVOL   CDR\n",
      "2         OAS3_3 2006-03-13 81.300 24.000 1709170.000  1169.872 1.000\n",
      "3         OAS3_3 2006-09-12 81.300 17.000 1709170.000  1160.033 0.500\n",
      "4         OAS3_3 2007-09-12 81.300 19.000 1709170.000  1140.089 1.000\n",
      "6         OAS3_4 2006-05-02 67.500 28.000         NaN       NaN 0.500\n",
      "7         OAS3_4 2006-11-14 67.500 26.000         NaN       NaN 0.500\n",
      "...          ...        ...    ...    ...         ...       ...   ...\n",
      "21151  OAS3_1009 2007-11-26    NaN    NaN         NaN  1014.427 0.500\n",
      "21176  OAS3_1072 2008-09-02    NaN    NaN         NaN  1102.628 0.000\n",
      "21181  OAS3_1080 2009-12-11    NaN    NaN         NaN   958.048 1.000\n",
      "21262  OAS3_1250 2007-09-05    NaN    NaN         NaN   810.950 0.000\n",
      "21315  OAS3_1346 2010-06-11    NaN    NaN         NaN  1224.040 1.000\n",
      "\n",
      "[3010 rows x 7 columns]\n"
     ]
    }
   ],
   "source": [
    "# preparing to convert MR_Delay column to days between scans\n",
    "ADNI['MR_Delay'] = pd.to_datetime(ADNI['MR_Delay'])\n",
    "print(ADNI)"
   ]
  },
  {
   "cell_type": "code",
   "execution_count": 12,
   "id": "710347dd",
   "metadata": {},
   "outputs": [],
   "source": [
    "date1 = ADNI.groupby(['Subject_ID']).MR_Delay.first()\n",
    "date1index = date1.index\n",
    "date2 = ADNI.iloc[0,1]\n",
    "\n",
    "# Checks for matching Subject ID's, if they match it will calculate the days between the first instance \n",
    "# of the ID and the instance it is on\n",
    "for i in range(len(date1)):\n",
    "    for j in range(len(ADNI)):\n",
    "        if date1index[i]==ADNI.iloc[j,0]:\n",
    "            ADNI.iloc[j,1]= (ADNI.iloc[j,1]-date1[i]).days\n",
    "\n"
   ]
  },
  {
   "cell_type": "code",
   "execution_count": 13,
   "id": "2e069c86",
   "metadata": {},
   "outputs": [
    {
     "name": "stdout",
     "output_type": "stream",
     "text": [
      "      Subject_ID MR_Delay    Age   MMSE        EICV  BRAINVOL   CDR\n",
      "2         OAS3_3        0 81.300 24.000 1709170.000  1169.872 1.000\n",
      "3         OAS3_3      183 81.300 17.000 1709170.000  1160.033 0.500\n",
      "4         OAS3_3      548 81.300 19.000 1709170.000  1140.089 1.000\n",
      "6         OAS3_4        0 67.500 28.000         NaN       NaN 0.500\n",
      "7         OAS3_4      196 67.500 26.000         NaN       NaN 0.500\n",
      "...          ...      ...    ...    ...         ...       ...   ...\n",
      "21151  OAS3_1009      180    NaN    NaN         NaN  1014.427 0.500\n",
      "21176  OAS3_1072      427    NaN    NaN         NaN  1102.628 0.000\n",
      "21181  OAS3_1080      546    NaN    NaN         NaN   958.048 1.000\n",
      "21262  OAS3_1250     -993    NaN    NaN         NaN   810.950 0.000\n",
      "21315  OAS3_1346      974    NaN    NaN         NaN  1224.040 1.000\n",
      "\n",
      "[3010 rows x 7 columns]\n"
     ]
    }
   ],
   "source": [
    "print(ADNI)"
   ]
  },
  {
   "cell_type": "markdown",
   "id": "dcf8e919",
   "metadata": {},
   "source": [
    "# Joined DataFrame"
   ]
  },
  {
   "cell_type": "code",
   "execution_count": 14,
   "id": "63b5e545",
   "metadata": {},
   "outputs": [
    {
     "name": "stdout",
     "output_type": "stream",
     "text": [
      "     Subject_ID         MRI_ID Group  Visit MR_Delay    Age   MMSE   CDR  \\\n",
      "0     OAS2_0001  OAS2_0001_MR1    ND  1.000    0.000 87.000 27.000 0.000   \n",
      "1     OAS2_0001  OAS2_0001_MR2    ND  2.000  457.000 88.000 30.000 0.000   \n",
      "2     OAS2_0002  OAS2_0002_MR1   MCI  1.000    0.000 75.000 23.000 0.500   \n",
      "3     OAS2_0002  OAS2_0002_MR2   MCI  2.000  560.000 76.000 28.000 0.500   \n",
      "4     OAS2_0002  OAS2_0002_MR3   MCI  3.000 1895.000 80.000 22.000 0.500   \n",
      "...         ...            ...   ...    ...      ...    ...    ...   ...   \n",
      "3609  OAS3_1009            NaN   MCI    NaN      180    NaN    NaN 0.500   \n",
      "3610  OAS3_1072            NaN    ND    NaN      427    NaN    NaN 0.000   \n",
      "3611  OAS3_1080            NaN    AD    NaN      546    NaN    NaN 1.000   \n",
      "3612  OAS3_1250            NaN    ND    NaN     -993    NaN    NaN 0.000   \n",
      "3613  OAS3_1346            NaN    AD    NaN      974    NaN    NaN 1.000   \n",
      "\n",
      "         eTIV  nWBV   ASF  EICV  BRAINVOL  \n",
      "0    1987.000 0.696 0.883   NaN       NaN  \n",
      "1    2004.000 0.681 0.876   NaN       NaN  \n",
      "2    1678.000 0.736 1.046   NaN       NaN  \n",
      "3    1738.000 0.713 1.010   NaN       NaN  \n",
      "4    1698.000 0.701 1.034   NaN       NaN  \n",
      "...       ...   ...   ...   ...       ...  \n",
      "3609      NaN   NaN   NaN   NaN  1014.427  \n",
      "3610      NaN   NaN   NaN   NaN  1102.628  \n",
      "3611      NaN   NaN   NaN   NaN   958.048  \n",
      "3612      NaN   NaN   NaN   NaN   810.950  \n",
      "3613      NaN   NaN   NaN   NaN  1224.040  \n",
      "\n",
      "[3614 rows x 13 columns]\n"
     ]
    },
    {
     "name": "stderr",
     "output_type": "stream",
     "text": [
      "/var/folders/96/ntd6ngxn5klgfg7ylpwj8n_h0000gn/T/ipykernel_73679/2164881656.py:2: FutureWarning: The frame.append method is deprecated and will be removed from pandas in a future version. Use pandas.concat instead.\n",
      "  MRI = df1.append(df2, ignore_index=True)\n",
      "/var/folders/96/ntd6ngxn5klgfg7ylpwj8n_h0000gn/T/ipykernel_73679/2164881656.py:3: FutureWarning: The frame.append method is deprecated and will be removed from pandas in a future version. Use pandas.concat instead.\n",
      "  MRI = MRI.append(ADNI, ignore_index=True)\n"
     ]
    }
   ],
   "source": [
    "# appends dataframes without causing multiple identical indexes\n",
    "MRI = df1.append(df2, ignore_index=True)\n",
    "MRI = MRI.append(ADNI, ignore_index=True)\n",
    "\n",
    "# diagnosis based on CDR score\n",
    "MRI.loc[MRI['CDR'] == 0, 'Group'] = 'ND'\n",
    "MRI.loc[MRI['CDR'] == 0.5, 'Group'] = 'MCI'\n",
    "MRI.loc[MRI['CDR'] == 1, 'Group'] = 'AD'\n",
    "MRI.loc[MRI['CDR'] == 2, 'Group'] = 'AD'\n",
    "MRI.loc[MRI['CDR'] == 3, 'Group'] = 'AD'\n",
    "print(MRI)\n",
    "\n"
   ]
  },
  {
   "cell_type": "code",
   "execution_count": 15,
   "id": "9730c235",
   "metadata": {},
   "outputs": [
    {
     "name": "stdout",
     "output_type": "stream",
     "text": [
      "There are 11 missing values in CDR with 49 missing values in Group\n",
      "There are 106 missing values in MMSE with 49 missing values in Group\n",
      "There are 3010 missing values in eTIV with 3010 missing values in nWBV\n",
      "There are 3010 missing values in ASF with 3010 missing values in eTIV\n",
      "There are 2076 missing values in BRAINVOL with 2327 missing values in EICV\n"
     ]
    }
   ],
   "source": [
    "# function to find out whether the amount of missing values in one column correspond with missing values in \n",
    "# another column\n",
    "def MissingDataInfo(column1, column2):\n",
    "    table = MRI.loc[MRI[column1].isna(), [column2]]\n",
    "    len_table = len(table)\n",
    "    missing_column2 = len(MRI[MRI[column2].isna()])\n",
    "    print(f\"There are {len_table} missing values in {column1} with {missing_column2} missing values in {column2}\")\n",
    "\n",
    "MissingDataInfo('CDR', 'Group')\n",
    "MissingDataInfo('MMSE', 'Group')\n",
    "MissingDataInfo('eTIV','nWBV')\n",
    "MissingDataInfo('ASF','eTIV')\n",
    "MissingDataInfo('BRAINVOL','EICV')\n",
    "\n"
   ]
  },
  {
   "cell_type": "markdown",
   "id": "8ad5d63b",
   "metadata": {},
   "source": [
    "# Preliminary analysis of missing values\n",
    "\n",
    "The missing values in CDR and Group will be kept for now as I may be using an unsuperivised learning algorithm, however I will change them from NaN to U for undiagnosed\n",
    "\n",
    "I may not be using the MMSE column as the purpose of the subsequent machine learning algorithm is to speed up the process of diagnosing alzheimer's to allow individuals to be diagnosed earlier, the MMSE is an assesment conducted by clnicians, thus, it will be better if the algorithm could run without this variable. I will be exploring this variable further later in the EDA but for now I will keep the rows with missing values in place\n",
    "\n",
    "The missing values in the brain scan columns are due to the different datasets, this will be accounted for in later analysis.\n",
    "\n"
   ]
  },
  {
   "cell_type": "code",
   "execution_count": 16,
   "id": "30ba19d6",
   "metadata": {},
   "outputs": [
    {
     "name": "stdout",
     "output_type": "stream",
     "text": [
      "There are 11 missing values in CDR with 0 missing values in Group\n"
     ]
    }
   ],
   "source": [
    "# rows with missing values in CDR column changed to group U\n",
    "MRI.loc[MRI['CDR'].isna(), 'Group'] = 'U'\n",
    "MRI.loc[MRI['Group'].isna(), 'Group'] = 'U'\n",
    "MissingDataInfo('CDR', 'Group')\n",
    "\n",
    "# There are now 0 missing values in Group"
   ]
  },
  {
   "cell_type": "markdown",
   "id": "9ccd230e",
   "metadata": {},
   "source": [
    "# Preparing to create converted column"
   ]
  },
  {
   "cell_type": "code",
   "execution_count": 214,
   "id": "8da805b9",
   "metadata": {},
   "outputs": [
    {
     "name": "stdout",
     "output_type": "stream",
     "text": [
      "Empty DataFrame\n",
      "Columns: [Subject_ID, MRI_ID, Group, Visit, MR_Delay, Age, MMSE, CDR, eTIV, nWBV, ASF, EICV, BRAINVOL, counts, Converted, num_MRI]\n",
      "Index: []\n",
      "     Subject_ID         MRI_ID Group  Visit MR_Delay    Age   MMSE   CDR  \\\n",
      "7     OAS2_0005  OAS2_0005_MR1    ND  1.000    0.000 80.000 28.000 0.000   \n",
      "8     OAS2_0005  OAS2_0005_MR2   MCI  2.000 1010.000 83.000 29.000 0.500   \n",
      "9     OAS2_0005  OAS2_0005_MR3    ND  3.000 1603.000 85.000 30.000 0.000   \n",
      "10    OAS2_0007  OAS2_0007_MR1   MCI  1.000    0.000 71.000 28.000 0.500   \n",
      "11    OAS2_0007  OAS2_0007_MR3    AD  3.000  518.000 73.000 27.000 1.000   \n",
      "...         ...            ...   ...    ...      ...    ...    ...   ...   \n",
      "3599   OAS3_186            NaN    ND    NaN     1345    NaN    NaN 0.000   \n",
      "3601   OAS3_394            NaN    AD    NaN      889    NaN    NaN 1.000   \n",
      "3608   OAS3_995            NaN    AD    NaN      929    NaN    NaN 1.000   \n",
      "3610  OAS3_1072            NaN    ND    NaN      427    NaN    NaN 0.000   \n",
      "3613  OAS3_1346            NaN    AD    NaN      974    NaN    NaN 1.000   \n",
      "\n",
      "         eTIV  nWBV   ASF  EICV  BRAINVOL  counts Converted  num_MRI  \n",
      "7    1689.000 0.712 1.039   NaN       NaN       2         0        3  \n",
      "8    1701.000 0.711 1.032   NaN       NaN       2         0        3  \n",
      "9    1699.000 0.705 1.033   NaN       NaN       2         0        3  \n",
      "10   1357.000 0.748 1.293   NaN       NaN       2         3        3  \n",
      "11   1365.000 0.727 1.286   NaN       NaN       2         3        3  \n",
      "...       ...   ...   ...   ...       ...     ...       ...      ...  \n",
      "3599      NaN   NaN   NaN   NaN  1060.050       2         0        5  \n",
      "3601      NaN   NaN   NaN   NaN   848.633       2         3        4  \n",
      "3608      NaN   NaN   NaN   NaN   997.405       2         3        4  \n",
      "3610      NaN   NaN   NaN   NaN  1102.628       2         0        3  \n",
      "3613      NaN   NaN   NaN   NaN  1224.040       2         3        5  \n",
      "\n",
      "[1170 rows x 16 columns]\n"
     ]
    }
   ],
   "source": [
    "# create a column called counts which groups the Subject_ID column and counts the amount of unique values in \n",
    "# each group, this tells me which subjects' diagnosis changed between scans\n",
    "\n",
    "# used transform on nunique instead of nunique by itself as nunique returns a series which results in NAN values \n",
    "#if there are no unique values in Group and does not return series of the same length as MRI, transform duplicates \n",
    "# the MRI dataframe with the new column which is more convinient as I do not have to manually change NAN values to \n",
    "# 0 or 1 \n",
    "\n",
    "counts = MRI.groupby('Subject_ID').Group.transform('nunique')\n",
    "MRI['counts'] = counts\n",
    "\n",
    "# just to double check that there are no NAN values in count\n",
    "print(MRI[MRI.counts.isna()])\n",
    "\n",
    "# this prints the rows/subjects who had more than 1 scan and converted between those scans, just to check that \n",
    "# there is data here\n",
    "print(MRI[MRI.counts > 1])"
   ]
  },
  {
   "cell_type": "markdown",
   "id": "882c2611",
   "metadata": {},
   "source": [
    "# Subjects that converted\n",
    "\n",
    "I can now create a column that will identify the subjects that converted between scans\n",
    "This column will contain numerical values that pertain to a specific conversion\n",
    "\n",
    "No conversion = 0\n",
    "\n",
    "ND -> MCI = 1\n",
    "\n",
    "ND -> AD = 2\n",
    "\n",
    "MCI -> AD = 3\n",
    "\n",
    "MCI -> ND = 4\n",
    "\n",
    "AD -> MCI = 5\n",
    "\n",
    "AD -> ND = 6\n",
    "\n",
    "\n",
    "It is highly unlikely that a subject could convert from AD to MCI or AD to ND unless they were on a new experimental treatment, as alzheimer's is a progressive neurodegenerative disease. It is also unlikely that a subject could convert from MCI to ND but this case is more likely. I have included these keys for completeness, though, subjects in these groups are more likely the result of a data entry error so if any of these keys show up I will investigate further"
   ]
  },
  {
   "cell_type": "code",
   "execution_count": 18,
   "id": "00ff8c30",
   "metadata": {},
   "outputs": [],
   "source": [
    "# create a column for Converted groups\n",
    "MRI['Converted'] = np.nan"
   ]
  },
  {
   "cell_type": "code",
   "execution_count": null,
   "id": "8944d171",
   "metadata": {},
   "outputs": [],
   "source": [
    "IDGROUPED = MRI.groupby('Subject_ID', as_index=True)\n",
    "\n",
    "# created a column that counts the amount of times a subject had an MRI, although I will not be using this \n",
    "# column as I will be taking the first and last value of each group as long as they had more than 1 scan\n",
    "# it may be useful for later projects \n",
    "\n",
    "num_MRI = IDGROUPED.Subject_ID.transform('count')\n",
    "MRI['num_MRI'] = num_MRI"
   ]
  },
  {
   "cell_type": "code",
   "execution_count": null,
   "id": "6d0a2e78",
   "metadata": {},
   "outputs": [],
   "source": [
    "# grouped subjects by the amount of scans they had then picked the first and last subject ID\n",
    "multigroup_first = MRI.groupby(['Subject_ID','counts'], as_index=True).Group.first()\n",
    "multigroup_last = MRI.groupby(['Subject_ID','counts'], as_index=True).Group.last()\n",
    "\n",
    "# helped to find indices\n",
    "multigroupdict = multigroup.indices\n",
    "\n"
   ]
  },
  {
   "cell_type": "markdown",
   "id": "4d138757",
   "metadata": {},
   "source": [
    "# Fill converted column"
   ]
  },
  {
   "cell_type": "code",
   "execution_count": 217,
   "id": "4c0d97ff",
   "metadata": {},
   "outputs": [],
   "source": [
    "# those with only one diagnosis did not convert\n",
    "MRI.loc[MRI['counts'] == 1, 'Converted']=0\n",
    "    \n",
    "# There is an option to print values using this function to check that everything has been coded correctly\n",
    "def ConvertedCalculator(diagnosis1,diagnosis2, counts):\n",
    "    # finds converted group using diagnosis and prints group that is called\n",
    "    Converted_dict = {('ND','MCI'):1, ('ND','AD'):2, ('MCI','AD'):3, ('MCI','ND'):4, ('AD','MCI'):5, ('AD','ND'):6}\n",
    "    group = Converted_dict[(diagnosis1,diagnosis2)]\n",
    "    #print(f\"Converted Group: {group}\")\n",
    "    \n",
    "    count = -1\n",
    "    # allows me to call index \n",
    "    erm = multigroup_first.index.get_level_values(0)\n",
    "    # uses regex to locate the index of a subject id within the called group\n",
    "    first = multigroup_first.filter(regex=\"'OAS\\d_\\d{1,}',\"+ counts)\n",
    "    firstindex = first.index.get_level_values(0)\n",
    "    last = multigroup_last.filter(regex=\"'OAS\\d_\\d{1,}',\"+ counts)\n",
    "    for i in range(len(first)):\n",
    "                # counts the index so value can be printed\n",
    "                count += 1\n",
    "                if (first[i] == diagnosis1) & (last[i] == diagnosis2):\n",
    "                    #print(firstindex[i]) \n",
    "                    #print(multigroup_first.filter(regex=\"'OAS\\d_\\d{1,}',\"+ counts).iloc[count:count+1])\n",
    "                    #print(multigroup_max.filter(regex=\"'OAS\\d_\\d{1,}',\"+ counts).iloc[count:count+1])\n",
    "                    \n",
    "                    #looks for subject id or specified index and updates converted column using group dictionary\n",
    "                    MRI.loc[MRI['Subject_ID'] == firstindex[i], 'Converted']=group\n",
    "                    #print(\"done\")\n",
    "                    # if first and last diagnoses are the same it means that they had a different diagnosis inbetween\n",
    "                    # these subjects will be put in no conversion group\n",
    "                elif (first[i] == diagnosis1) & (last[i] == diagnosis1):\n",
    "                    MRI.loc[MRI['Subject_ID'] == firstindex[i], 'Converted']=0\n",
    "                    # undiagnosed subjects put in converted group none\n",
    "                elif (first[i] == 'U') | (last[i] == 'U'):\n",
    "                    MRI.loc[MRI['Subject_ID'] == firstindex[i], 'Converted']='none'\n",
    "    # prints a space between each group for readability         \n",
    "    # print(\"\\n\")\n"
   ]
  },
  {
   "cell_type": "code",
   "execution_count": 216,
   "id": "626c4499",
   "metadata": {},
   "outputs": [
    {
     "name": "stdout",
     "output_type": "stream",
     "text": [
      "2441\n",
      "1144\n",
      "22\n",
      "4\n",
      "0\n",
      "0\n",
      "0\n",
      "0\n",
      "0\n"
     ]
    }
   ],
   "source": [
    "# prints the amount of rows for subjects who had 1 or more diagnosis', shows me where the function should stop\n",
    "# no subjects had more than 4 diagnosis so I will stop calling the function at 4\n",
    "def groups(counts):\n",
    "    print(len((MRI.loc[MRI['counts']==counts])))\n",
    "\n",
    "# the column of interest is counts as this column signifies which subjects diagnosis changed    \n",
    "groups(1)\n",
    "groups(2)\n",
    "groups(3)\n",
    "groups(4)\n",
    "groups(5)\n",
    "groups(6)\n",
    "groups(7)\n",
    "groups(8)\n",
    "groups(9)\n",
    "\n"
   ]
  },
  {
   "cell_type": "code",
   "execution_count": 21,
   "id": "ecf0a546",
   "metadata": {},
   "outputs": [
    {
     "name": "stdout",
     "output_type": "stream",
     "text": [
      "    Subject_ID         MRI_ID Group  Visit MR_Delay    Age   MMSE   CDR  \\\n",
      "139  OAS2_0066  OAS2_0066_MR1    AD  1.000    0.000 61.000 30.000 1.000   \n",
      "140  OAS2_0066  OAS2_0066_MR2   MCI  2.000  497.000 62.000 30.000 0.500   \n",
      "\n",
      "        eTIV  nWBV   ASF  EICV  BRAINVOL  counts Converted  num_MRI  \n",
      "139 1957.000 0.734 0.897   NaN       NaN       2         5        2  \n",
      "140 1928.000 0.731 0.910   NaN       NaN       2         5        2  \n"
     ]
    }
   ],
   "source": [
    "# Call function for each group with each number of counts\n",
    "ConvertedCalculator('ND','MCI',\" 2\")\n",
    "ConvertedCalculator('ND','AD',\" 2\")\n",
    "ConvertedCalculator('MCI', 'AD',\" 2\")\n",
    "ConvertedCalculator('MCI','ND',\" 2\")\n",
    "ConvertedCalculator('AD','MCI',\" 2\")\n",
    "ConvertedCalculator('AD','ND',\" 2\")\n",
    "\n",
    "ConvertedCalculator('ND','MCI',\" 3\")\n",
    "ConvertedCalculator('ND','AD',\" 3\")\n",
    "ConvertedCalculator('MCI', 'AD',\" 3\")\n",
    "ConvertedCalculator('MCI','ND',\" 3\")\n",
    "ConvertedCalculator('AD','MCI',\" 3\")\n",
    "ConvertedCalculator('AD','ND',\" 3\")\n",
    "\n",
    "ConvertedCalculator('ND','MCI',\" 4\")\n",
    "ConvertedCalculator('ND','AD',\" 4\")\n",
    "ConvertedCalculator('MCI', 'AD',\" 4\")\n",
    "ConvertedCalculator('MCI','ND',\" 4\")\n",
    "ConvertedCalculator('AD','MCI',\" 4\")\n",
    "ConvertedCalculator('AD','ND',\" 4\")\n",
    "print(MRI.loc[MRI['Subject_ID'] == 'OAS2_0066'])"
   ]
  },
  {
   "cell_type": "markdown",
   "id": "5f223c6e",
   "metadata": {},
   "source": [
    "# Check if there are any NaN values in Converted column"
   ]
  },
  {
   "cell_type": "code",
   "execution_count": 22,
   "id": "73abb9e2",
   "metadata": {},
   "outputs": [
    {
     "name": "stdout",
     "output_type": "stream",
     "text": [
      "Empty DataFrame\n",
      "Columns: [Subject_ID, MRI_ID, Group, Visit, MR_Delay, Age, MMSE, CDR, eTIV, nWBV, ASF, EICV, BRAINVOL, counts, Converted, num_MRI]\n",
      "Index: []\n"
     ]
    }
   ],
   "source": [
    "print(MRI.loc[MRI['Converted'].isna()])\n"
   ]
  },
  {
   "cell_type": "markdown",
   "id": "7882bd34",
   "metadata": {},
   "source": [
    "# Univariate outliers"
   ]
  },
  {
   "cell_type": "markdown",
   "id": "2a9fd358",
   "metadata": {},
   "source": [
    "# Converted subjects\n",
    "\n",
    "Subjects who converted from AD to MCI (group 5) or AD to ND (group 6) may signifiy an outlier as this would be extremely rare\n",
    "\n",
    "Subjects who converted from MCI to ND (Group 4) may also singify an outlier but this is less rare\n",
    "\n",
    "If there are enough participants I may do further analysis on these groups"
   ]
  },
  {
   "cell_type": "code",
   "execution_count": 218,
   "id": "f2e4aece",
   "metadata": {},
   "outputs": [
    {
     "name": "stdout",
     "output_type": "stream",
     "text": [
      "73\n",
      "16\n"
     ]
    }
   ],
   "source": [
    "# prints the amount of individual and unique values in converted group 4\n",
    "print(len(MRI[MRI['Converted']==4]))\n",
    "convertedgroupby = MRI.groupby(['Subject_ID','Converted']).Subject_ID.first()\n",
    "print(len(convertedgroupby.filter(regex=\"'OAS\\d_\\d{1,}', 4\")))\n"
   ]
  },
  {
   "cell_type": "code",
   "execution_count": 219,
   "id": "bc3220b7",
   "metadata": {},
   "outputs": [
    {
     "name": "stdout",
     "output_type": "stream",
     "text": [
      "    Subject_ID         MRI_ID Group  Visit MR_Delay    Age   MMSE   CDR  \\\n",
      "271  OAS2_0131  OAS2_0131_MR1   MCI  1.000    0.000 65.000 30.000 0.500   \n",
      "272  OAS2_0131  OAS2_0131_MR2    ND  2.000  679.000 67.000 25.000 0.000   \n",
      "\n",
      "        eTIV  nWBV   ASF  EICV  BRAINVOL  counts Converted  num_MRI  \n",
      "271 1340.000 0.754 1.309   NaN       NaN       2         4        2  \n",
      "272 1331.000 0.761 1.318   NaN       NaN       2         4        2  \n",
      "    Subject_ID         MRI_ID      Group  Visit  MR_Delay  Age   MMSE   CDR  \\\n",
      "271  OAS2_0131  OAS2_0131_MR1  Converted      1         0   65 30.000 0.500   \n",
      "272  OAS2_0131  OAS2_0131_MR2  Converted      2       679   67 25.000 0.000   \n",
      "\n",
      "     eTIV  nWBV   ASF  \n",
      "271  1340 0.754 1.309  \n",
      "272  1331 0.761 1.318  \n",
      "\n",
      "\n",
      "Descriptives for MCI\n",
      "count    192.000\n",
      "mean    1483.281\n",
      "std      175.267\n",
      "min     1143.000\n",
      "25%     1350.750\n",
      "50%     1463.000\n",
      "75%     1585.000\n",
      "max     1992.000\n",
      "Name: eTIV, dtype: float64\n",
      "count   192.000\n",
      "mean      0.724\n",
      "std       0.034\n",
      "min       0.644\n",
      "25%       0.696\n",
      "50%       0.724\n",
      "75%       0.749\n",
      "max       0.806\n",
      "Name: nWBV, dtype: float64\n",
      "\n",
      "\n",
      "Descriptives for ND\n",
      "count    326.000\n",
      "mean    1469.632\n",
      "std      171.843\n",
      "min     1106.000\n",
      "25%     1346.000\n",
      "50%     1444.500\n",
      "75%     1560.500\n",
      "max     2004.000\n",
      "Name: eTIV, dtype: float64\n",
      "count   326.000\n",
      "mean      0.749\n",
      "std       0.042\n",
      "min       0.644\n",
      "25%       0.719\n",
      "50%       0.747\n",
      "75%       0.778\n",
      "max       0.839\n",
      "Name: nWBV, dtype: float64\n",
      "\n",
      "\n",
      "Descriptives for AD\n",
      "count     73.000\n",
      "mean    1486.014\n",
      "std      140.462\n",
      "min     1159.000\n",
      "25%     1391.000\n",
      "50%     1483.000\n",
      "75%     1562.000\n",
      "max     1755.000\n",
      "Name: eTIV, dtype: float64\n",
      "count   73.000\n",
      "mean     0.703\n",
      "std      0.027\n",
      "min      0.655\n",
      "25%      0.684\n",
      "50%      0.699\n",
      "75%      0.715\n",
      "max      0.763\n",
      "Name: nWBV, dtype: float64\n",
      "\n",
      "\n",
      "Descriptives for ND\n",
      "count   1128.000\n",
      "mean      29.105\n",
      "std        1.150\n",
      "min       22.000\n",
      "25%       29.000\n",
      "50%       29.000\n",
      "75%       30.000\n",
      "max       30.000\n",
      "Name: MMSE, dtype: float64\n",
      "\n",
      "\n",
      "Descriptives for MCI\n",
      "count   1662.000\n",
      "mean      26.291\n",
      "std        3.005\n",
      "min        8.000\n",
      "25%       25.000\n",
      "50%       27.000\n",
      "75%       29.000\n",
      "max       30.000\n",
      "Name: MMSE, dtype: float64\n",
      "\n",
      "\n",
      "Descriptives for AD\n",
      "count   681.000\n",
      "mean     20.529\n",
      "std       4.932\n",
      "min       0.000\n",
      "25%      18.000\n",
      "50%      21.000\n",
      "75%      24.000\n",
      "max      30.000\n",
      "Name: MMSE, dtype: float64\n"
     ]
    }
   ],
   "source": [
    "print(MRI[MRI['Subject_ID']=='OAS2_0131'])\n",
    "print(df1[df1['Subject_ID']=='OAS2_0131'])\n",
    "print(\"\\n\")\n",
    "print(\"Descriptives for MCI\")\n",
    "print(MRI.loc[MRI['Group']=='MCI', 'eTIV'].describe())\n",
    "print(MRI.loc[MRI['Group']=='MCI', 'nWBV'].describe())\n",
    "print(\"\\n\")\n",
    "print(\"Descriptives for ND\")\n",
    "print(MRI.loc[MRI['Group']=='ND', 'eTIV'].describe())\n",
    "print(MRI.loc[MRI['Group']=='ND', 'nWBV'].describe())\n",
    "print(\"\\n\")\n",
    "print(\"Descriptives for AD\")\n",
    "print(MRI.loc[MRI['Group']=='AD', 'eTIV'].describe())\n",
    "print(MRI.loc[MRI['Group']=='AD', 'nWBV'].describe())\n",
    "print(\"\\n\")\n",
    "print(\"Descriptives for ND\")\n",
    "print(MRI.loc[MRI['Group']=='ND', 'MMSE'].describe())\n",
    "print(\"\\n\")\n",
    "print(\"Descriptives for MCI\")\n",
    "print(MRI.loc[MRI['Group']=='MCI', 'MMSE'].describe())\n",
    "print(\"\\n\")\n",
    "print(\"Descriptives for AD\")\n",
    "print(MRI.loc[MRI['Group']=='AD', 'MMSE'].describe())\n",
    "\n"
   ]
  },
  {
   "cell_type": "markdown",
   "id": "b74676b0",
   "metadata": {},
   "source": [
    "According to the dataframe Subject 0131 from OAS2 converted from MCI to ND, however, their MMSE score decreased from 30 to 25 which would indicate their cognitive mental state decreased significantly. As MMSE scores are interval data I will round the mean values to 0 decimal places, the meam MMSE score for subjects with a CDR of 0 (ND) within this sample is 29 $\\pm$ 1 and 26 $\\pm$ 3 for subjects with a CDR of 0.5\n",
    "\n",
    "I printed out the data for subject twice and checked the csv file on Excel to check if they were switched by the Converted code, nothing was switched although the subject was put in the diagnosis group 'converted' in the original dataset\n",
    "\n",
    "Additionally, their eTIV (estimated total intracranial volume) seems to have decreased between their diagnosis of MCI to AD which suggests that their intracranial volume decreased, however their nWBV values slightly increased. as nWBV represents the percentage of brain volume in the eTIV, the data for this participant suggests that brain volume slightly increased while a feature representing intracranial volume but not brain volume, meninges or cerebrospinal fluid, decreased. However, as eTIV and nWBV are estimated and normalized values it is also possible that there was no significant difference in their brain and intracranial volumes.\n",
    "\n",
    "I aimed to use the descriptive statistics to see whether these values were within the range for each diagnosis, as I was only looking at the values within each feature I decided to look at the descriptive statistics for eTIV and nWBV to determine whether their brain volume data are within the range of an MCI and ND patient. However, the descriptive statistics show that there is some overlap in the brain volumes of subjects in these groups, there is also overlap in the brain volumes of Subject 0131 with MCI and ND; while they were diagnosed with MCI their nWBV was within 1 standard deviation (std) of the mean of subjects with MCI within this sample, and slightly above the third quartile but not above the maximum value of subjects with MCI within this sample, they were also within 1 std of the mean of subjects with ND within this sample and within the third quartile, this pattern persists for all brain volume data while they were diagnosed with MCI and ND, in other words thier brain volume data seems to be within the range of both MCI and ND samples. \n",
    "\n",
    "As they were given a lower MMSE score, a score indicative of MCI, after converting from a CDR of 0.5 to 0, it is possible that there was a data entry error and this participant was given a CDR of 0 on their first scan and 0.5 on their second scan. It is also possible that they were given a CDR of 0.5 or 0 at both scans. With MMSE scores of 30 and 25 it is more likely that they were given a CDR of 0.5 at both scans. \n",
    "\n",
    "Thus, I will keep this subject in the dataframe for now and keep their values as they are, but I will not perform analysis on converted group 4. There is also not enough data in this group"
   ]
  },
  {
   "cell_type": "code",
   "execution_count": 220,
   "id": "e369ea42",
   "metadata": {},
   "outputs": [
    {
     "name": "stdout",
     "output_type": "stream",
     "text": [
      "     Subject_ID         MRI_ID Group  Visit MR_Delay    Age   MMSE   CDR  \\\n",
      "136   OAS2_0064  OAS2_0064_MR1    AD  1.000    0.000 78.000 23.000 1.000   \n",
      "137   OAS2_0064  OAS2_0064_MR2   MCI  2.000  830.000 81.000 26.000 0.500   \n",
      "138   OAS2_0064  OAS2_0064_MR3   MCI  3.000 1282.000 82.000 18.000 0.500   \n",
      "716     OAS3_76            NaN    AD    NaN        0 78.300 23.000 1.000   \n",
      "1054   OAS3_300            NaN    AD    NaN        0 56.400 28.000 1.000   \n",
      "1056   OAS3_300            NaN   MCI    NaN      356 56.400 26.000 0.500   \n",
      "1057   OAS3_300            NaN   MCI    NaN      356 56.400 26.000 0.500   \n",
      "1323   OAS3_476            NaN    AD    NaN        0 75.800 20.000 1.000   \n",
      "1626   OAS3_689            NaN    AD    NaN        0 63.600 19.000 1.000   \n",
      "1627   OAS3_689            NaN    AD    NaN        0 63.600 19.000 1.000   \n",
      "1628   OAS3_689            NaN    AD    NaN      552 63.600 10.000 1.000   \n",
      "1633   OAS3_696            NaN    AD    NaN        0 74.000 22.000 1.000   \n",
      "1718   OAS3_754            NaN    AD    NaN        0 67.700 26.000 1.000   \n",
      "1719   OAS3_759            NaN    AD    NaN        0 81.800 21.000 1.000   \n",
      "1720   OAS3_759            NaN    AD    NaN      377 81.800 18.000 1.000   \n",
      "2810   OAS3_476            NaN   MCI    NaN     -397 75.800 27.000 0.500   \n",
      "2811   OAS3_476            NaN    AD    NaN     -203 75.800 23.000 1.000   \n",
      "2812   OAS3_476            NaN   MCI    NaN      185 75.800 24.000 0.500   \n",
      "2914   OAS3_689            NaN   MCI    NaN      190 63.600 17.000 0.500   \n",
      "2915   OAS3_689            NaN   MCI    NaN      190 63.600 17.000 0.500   \n",
      "2920   OAS3_696            NaN   MCI    NaN     -175 74.000 21.000 0.500   \n",
      "2952   OAS3_754            NaN    AD    NaN      206 67.700 24.000 1.000   \n",
      "2953   OAS3_754            NaN    AD    NaN      563 67.700 20.000 1.000   \n",
      "2954   OAS3_759            NaN   MCI    NaN     -168 81.800 23.000 0.500   \n",
      "3534    OAS3_76            NaN   MCI    NaN     -590    NaN    NaN 0.500   \n",
      "3547   OAS3_300            NaN   MCI    NaN     -195    NaN    NaN 0.500   \n",
      "3564   OAS3_754            NaN   MCI    NaN     -189    NaN    NaN 0.500   \n",
      "\n",
      "         eTIV  nWBV   ASF        EICV  BRAINVOL  counts Converted  num_MRI  \n",
      "136  1462.000 0.691 1.200         NaN       NaN       2         5        3  \n",
      "137  1459.000 0.694 1.203         NaN       NaN       2         5        3  \n",
      "138  1464.000 0.682 1.199         NaN       NaN       2         5        3  \n",
      "716       NaN   NaN   NaN         NaN   998.452       2         5        2  \n",
      "1054      NaN   NaN   NaN 1803380.000  1296.797       2         5        5  \n",
      "1056      NaN   NaN   NaN 1803380.000  1375.781       2         5        5  \n",
      "1057      NaN   NaN   NaN 1803380.000  1267.824       2         5        5  \n",
      "1323      NaN   NaN   NaN         NaN       NaN       2         5        4  \n",
      "1626      NaN   NaN   NaN 1608980.000  1237.691       2         5        5  \n",
      "1627      NaN   NaN   NaN 1608980.000  1066.350       2         5        5  \n",
      "1628      NaN   NaN   NaN 1608980.000  1188.830       2         5        5  \n",
      "1633      NaN   NaN   NaN         NaN       NaN       2         5        2  \n",
      "1718      NaN   NaN   NaN 1521150.000  1113.852       2         5        4  \n",
      "1719      NaN   NaN   NaN 1311510.000   889.330       2         5        3  \n",
      "1720      NaN   NaN   NaN 1311510.000   854.218       2         5        3  \n",
      "2810      NaN   NaN   NaN         NaN       NaN       2         5        4  \n",
      "2811      NaN   NaN   NaN         NaN       NaN       2         5        4  \n",
      "2812      NaN   NaN   NaN         NaN       NaN       2         5        4  \n",
      "2914      NaN   NaN   NaN 1608980.000  1063.881       2         5        5  \n",
      "2915      NaN   NaN   NaN 1608980.000  1219.839       2         5        5  \n",
      "2920      NaN   NaN   NaN         NaN       NaN       2         5        2  \n",
      "2952      NaN   NaN   NaN 1521150.000  1097.073       2         5        4  \n",
      "2953      NaN   NaN   NaN         NaN       NaN       2         5        4  \n",
      "2954      NaN   NaN   NaN 1311510.000   884.568       2         5        3  \n",
      "3534      NaN   NaN   NaN 1396340.000   983.709       2         5        2  \n",
      "3547      NaN   NaN   NaN 1803380.000  1400.311       2         5        5  \n",
      "3564      NaN   NaN   NaN 1521150.000  1086.065       2         5        4  \n"
     ]
    }
   ],
   "source": [
    "print(MRI[MRI['Converted']==5])"
   ]
  },
  {
   "cell_type": "code",
   "execution_count": 221,
   "id": "33ad90ff",
   "metadata": {},
   "outputs": [
    {
     "name": "stdout",
     "output_type": "stream",
     "text": [
      "    Subject_ID         MRI_ID Group  Visit MR_Delay    Age   MMSE   CDR  \\\n",
      "136  OAS2_0064  OAS2_0064_MR1    AD  1.000    0.000 78.000 23.000 1.000   \n",
      "137  OAS2_0064  OAS2_0064_MR2   MCI  2.000  830.000 81.000 26.000 0.500   \n",
      "138  OAS2_0064  OAS2_0064_MR3   MCI  3.000 1282.000 82.000 18.000 0.500   \n",
      "\n",
      "        eTIV  nWBV   ASF  EICV  BRAINVOL  counts Converted  num_MRI  \n",
      "136 1462.000 0.691 1.200   NaN       NaN       2         5        3  \n",
      "137 1459.000 0.694 1.203   NaN       NaN       2         5        3  \n",
      "138 1464.000 0.682 1.199   NaN       NaN       2         5        3  \n",
      "    Subject_ID         MRI_ID     Group  Visit  MR_Delay  Age   MMSE   CDR  \\\n",
      "136  OAS2_0064  OAS2_0064_MR1  Demented      1         0   78 23.000 1.000   \n",
      "137  OAS2_0064  OAS2_0064_MR2  Demented      2       830   81 26.000 0.500   \n",
      "138  OAS2_0064  OAS2_0064_MR3  Demented      3      1282   82 18.000 0.500   \n",
      "\n",
      "     eTIV  nWBV   ASF  \n",
      "136  1462 0.691 1.200  \n",
      "137  1459 0.694 1.203  \n",
      "138  1464 0.682 1.199  \n"
     ]
    }
   ],
   "source": [
    "print(MRI[MRI['Subject_ID']=='OAS2_0064'])\n",
    "print(df1[df1['Subject_ID']=='OAS2_0064'])"
   ]
  },
  {
   "cell_type": "markdown",
   "id": "34d9eb03",
   "metadata": {},
   "source": [
    "According to the data, Subject 0066 from OAS2, converted from a CDR of 1 to a CDR of 0.5. Their MMSE scores are within the ranges for both diagnosis', although, they scored lower on their final scan where they were given a CDR of 0.5.\n",
    "\n",
    "The original dataset diagnosised this subject as Demented as a CDR of 0.5 was originally determined to be very mild dementia and 1 was determined to be mild dementia.\n",
    "\n",
    "Additionally their eTIV and nWBV values seem within the range of AD and MCI, although their is a high degree of overlap within these ranges\n",
    "\n",
    "Thus I will also keep this subject in the dataset for now and return to it after further analysis"
   ]
  },
  {
   "cell_type": "code",
   "execution_count": 28,
   "id": "cfe3826f",
   "metadata": {},
   "outputs": [
    {
     "name": "stdout",
     "output_type": "stream",
     "text": [
      "    Subject_ID         MRI_ID Group  Visit MR_Delay    Age   MMSE   CDR  \\\n",
      "139  OAS2_0066  OAS2_0066_MR1    AD  1.000    0.000 61.000 30.000 1.000   \n",
      "140  OAS2_0066  OAS2_0066_MR2   MCI  2.000  497.000 62.000 30.000 0.500   \n",
      "\n",
      "        eTIV  nWBV   ASF  EICV  BRAINVOL  counts Converted  num_MRI  \n",
      "139 1957.000 0.734 0.897   NaN       NaN       2         5        2  \n",
      "140 1928.000 0.731 0.910   NaN       NaN       2         5        2  \n",
      "    Subject_ID         MRI_ID     Group  Visit  MR_Delay  Age   MMSE   CDR  \\\n",
      "139  OAS2_0066  OAS2_0066_MR1  Demented      1         0   61 30.000 1.000   \n",
      "140  OAS2_0066  OAS2_0066_MR2  Demented      2       497   62 30.000 0.500   \n",
      "\n",
      "     eTIV  nWBV   ASF  \n",
      "139  1957 0.734 0.897  \n",
      "140  1928 0.731 0.910  \n"
     ]
    }
   ],
   "source": [
    "print(MRI[MRI['Subject_ID']=='OAS2_0066'])\n",
    "print(df1[df1['Subject_ID']=='OAS2_0066'])"
   ]
  },
  {
   "cell_type": "markdown",
   "id": "58ec9951",
   "metadata": {},
   "source": [
    "According to the data, Subject 0066 from OAS2 also converted from a CDR of 1 to a CDR of 0.5. The maximum MMSE for all groups is 30, this subject obtained this maximum on both occasions. \n",
    "\n",
    "Additionally, their eTIV values are extreme for this sample. While they were diagnosed with AD their eTIV was the maximum value which was 3 std above the mean with a z score of 3.12 and more than the third quartile, this value is also considered extreme when compared to the descriptive statistics for both MCI and ND samples, namely, it is above the third quartile for all groups and between 2-3 std. Their eTIV while they were diagnosed with MCI is also extreme, above the third quartile for all samples. However, their nWBV values are not extreme\n",
    "\n",
    "This suggests that this subject had considerably higher intracranial volume than other subjects, but their grey and white matter or brain volume was not as high.\n",
    "\n"
   ]
  },
  {
   "cell_type": "code",
   "execution_count": 29,
   "id": "8818adc5",
   "metadata": {},
   "outputs": [
    {
     "name": "stdout",
     "output_type": "stream",
     "text": [
      "    Subject_ID         MRI_ID Group  Visit MR_Delay    Age   MMSE   CDR  \\\n",
      "0    OAS2_0001  OAS2_0001_MR1    ND  1.000    0.000 87.000 27.000 0.000   \n",
      "1    OAS2_0001  OAS2_0001_MR2    ND  2.000  457.000 88.000 30.000 0.000   \n",
      "39   OAS2_0021  OAS2_0021_MR1   MCI  1.000    0.000 72.000 26.000 0.500   \n",
      "40   OAS2_0021  OAS2_0021_MR2   MCI  2.000 1164.000 76.000 25.000 0.500   \n",
      "139  OAS2_0066  OAS2_0066_MR1    AD  1.000    0.000 61.000 30.000 1.000   \n",
      "140  OAS2_0066  OAS2_0066_MR2   MCI  2.000  497.000 62.000 30.000 0.500   \n",
      "167  OAS2_0077  OAS2_0077_MR2    ND  2.000 1393.000 73.000 29.000 0.000   \n",
      "425  OAS1_0115  OAS1_0115_MR1   MCI    NaN    0.000 72.000 26.000 0.500   \n",
      "513  OAS1_0290  OAS1_0290_MR1   MCI    NaN    0.000 83.000 26.000 0.500   \n",
      "\n",
      "        eTIV  nWBV   ASF  EICV  BRAINVOL  counts Converted  num_MRI  \n",
      "0   1987.000 0.696 0.883   NaN       NaN       1     0.000        2  \n",
      "1   2004.000 0.681 0.876   NaN       NaN       1     0.000        2  \n",
      "39  1911.000 0.719 0.919   NaN       NaN       1     0.000        2  \n",
      "40  1926.000 0.736 0.911   NaN       NaN       1     0.000        2  \n",
      "139 1957.000 0.734 0.897   NaN       NaN       2         5        2  \n",
      "140 1928.000 0.731 0.910   NaN       NaN       2         5        2  \n",
      "167 1931.000 0.722 0.909   NaN       NaN       1     0.000        2  \n",
      "425 1911.000 0.726 0.919   NaN       NaN       1     0.000        1  \n",
      "513 1992.000 0.706 0.881   NaN       NaN       1     0.000        1  \n"
     ]
    }
   ],
   "source": [
    "\n",
    "print(MRI[MRI['eTIV']>1900])"
   ]
  },
  {
   "cell_type": "markdown",
   "id": "f2070e46",
   "metadata": {},
   "source": [
    "There are 5 other subjects who have an eTIV value above 1900, however, subject 0066 is the only one who was initially diagnosed with AD then diagnosed with MCI. As their eTIV exhibits extreme values and they were initially diagnosed with AD I will remove this subjects data"
   ]
  },
  {
   "cell_type": "code",
   "execution_count": 30,
   "id": "974cc5e0",
   "metadata": {},
   "outputs": [],
   "source": [
    "MRI.drop(139,inplace=True)\n",
    "MRI.drop(140,inplace=True)"
   ]
  },
  {
   "cell_type": "code",
   "execution_count": 31,
   "id": "04ec87b5",
   "metadata": {},
   "outputs": [
    {
     "name": "stdout",
     "output_type": "stream",
     "text": [
      "Empty DataFrame\n",
      "Columns: [Subject_ID, MRI_ID, Group, Visit, MR_Delay, Age, MMSE, CDR, eTIV, nWBV, ASF, EICV, BRAINVOL, counts, Converted, num_MRI]\n",
      "Index: []\n"
     ]
    }
   ],
   "source": [
    "print(MRI[MRI['Converted']==6])"
   ]
  },
  {
   "cell_type": "markdown",
   "id": "a575c012",
   "metadata": {},
   "source": [
    "There are no subjects in converted group 6"
   ]
  },
  {
   "cell_type": "markdown",
   "id": "33684389",
   "metadata": {},
   "source": [
    "# Z scores\n",
    "\n",
    "I will compute the z scores of the eTIV, nBWV for each group and analyse values that are $\\pm$ 3.29\n",
    "\n",
    "I am simply looking for outliers within each group so I will include all subjects with a specific diagnosis at any time\n",
    "\n",
    "I will not include the undiagnosed group"
   ]
  },
  {
   "cell_type": "code",
   "execution_count": 32,
   "id": "cc8eceff",
   "metadata": {},
   "outputs": [
    {
     "name": "stdout",
     "output_type": "stream",
     "text": [
      "[]\n",
      "[]\n"
     ]
    }
   ],
   "source": [
    "AD_ETIV = np.array(MRI.loc[MRI['Group']=='AD', 'eTIV'])\n",
    "\n",
    "MCI_ETIV = list(MRI.loc[MRI['Group']=='MCI', 'eTIV'])\n",
    "\n",
    "ND_ETIV = list(MRI.loc[MRI['Group']=='ND', 'eTIV'])\n",
    "\n",
    "IV_ZSCORE_AD = stats.zscore(AD_ETIV,nan_policy='omit')\n",
    "print(IV_ZSCORE_AD[IV_ZSCORE_AD>3.28])\n",
    "print(IV_ZSCORE_AD[IV_ZSCORE_AD<-3.28])\n"
   ]
  },
  {
   "cell_type": "code",
   "execution_count": 33,
   "id": "5f736b38",
   "metadata": {},
   "outputs": [
    {
     "name": "stdout",
     "output_type": "stream",
     "text": [
      "[]\n",
      "[]\n"
     ]
    }
   ],
   "source": [
    "IV_ZSCORE_MCI = stats.zscore(MCI_ETIV,nan_policy='omit')\n",
    "print(IV_ZSCORE_MCI[IV_ZSCORE_MCI>3.28])\n",
    "print(IV_ZSCORE_MCI[IV_ZSCORE_MCI<-3.28])"
   ]
  },
  {
   "cell_type": "code",
   "execution_count": 34,
   "id": "f01276c1",
   "metadata": {},
   "outputs": [
    {
     "name": "stdout",
     "output_type": "stream",
     "text": [
      "[]\n",
      "[]\n"
     ]
    }
   ],
   "source": [
    "IV_ZSCORE_ND = stats.zscore(ND_ETIV,nan_policy='omit')\n",
    "print(IV_ZSCORE_ND[IV_ZSCORE_ND>3.28])\n",
    "print(IV_ZSCORE_ND[IV_ZSCORE_ND<-3.28])"
   ]
  },
  {
   "cell_type": "code",
   "execution_count": 35,
   "id": "1cea9c35",
   "metadata": {},
   "outputs": [
    {
     "name": "stdout",
     "output_type": "stream",
     "text": [
      "[]\n",
      "[]\n"
     ]
    }
   ],
   "source": [
    "AD_NWBV = np.array(MRI.loc[MRI['Group']=='AD', 'nWBV'])\n",
    "\n",
    "MCI_NWBV = list(MRI.loc[MRI['Group']=='MCI', 'nWBV'])\n",
    "\n",
    "ND_NWBV = list(MRI.loc[MRI['Group']=='ND', 'nWBV'])\n",
    "\n",
    "BV_ZSCORE_AD = stats.zscore(AD_NWBV,nan_policy='omit')\n",
    "print(BV_ZSCORE_AD[BV_ZSCORE_AD>3.28])\n",
    "print(BV_ZSCORE_AD[BV_ZSCORE_AD<-3.28])"
   ]
  },
  {
   "cell_type": "code",
   "execution_count": 36,
   "id": "f98e2344",
   "metadata": {},
   "outputs": [
    {
     "name": "stdout",
     "output_type": "stream",
     "text": [
      "[]\n",
      "[]\n"
     ]
    }
   ],
   "source": [
    "BV_ZSCORE_MCI = stats.zscore(MCI_NWBV,nan_policy='omit')\n",
    "print(BV_ZSCORE_MCI[BV_ZSCORE_MCI>3.28])\n",
    "print(BV_ZSCORE_MCI[BV_ZSCORE_MCI<-3.28])"
   ]
  },
  {
   "cell_type": "code",
   "execution_count": 37,
   "id": "b4c1b44a",
   "metadata": {
    "scrolled": true
   },
   "outputs": [
    {
     "name": "stdout",
     "output_type": "stream",
     "text": [
      "[]\n",
      "[]\n"
     ]
    }
   ],
   "source": [
    "BV_ZSCORE_ND = stats.zscore(ND_NWBV,nan_policy='omit')\n",
    "print(BV_ZSCORE_ND[BV_ZSCORE_ND>3.28])\n",
    "print(BV_ZSCORE_ND[BV_ZSCORE_ND<-3.28])"
   ]
  },
  {
   "cell_type": "code",
   "execution_count": 222,
   "id": "0e72539d",
   "metadata": {},
   "outputs": [
    {
     "name": "stdout",
     "output_type": "stream",
     "text": [
      "[]\n",
      "[]\n",
      "(array([], dtype=int64),)\n"
     ]
    }
   ],
   "source": [
    "AD_BRAIN = np.array(MRI.loc[MRI['Group']=='AD', 'BRAINVOL'])\n",
    "\n",
    "MCI_BRAIN = list(MRI.loc[MRI['Group']=='MCI', 'BRAINVOL'])\n",
    "\n",
    "ND_BRAIN = list(MRI.loc[MRI['Group']=='ND', 'BRAINVOL'])\n",
    "\n",
    "BRAIN_ZSCORE_AD = stats.zscore(AD_BRAIN,nan_policy='omit')\n",
    "print(BRAIN_ZSCORE_AD[BRAIN_ZSCORE_AD>3.28])\n",
    "print(BRAIN_ZSCORE_AD[BRAIN_ZSCORE_AD<-3.28])\n",
    "# This should have located the index for this z score \n",
    "print(np.where(BRAIN_ZSCORE_AD>3.3))"
   ]
  },
  {
   "cell_type": "code",
   "execution_count": 39,
   "id": "ee52c139",
   "metadata": {},
   "outputs": [
    {
     "name": "stdout",
     "output_type": "stream",
     "text": [
      "1371.0835342929474\n",
      "(array([140]),)\n",
      "998.813\n",
      "BRAINVOL       998.813\n",
      "Subject_ID    OAS3_328\n",
      "Name: 1095, dtype: object\n"
     ]
    }
   ],
   "source": [
    "# done to locate the outlier\n",
    "outlier = np.nanmean(AD_BRAIN) + (3.28*np.nanstd(AD_BRAIN))\n",
    "print(outlier)\n",
    "\n",
    "print(np.where(AD_BRAIN>1370))\n",
    "print(AD_BRAIN[141])\n",
    "\n",
    "print(MRI.loc[MRI['Group']=='AD', ['BRAINVOL','Subject_ID']].iloc[141])\n",
    "#MRI.drop(1055,inplace=True)"
   ]
  },
  {
   "cell_type": "code",
   "execution_count": 40,
   "id": "9808c69f",
   "metadata": {},
   "outputs": [
    {
     "name": "stdout",
     "output_type": "stream",
     "text": [
      "[]\n",
      "[]\n"
     ]
    }
   ],
   "source": [
    "BRAIN_ZSCORE_MCI = stats.zscore(MCI_BRAIN,nan_policy='omit')\n",
    "print(BRAIN_ZSCORE_MCI[BRAIN_ZSCORE_MCI>3.28])\n",
    "print(BRAIN_ZSCORE_MCI[BRAIN_ZSCORE_MCI<-3.28])"
   ]
  },
  {
   "cell_type": "code",
   "execution_count": 41,
   "id": "168b1017",
   "metadata": {},
   "outputs": [
    {
     "name": "stdout",
     "output_type": "stream",
     "text": [
      "[]\n",
      "[]\n"
     ]
    }
   ],
   "source": [
    "BRAIN_ZSCORE_ND = stats.zscore(ND_BRAIN,nan_policy='omit')\n",
    "print(BRAIN_ZSCORE_ND[BRAIN_ZSCORE_ND>3.28])\n",
    "print(BRAIN_ZSCORE_ND[BRAIN_ZSCORE_ND<-3.28])"
   ]
  },
  {
   "cell_type": "code",
   "execution_count": 42,
   "id": "642d811b",
   "metadata": {},
   "outputs": [
    {
     "name": "stdout",
     "output_type": "stream",
     "text": [
      "[]\n",
      "[]\n"
     ]
    }
   ],
   "source": [
    "AD_IV2 = np.array(MRI.loc[MRI['Group']=='AD', 'EICV'])\n",
    "\n",
    "MCI_IV2 = list(MRI.loc[MRI['Group']=='MCI', 'EICV'])\n",
    "\n",
    "ND_IV2 = list(MRI.loc[MRI['Group']=='ND', 'EICV'])\n",
    "\n",
    "IV2_ZSCORE_AD = stats.zscore(AD_IV2,nan_policy='omit')\n",
    "print(IV2_ZSCORE_AD[IV2_ZSCORE_AD>3.28])\n",
    "print(IV2_ZSCORE_AD[IV2_ZSCORE_AD<-3.28])"
   ]
  },
  {
   "cell_type": "code",
   "execution_count": 43,
   "id": "bc0fb097",
   "metadata": {},
   "outputs": [
    {
     "name": "stdout",
     "output_type": "stream",
     "text": [
      "[]\n",
      "[]\n"
     ]
    }
   ],
   "source": [
    "IV2_ZSCORE_MCI = stats.zscore(MCI_IV2,nan_policy='omit')\n",
    "print(IV2_ZSCORE_MCI[IV2_ZSCORE_MCI>3.28])\n",
    "print(IV2_ZSCORE_MCI[IV2_ZSCORE_MCI<-3.28])"
   ]
  },
  {
   "cell_type": "code",
   "execution_count": 44,
   "id": "4c0d33af",
   "metadata": {},
   "outputs": [
    {
     "name": "stdout",
     "output_type": "stream",
     "text": [
      "[]\n",
      "[]\n"
     ]
    }
   ],
   "source": [
    "IV2_ZSCORE_ND = stats.zscore(ND_IV2,nan_policy='omit')\n",
    "print(IV2_ZSCORE_ND[IV2_ZSCORE_ND>3.28])\n",
    "print(IV2_ZSCORE_ND[IV2_ZSCORE_ND<-3.28])"
   ]
  },
  {
   "cell_type": "markdown",
   "id": "0da4d7bd",
   "metadata": {},
   "source": [
    "as MMSE scores are interval data a z score between 3 and 4 will not exist. I will look for outliers using a histogram instead"
   ]
  },
  {
   "cell_type": "code",
   "execution_count": 45,
   "id": "27e7b32b",
   "metadata": {},
   "outputs": [
    {
     "data": {
      "image/png": "[encoded data removed]",
      "text/plain": [
       "<Figure size 432x288 with 1 Axes>"
      ]
     },
     "metadata": {
      "needs_background": "light"
     },
     "output_type": "display_data"
    }
   ],
   "source": [
    "x = MRI.loc[MRI['Group']=='ND', 'MMSE'].dropna()\n",
    "plt.hist(x,bins=10)\n",
    "plt.show()"
   ]
  },
  {
   "cell_type": "code",
   "execution_count": 46,
   "id": "a984d56e",
   "metadata": {},
   "outputs": [
    {
     "name": "stdout",
     "output_type": "stream",
     "text": [
      "     Subject_ID         MRI_ID Group  Visit MR_Delay    Age   MMSE   CDR  \\\n",
      "272   OAS2_0131  OAS2_0131_MR2    ND  2.000  679.000 67.000 25.000 0.000   \n",
      "404   OAS1_0065  OAS1_0065_MR1    ND    NaN    0.000 90.000 25.000 0.000   \n",
      "708     OAS3_70            NaN    ND    NaN      199 74.000 25.000 0.000   \n",
      "888    OAS3_184            NaN    ND    NaN      728 78.300 24.000 0.000   \n",
      "889    OAS3_184            NaN    ND    NaN      728 78.300 24.000 0.000   \n",
      "969    OAS3_245            NaN    ND    NaN        0 73.800 25.000 0.000   \n",
      "994    OAS3_262            NaN    ND    NaN      145 85.800 24.000 0.000   \n",
      "1506   OAS3_602            NaN    ND    NaN      919 70.700 25.000 0.000   \n",
      "2135  OAS3_1092            NaN    ND    NaN      883 74.300 24.000 0.000   \n",
      "2621   OAS3_118            NaN    ND    NaN      910 80.400 25.000 0.000   \n",
      "2719   OAS3_296            NaN    ND    NaN      355 79.100 22.000 0.000   \n",
      "2777   OAS3_401            NaN    ND    NaN      399 63.900 25.000 0.000   \n",
      "2905   OAS3_669            NaN    ND    NaN      541 63.600 25.000 0.000   \n",
      "3115  OAS3_1021            NaN    ND    NaN        0 86.900 24.000 0.000   \n",
      "3451   OAS3_685            NaN    ND    NaN      906 89.600 23.000 0.000   \n",
      "\n",
      "         eTIV  nWBV   ASF        EICV  BRAINVOL  counts Converted  num_MRI  \n",
      "272  1331.000 0.761 1.318         NaN       NaN       2         4        2  \n",
      "404  1301.000 0.645 1.349         NaN       NaN       1     0.000        1  \n",
      "708       NaN   NaN   NaN 1600860.000  1156.511       1     0.000        2  \n",
      "888       NaN   NaN   NaN 1235930.000   863.926       1     0.000        5  \n",
      "889       NaN   NaN   NaN 1235930.000   944.629       1     0.000        5  \n",
      "969       NaN   NaN   NaN         NaN       NaN       1     0.000        1  \n",
      "994       NaN   NaN   NaN         NaN       NaN       2         1        5  \n",
      "1506      NaN   NaN   NaN         NaN       NaN       1     0.000        4  \n",
      "2135      NaN   NaN   NaN 1325590.000   949.214       2         4        5  \n",
      "2621      NaN   NaN   NaN         NaN       NaN       2         1        5  \n",
      "2719      NaN   NaN   NaN 1497450.000       NaN       2         0        4  \n",
      "2777      NaN   NaN   NaN         NaN       NaN       2         4        4  \n",
      "2905      NaN   NaN   NaN 1684020.000       NaN       2         0        5  \n",
      "3115      NaN   NaN   NaN 1296930.000   883.824       1     0.000        1  \n",
      "3451      NaN   NaN   NaN         NaN       NaN       1     0.000        4  \n",
      "22\n",
      "38\n"
     ]
    }
   ],
   "source": [
    "print(MRI[(MRI['MMSE']<=25)&(MRI['Group']=='ND')])\n",
    "print(len(MRI[(MRI['Age']>=90)&(MRI['Group']=='ND')]))\n",
    "print(len(MRI[MRI['Age']>=90]))"
   ]
  },
  {
   "cell_type": "markdown",
   "id": "2ee8a6f8",
   "metadata": {},
   "source": [
    "A score between 22-25 is not abnormally low. Additionally, one of the subjects that obtained an MMSE score of 25 is 90 years old, it is plausible for a 90 year old without dementia to score slightly lower due to normal effects of aging, additionally, there are 38 other 90 year old subjects within this sample. I will keep this subject and others who scored below 25 in the dataset in order to represent the true population of adults ages 50-100\n",
    "\n",
    "Subject 0131 is the subject from converted group 4, they will be kept in the dataset"
   ]
  },
  {
   "cell_type": "code",
   "execution_count": 47,
   "id": "73811b02",
   "metadata": {},
   "outputs": [
    {
     "data": {
      "image/png": "[encoded data removed]",
      "text/plain": [
       "<Figure size 432x288 with 1 Axes>"
      ]
     },
     "metadata": {
      "needs_background": "light"
     },
     "output_type": "display_data"
    }
   ],
   "source": [
    "histMCI = MRI.loc[MRI['Group']=='MCI', 'MMSE']\n",
    "plt.hist(histMCI,bins=10)\n",
    "plt.show()"
   ]
  },
  {
   "cell_type": "code",
   "execution_count": 48,
   "id": "daf7011c",
   "metadata": {},
   "outputs": [
    {
     "name": "stdout",
     "output_type": "stream",
     "text": [
      "8\n"
     ]
    }
   ],
   "source": [
    "print(len(MRI[(MRI['MMSE']<=15)&(MRI['Group']=='MCI')]))"
   ]
  },
  {
   "cell_type": "markdown",
   "id": "b8bf1d7a",
   "metadata": {},
   "source": [
    "There are 8 subjects within the lower range of MMSE scores, removing these subjects will not affect the skew of the data, also, extreme values of brain volume data have been removed, therefore these subjects will remain in the dataset"
   ]
  },
  {
   "cell_type": "code",
   "execution_count": 49,
   "id": "19f9cbc0",
   "metadata": {},
   "outputs": [
    {
     "data": {
      "image/png": "[encoded data removed]",
      "text/plain": [
       "<Figure size 432x288 with 1 Axes>"
      ]
     },
     "metadata": {
      "needs_background": "light"
     },
     "output_type": "display_data"
    }
   ],
   "source": [
    "histAD = MRI.loc[MRI['Group']=='AD', 'MMSE']\n",
    "plt.hist(histAD,bins=10)\n",
    "plt.show()"
   ]
  },
  {
   "cell_type": "code",
   "execution_count": 50,
   "id": "fb5c64d7",
   "metadata": {},
   "outputs": [
    {
     "name": "stdout",
     "output_type": "stream",
     "text": [
      "     Subject_ID         MRI_ID Group  Visit MR_Delay    Age  MMSE   CDR  \\\n",
      "100   OAS2_0048  OAS2_0048_MR4    AD  4.000  970.000 68.000 7.000 1.000   \n",
      "101   OAS2_0048  OAS2_0048_MR5    AD  5.000 1233.000 69.000 4.000 1.000   \n",
      "720     OAS3_78            NaN    AD    NaN        0 76.000 9.000 3.000   \n",
      "1683   OAS3_730            NaN    AD    NaN      538 70.600 8.000 2.000   \n",
      "1713   OAS3_750            NaN    AD    NaN      542 75.600 8.000 2.000   \n",
      "1755   OAS3_793            NaN    AD    NaN      650 68.900 7.000 2.000   \n",
      "2126  OAS3_1082            NaN    AD    NaN      548 69.500 5.000 2.000   \n",
      "2474  OAS3_1368            NaN    AD    NaN      501 75.200 5.000 1.000   \n",
      "2580    OAS3_50            NaN    AD    NaN      517 77.600 8.000 2.000   \n",
      "2604    OAS3_88            NaN    AD    NaN      583 65.600 1.000 3.000   \n",
      "2606    OAS3_93            NaN    AD    NaN      194 77.200 5.000 3.000   \n",
      "2607    OAS3_93            NaN    AD    NaN      543 77.200 4.000 3.000   \n",
      "2612   OAS3_102            NaN    AD    NaN      731 70.300 5.000 1.000   \n",
      "2858   OAS3_565            NaN    AD    NaN      169 74.600 8.000 2.000   \n",
      "2859   OAS3_565            NaN    AD    NaN      540 74.600 2.000 3.000   \n",
      "3157  OAS3_1082            NaN    AD    NaN      912 69.500 0.000 3.000   \n",
      "3201  OAS3_1157            NaN    AD    NaN      914 84.900 9.000 2.000   \n",
      "3257  OAS3_1262            NaN    AD    NaN      948 72.700 4.000 2.000   \n",
      "3311  OAS3_1368            NaN    AD    NaN      887 75.200 7.000 2.000   \n",
      "3344  OAS3_1409            NaN    AD    NaN        0 65.900 0.000 2.000   \n",
      "\n",
      "         eTIV  nWBV   ASF        EICV  BRAINVOL  counts Converted  num_MRI  \n",
      "100  1714.000 0.682 1.024         NaN       NaN       1     0.000        5  \n",
      "101  1701.000 0.676 1.032         NaN       NaN       1     0.000        5  \n",
      "720       NaN   NaN   NaN 1513820.000  1027.473       1     0.000        3  \n",
      "1683      NaN   NaN   NaN         NaN       NaN       1     0.000        3  \n",
      "1713      NaN   NaN   NaN 1193230.000   731.803       2         3        3  \n",
      "1755      NaN   NaN   NaN 1519580.000  1002.054       1     0.000        3  \n",
      "2126      NaN   NaN   NaN         NaN       NaN       1     0.000        4  \n",
      "2474      NaN   NaN   NaN 1267160.000   821.314       1     0.000        4  \n",
      "2580      NaN   NaN   NaN 1720480.000       NaN       1     0.000        5  \n",
      "2604      NaN   NaN   NaN         NaN       NaN       2         3        3  \n",
      "2606      NaN   NaN   NaN 1294920.000   834.933       1     0.000        3  \n",
      "2607      NaN   NaN   NaN 1294920.000   805.156       1     0.000        3  \n",
      "2612      NaN   NaN   NaN         NaN       NaN       2         3        5  \n",
      "2858      NaN   NaN   NaN         NaN       NaN       1     0.000        3  \n",
      "2859      NaN   NaN   NaN 1433270.000   995.854       1     0.000        3  \n",
      "3157      NaN   NaN   NaN         NaN       NaN       1     0.000        4  \n",
      "3201      NaN   NaN   NaN         NaN       NaN       2         0        4  \n",
      "3257      NaN   NaN   NaN         NaN       NaN       1     0.000        7  \n",
      "3311      NaN   NaN   NaN         NaN       NaN       1     0.000        4  \n",
      "3344      NaN   NaN   NaN         NaN       NaN       1     0.000        1  \n",
      "    Subject_ID         MRI_ID Group  Visit MR_Delay    Age   MMSE   CDR  \\\n",
      "97   OAS2_0048  OAS2_0048_MR1    AD  1.000    0.000 66.000 19.000 1.000   \n",
      "98   OAS2_0048  OAS2_0048_MR2    AD  2.000  248.000 66.000 21.000 1.000   \n",
      "99   OAS2_0048  OAS2_0048_MR3    AD  3.000  647.000 68.000 19.000 1.000   \n",
      "100  OAS2_0048  OAS2_0048_MR4    AD  4.000  970.000 68.000  7.000 1.000   \n",
      "101  OAS2_0048  OAS2_0048_MR5    AD  5.000 1233.000 69.000  4.000 1.000   \n",
      "\n",
      "        eTIV  nWBV   ASF  EICV  BRAINVOL  counts Converted  num_MRI  \n",
      "97  1695.000 0.711 1.036   NaN       NaN       1     0.000        5  \n",
      "98  1708.000 0.703 1.028   NaN       NaN       1     0.000        5  \n",
      "99  1712.000 0.691 1.025   NaN       NaN       1     0.000        5  \n",
      "100 1714.000 0.682 1.024   NaN       NaN       1     0.000        5  \n",
      "101 1701.000 0.676 1.032   NaN       NaN       1     0.000        5  \n"
     ]
    }
   ],
   "source": [
    "#print(MRI[(MRI['MMSE']==14)&(MRI['Group']=='MCI')])\n",
    "print(MRI[(MRI['MMSE']<10)&(MRI['Group']=='AD')])\n",
    "print(MRI[MRI['Subject_ID']=='OAS2_0048'])"
   ]
  },
  {
   "cell_type": "markdown",
   "id": "8685cf33",
   "metadata": {},
   "source": [
    "Within the AD sample, subject 0048 was the only subject who scored lower than 15 in the MMSE. \n",
    "They were given the same CDR of 1 at every scan, however, their MMSE scores significantly declined during this period. They remained in their late 60's throughout this time, their eTIV and nWBV scores also remained in the same range.\n",
    "\n",
    "It is possible that there was a data entry error and MMSE were supposed to be 17 and 14, however, it would be innaporopriate to change these values as the MMSE is a clinical examination. Therefore I will remove these rows"
   ]
  },
  {
   "cell_type": "code",
   "execution_count": 51,
   "id": "11e048a0",
   "metadata": {},
   "outputs": [
    {
     "data": {
      "image/png": "[encoded data removed]",
      "text/plain": [
       "<Figure size 432x288 with 1 Axes>"
      ]
     },
     "metadata": {
      "needs_background": "light"
     },
     "output_type": "display_data"
    }
   ],
   "source": [
    "#MRI.drop(100,inplace=True)\n",
    "#MRI.drop(101,inplace=True)\n",
    "histAD = MRI.loc[MRI['Group']=='AD', 'MMSE']\n",
    "plt.hist(histAD,bins=10)\n",
    "plt.show()"
   ]
  },
  {
   "cell_type": "markdown",
   "id": "1d2e36a6",
   "metadata": {},
   "source": [
    "# Results"
   ]
  },
  {
   "cell_type": "markdown",
   "id": "23902b87",
   "metadata": {},
   "source": [
    "## 3.1 Overview of data"
   ]
  },
  {
   "cell_type": "markdown",
   "id": "8109276f",
   "metadata": {},
   "source": [
    "### 3.1.1 Aggregate analysis of data after cleaning"
   ]
  },
  {
   "cell_type": "code",
   "execution_count": 223,
   "id": "8b0f1d1e",
   "metadata": {},
   "outputs": [
    {
     "name": "stdout",
     "output_type": "stream",
     "text": [
      "1159\n"
     ]
    }
   ],
   "source": [
    "# counts the amount of unique subject ID's/amount of subjects in the whole dataset\n",
    "print(MRI.groupby(['Subject_ID']).Subject_ID.unique().count())"
   ]
  },
  {
   "cell_type": "code",
   "execution_count": 228,
   "id": "6a95af1c",
   "metadata": {},
   "outputs": [
    {
     "name": "stdout",
     "output_type": "stream",
     "text": [
      "1   288\n",
      "2   184\n",
      "3   236\n",
      "4   179\n",
      "5   176\n",
      "6   57\n",
      "7   14\n",
      "8   16\n",
      "9   6\n",
      "10   3\n",
      "11   0\n",
      "12   0\n",
      "\n",
      "\n"
     ]
    }
   ],
   "source": [
    "# prints the amount of subjects for each number of MRI scans\n",
    "# due to the nature of the non-unique subject id's this was done manually\n",
    "for i in range(1,13):\n",
    "    if i == 1:\n",
    "        print(i, \" \", len(MRI.loc[MRI['num_MRI']==i, 'Subject_ID']))\n",
    "    else:\n",
    "        print(i, \" \", len(MRI.loc[MRI['num_MRI']==i, 'Subject_ID'].unique()))\n",
    "\n",
    "print(\"\\n\")\n"
   ]
  },
  {
   "cell_type": "code",
   "execution_count": 229,
   "id": "bbadc026",
   "metadata": {},
   "outputs": [
    {
     "name": "stdout",
     "output_type": "stream",
     "text": [
      "1   886\n",
      "2   266\n",
      "3   6\n",
      "4   1\n",
      "5   0\n",
      "\n",
      "\n"
     ]
    }
   ],
   "source": [
    "#prints the amount of subjects that converted and did not convert\n",
    "for i in range(1,6):\n",
    "    print(i, \" \", len(MRI.loc[MRI['counts']==i, 'Subject_ID'].unique()))        \n",
    "\n",
    "print(\"\\n\")"
   ]
  },
  {
   "cell_type": "code",
   "execution_count": 231,
   "id": "152f5411",
   "metadata": {},
   "outputs": [
    {
     "name": "stdout",
     "output_type": "stream",
     "text": [
      "0   948\n",
      "1   38\n",
      "2   1\n",
      "3   123\n",
      "4   16\n",
      "5   8\n",
      "6   0\n"
     ]
    }
   ],
   "source": [
    "# prints the amount of subjects in each conversion group\n",
    "for i in range(7):\n",
    "    print(i, \" \", len(MRI.loc[MRI['Converted']==i, 'Subject_ID'].unique()))"
   ]
  },
  {
   "cell_type": "code",
   "execution_count": 232,
   "id": "5201ea9e",
   "metadata": {},
   "outputs": [
    {
     "name": "stdout",
     "output_type": "stream",
     "text": [
      "176\n",
      "427\n",
      "20\n",
      "536\n",
      "\n",
      "\n",
      "291\n",
      "398\n",
      "33\n",
      "437\n"
     ]
    }
   ],
   "source": [
    "# counts the amount of subjects in each diagnosis group on the first and last scan\n",
    "thisgroup = MRI.groupby(['Subject_ID']).Group.first()\n",
    "\n",
    "diagnosis = {'AD':0,'ND':0,'U':0,'MCI':0}\n",
    "for i in range(len(thisgroup)):\n",
    "    for key in diagnosis.keys():\n",
    "        if thisgroup.iloc[i] == key:\n",
    "            diagnosis[key] += 1\n",
    "print(diagnosis['AD'])\n",
    "print(diagnosis['ND'])\n",
    "print(diagnosis['U'])\n",
    "print(diagnosis['MCI'])\n",
    "print(\"\\n\")\n",
    "\n",
    "thisgroup_last = MRI.groupby(['Subject_ID']).Group.last()\n",
    "\n",
    "diagnosis_last = {'AD':0,'ND':0,'U':0,'MCI':0}\n",
    "for i in range(len(thisgroup_last)):\n",
    "    for key in diagnosis_last.keys():\n",
    "        if thisgroup_last.iloc[i] == key:\n",
    "            diagnosis_last[key] += 1\n",
    "print(diagnosis_last['AD'])\n",
    "print(diagnosis_last['ND'])\n",
    "print(diagnosis_last['U'])\n",
    "print(diagnosis_last['MCI'])"
   ]
  },
  {
   "cell_type": "markdown",
   "id": "238ee3ea",
   "metadata": {},
   "source": [
    "### Analysis of Converted subjects"
   ]
  },
  {
   "cell_type": "code",
   "execution_count": 234,
   "id": "d9f22633",
   "metadata": {},
   "outputs": [
    {
     "name": "stdout",
     "output_type": "stream",
     "text": [
      "81.8 %\n",
      "3.3 %\n",
      "0.1 %\n",
      "10.6 %\n",
      "1.4 %\n",
      "0.7 %\n",
      "0.0 %\n"
     ]
    }
   ],
   "source": [
    "# saves the amount of subjects in each group to dictionary values\n",
    "convertedgroupby = MRI.groupby(['Subject_ID']).Converted.first()\n",
    "converted = {0:0, 1:0, 2:0, 3:0, 4:0, 5:0, 6:0}\n",
    "for i in range(len(convertedgroupby)):\n",
    "    for key in converted.keys():\n",
    "        if convertedgroupby.iloc[i] == key:\n",
    "            converted[key] += 1\n",
    "            \n",
    "\n",
    "# prints the percentage of subjects in each group\n",
    "print(round((converted[0] / 1159 * 100),1),\"%\")\n",
    "print(round(converted[1] / 1159 * 100,1),\"%\")\n",
    "print(round(converted[2] / 1159 * 100,1),\"%\")\n",
    "print(round(converted[3] / 1159 * 100,1),\"%\")\n",
    "print(round(converted[4] / 1159 * 100,1),\"%\")\n",
    "print(round(converted[5] / 1159 * 100,1),\"%\")\n",
    "print(round(converted[6] / 1159 * 100,1),\"%\")"
   ]
  },
  {
   "cell_type": "code",
   "execution_count": 235,
   "id": "aea3759a",
   "metadata": {},
   "outputs": [],
   "source": [
    "# groups subjects on days between scans\n",
    "dgl = MRI.groupby(['Subject_ID','Converted','num_MRI','Group']).MR_Delay.last()"
   ]
  },
  {
   "cell_type": "code",
   "execution_count": 55,
   "id": "f990bfbd",
   "metadata": {},
   "outputs": [
    {
     "name": "stdout",
     "output_type": "stream",
     "text": [
      "62\n",
      "337\n",
      "123\n",
      "471\n"
     ]
    }
   ],
   "source": [
    "# amount of subjects who had their final scan within 6 months\n",
    "print(len(dgl[(dgl<183)&(dgl>0)]))\n",
    "\n",
    "# amount of rows with scans after 6 months\n",
    "print(len(MRI.loc[(MRI['MR_Delay']<183)&(MRI['MR_Delay']>0)]))\n",
    "\n",
    "#6-12 months\n",
    "print(len(dgl[(dgl<366)&(dgl>182)]))\n",
    "print(len(MRI.loc[(MRI['MR_Delay']<366)&(MRI['MR_Delay']>182)]))"
   ]
  },
  {
   "cell_type": "code",
   "execution_count": 236,
   "id": "b218424f",
   "metadata": {},
   "outputs": [
    {
     "name": "stdout",
     "output_type": "stream",
     "text": [
      "182\n",
      "458\n",
      "187\n",
      "366\n"
     ]
    }
   ],
   "source": [
    "# 12-18 months\n",
    "print(len(dgl[(dgl<548)&(dgl>365)]))\n",
    "print(len(MRI.loc[(MRI['MR_Delay']<548)&(MRI['MR_Delay']>365)]))\n",
    "\n",
    "\n",
    "# 18-24 months\n",
    "print(len(dgl[(dgl<731)&(dgl>547)]))\n",
    "print(len(MRI.loc[(MRI['MR_Delay']<731)&(MRI['MR_Delay']>547)]))\n"
   ]
  },
  {
   "cell_type": "code",
   "execution_count": 237,
   "id": "f839f133",
   "metadata": {},
   "outputs": [
    {
     "name": "stdout",
     "output_type": "stream",
     "text": [
      "143\n",
      "225\n",
      "139\n",
      "210\n"
     ]
    }
   ],
   "source": [
    "# 24-30 months \n",
    "print(len(dgl[(dgl<913)&(dgl>730)]))\n",
    "print(len(MRI.loc[(MRI['MR_Delay']<913)&(MRI['MR_Delay']>730)]))\n",
    "\n",
    "# 30-36 months \n",
    "print(len(dgl[(dgl<1096)&(dgl>912)]))\n",
    "print(len(MRI.loc[(MRI['MR_Delay']<1096)&(MRI['MR_Delay']>912)]))"
   ]
  },
  {
   "cell_type": "code",
   "execution_count": 58,
   "id": "9907b34f",
   "metadata": {},
   "outputs": [
    {
     "name": "stdout",
     "output_type": "stream",
     "text": [
      "42\n",
      "68\n"
     ]
    }
   ],
   "source": [
    "# 36-42 months \n",
    "print(len(dgl[(dgl<1278)&(dgl>1095)]))\n",
    "\n",
    "# 42-48 months\n",
    "print(len(dgl[(dgl<1461)&(dgl>1277)]))"
   ]
  },
  {
   "cell_type": "code",
   "execution_count": 59,
   "id": "3379c2d5",
   "metadata": {},
   "outputs": [
    {
     "name": "stdout",
     "output_type": "stream",
     "text": [
      "12\n",
      "9\n"
     ]
    }
   ],
   "source": [
    "#48-54 months\n",
    "print(len(dgl[(dgl<1643)&(dgl>1460)]))\n",
    "\n",
    "#54-60 months\n",
    "print(len(dgl[(dgl<1826)&(dgl>1642)]))"
   ]
  },
  {
   "cell_type": "code",
   "execution_count": 60,
   "id": "19aaffb9",
   "metadata": {},
   "outputs": [
    {
     "name": "stdout",
     "output_type": "stream",
     "text": [
      "5\n",
      "2\n"
     ]
    }
   ],
   "source": [
    "# 60-66 months \n",
    "print(len(dgl[(dgl<2008)&(dgl>1825)]))\n",
    "\n",
    "# 66-72 months\n",
    "print(len(dgl[(dgl<2191)&(dgl>2007)]))"
   ]
  },
  {
   "cell_type": "code",
   "execution_count": 61,
   "id": "3885dd24",
   "metadata": {},
   "outputs": [
    {
     "name": "stdout",
     "output_type": "stream",
     "text": [
      "2\n",
      "4\n"
     ]
    }
   ],
   "source": [
    "# 72-78 months\n",
    "print(len(dgl[(dgl<2373)&(dgl>2190)]))\n",
    "\n",
    "# 78-84 months\n",
    "print(len(dgl[(dgl<2556)&(dgl>2372)]))"
   ]
  },
  {
   "cell_type": "code",
   "execution_count": 62,
   "id": "843faed7",
   "metadata": {},
   "outputs": [
    {
     "name": "stdout",
     "output_type": "stream",
     "text": [
      "1\n"
     ]
    }
   ],
   "source": [
    "# 84-90 months \n",
    "print(len(dgl[(dgl<2738)&(dgl>2555)]))\n"
   ]
  },
  {
   "cell_type": "code",
   "execution_count": 63,
   "id": "e3925a8f",
   "metadata": {},
   "outputs": [
    {
     "name": "stdout",
     "output_type": "stream",
     "text": [
      "Subject_ID  Converted  num_MRI  Group\n",
      "OAS2_0127   1.0        5        MCI     2639.000\n",
      "Name: MR_Delay, dtype: object\n"
     ]
    }
   ],
   "source": [
    "# this is the longest time interval\n",
    "print(dgl[(dgl>2556)])"
   ]
  },
  {
   "cell_type": "code",
   "execution_count": 65,
   "id": "ac4b07b9",
   "metadata": {},
   "outputs": [
    {
     "name": "stdout",
     "output_type": "stream",
     "text": [
      "     Subject_ID         MRI_ID Group  Visit MR_Delay    Age   MMSE    CDR  \\\n",
      "397   OAS1_0047  OAS1_0047_MR1     U    NaN    0.000 57.000    NaN    NaN   \n",
      "444   OAS1_0160  OAS1_0160_MR1     U    NaN    0.000 57.000    NaN    NaN   \n",
      "449   OAS1_0168  OAS1_0168_MR1     U    NaN    0.000 50.000    NaN    NaN   \n",
      "494   OAS1_0265  OAS1_0265_MR1     U    NaN    0.000 54.000    NaN    NaN   \n",
      "504   OAS1_0275  OAS1_0275_MR1     U    NaN    0.000 50.000    NaN    NaN   \n",
      "533   OAS1_0327  OAS1_0327_MR1     U    NaN    0.000 50.000    NaN    NaN   \n",
      "536   OAS1_0331  OAS1_0331_MR1     U    NaN    0.000 54.000    NaN    NaN   \n",
      "565   OAS1_0383  OAS1_0383_MR1     U    NaN    0.000 58.000    NaN    NaN   \n",
      "567   OAS1_0389  OAS1_0389_MR1     U    NaN    0.000 55.000    NaN    NaN   \n",
      "576   OAS1_0407  OAS1_0407_MR1     U    NaN    0.000 55.000    NaN    NaN   \n",
      "588   OAS1_0434  OAS1_0434_MR1     U    NaN    0.000 50.000    NaN    NaN   \n",
      "1480   OAS3_575            NaN     U    NaN      746 86.200 30.000 -1.000   \n",
      "1520   OAS3_607            NaN     U    NaN        0 78.000 28.000 -1.000   \n",
      "1657   OAS3_717            NaN     U    NaN      182 76.000 29.000 -1.000   \n",
      "1675   OAS3_726            NaN     U    NaN      257 81.000    NaN -1.000   \n",
      "1685   OAS3_731            NaN     U    NaN      172 71.500 29.000 -1.000   \n",
      "1686   OAS3_731            NaN     U    NaN      564 71.500 29.000 -1.000   \n",
      "1868   OAS3_898            NaN     U    NaN      185 83.100 30.000 -1.000   \n",
      "1922   OAS3_928            NaN     U    NaN      367 82.800 27.000 -1.000   \n",
      "2207  OAS3_1152            NaN     U    NaN      167 71.400 23.000 -1.000   \n",
      "2214  OAS3_1157            NaN     U    NaN      562 84.900    NaN -1.000   \n",
      "2255  OAS3_1212            NaN     U    NaN        0 75.300 27.000 -1.000   \n",
      "2256  OAS3_1212            NaN     U    NaN        0 75.300 27.000 -1.000   \n",
      "2575    OAS3_48            NaN     U    NaN        0 78.300 28.000 -1.000   \n",
      "2609    OAS3_98            NaN     U    NaN     -295 84.400 25.000 -1.000   \n",
      "2684   OAS3_225            NaN     U    NaN     1086 82.400 29.000 -1.000   \n",
      "2729   OAS3_303            NaN     U    NaN      800 84.200 30.000 -1.000   \n",
      "2818   OAS3_492            NaN     U    NaN        0 87.300 21.000 -1.000   \n",
      "2892   OAS3_638            NaN     U    NaN      936 83.100 15.000 -1.000   \n",
      "2930   OAS3_717            NaN     U    NaN      937 76.000 28.000 -1.000   \n",
      "3009   OAS3_853            NaN     U    NaN        0 86.800 21.000 -1.000   \n",
      "3079   OAS3_950            NaN     U    NaN      918 73.500 26.000 -1.000   \n",
      "3085   OAS3_958            NaN     U    NaN        0 64.300 29.000 -1.000   \n",
      "3114  OAS3_1014            NaN     U    NaN      541 84.700 30.000 -1.000   \n",
      "3177  OAS3_1114            NaN     U    NaN      738 78.300 26.000 -1.000   \n",
      "3198  OAS3_1152            NaN     U    NaN      662 71.400 23.000 -1.000   \n",
      "3217  OAS3_1200            NaN     U    NaN      553 84.400 29.000 -1.000   \n",
      "3218  OAS3_1200            NaN     U    NaN      913 84.400 28.000 -1.000   \n",
      "3222  OAS3_1205            NaN     U    NaN        0 83.000    NaN -1.000   \n",
      "3239  OAS3_1245            NaN     U    NaN      104 71.300 29.000 -1.000   \n",
      "3249  OAS3_1255            NaN     U    NaN      710 76.400 27.000 -1.000   \n",
      "3303  OAS3_1343            NaN     U    NaN      366 64.700 29.000 -1.000   \n",
      "3320  OAS3_1382            NaN     U    NaN      551 64.300  9.000 -1.000   \n",
      "3354   OAS3_641            NaN     U    NaN        0 74.400    NaN -1.000   \n",
      "3355   OAS3_928            NaN     U    NaN      633 82.800 26.000 -1.000   \n",
      "3387   OAS3_158            NaN     U    NaN      372 80.400 30.000 -1.000   \n",
      "3388   OAS3_158            NaN     U    NaN      736 80.400 30.000 -1.000   \n",
      "3529  OAS3_1276            NaN     U    NaN        0 71.800 29.000 -1.000   \n",
      "3530  OAS3_1276            NaN     U    NaN      357 71.800 28.000 -1.000   \n",
      "\n",
      "         eTIV  nWBV   ASF        EICV  BRAINVOL  counts Converted  num_MRI  \n",
      "397  1408.000 0.784 1.247         NaN       NaN       1     0.000        1  \n",
      "444  1745.000 0.813 1.006         NaN       NaN       1     0.000        1  \n",
      "449  1411.000 0.846 1.244         NaN       NaN       1     0.000        1  \n",
      "494  1410.000 0.813 1.245         NaN       NaN       1     0.000        1  \n",
      "504  1635.000 0.802 1.073         NaN       NaN       1     0.000        1  \n",
      "533  1740.000 0.794 1.008         NaN       NaN       1     0.000        1  \n",
      "536  1467.000 0.821 1.196         NaN       NaN       1     0.000        1  \n",
      "565  1590.000 0.746 1.104         NaN       NaN       1     0.000        1  \n",
      "567  1678.000 0.782 1.046         NaN       NaN       1     0.000        1  \n",
      "576  1434.000 0.807 1.224         NaN       NaN       1     0.000        1  \n",
      "588  1385.000 0.819 1.267         NaN       NaN       1     0.000        1  \n",
      "1480      NaN   NaN   NaN         NaN   861.951       2      none        2  \n",
      "1520      NaN   NaN   NaN 1293010.000   929.527       2      none        3  \n",
      "1657      NaN   NaN   NaN 1710120.000  1230.007       3      none        4  \n",
      "1675      NaN   NaN   NaN 1467030.000   993.444       2      none        2  \n",
      "1685      NaN   NaN   NaN 1440430.000  1116.416       2      none        3  \n",
      "1686      NaN   NaN   NaN 1440430.000  1115.834       2      none        3  \n",
      "1868      NaN   NaN   NaN         NaN       NaN       4         2        4  \n",
      "1922      NaN   NaN   NaN         NaN   847.233       2      none        4  \n",
      "2207      NaN   NaN   NaN         NaN       NaN       2      none        3  \n",
      "2214      NaN   NaN   NaN         NaN       NaN       2         0        4  \n",
      "2255      NaN   NaN   NaN 1455080.000  1145.646       2      none        5  \n",
      "2256      NaN   NaN   NaN 1455080.000  1026.623       2      none        5  \n",
      "2575      NaN   NaN   NaN         NaN       NaN       3      none        4  \n",
      "2609      NaN   NaN   NaN         NaN       NaN       2      none        2  \n",
      "2684      NaN   NaN   NaN         NaN       NaN       2      none        5  \n",
      "2729      NaN   NaN   NaN         NaN       NaN       2      none        8  \n",
      "2818      NaN   NaN   NaN         NaN       NaN       1     0.000        1  \n",
      "2892      NaN   NaN   NaN         NaN       NaN       2      none        5  \n",
      "2930      NaN   NaN   NaN         NaN       NaN       3      none        4  \n",
      "3009      NaN   NaN   NaN         NaN       NaN       2      none        2  \n",
      "3079      NaN   NaN   NaN         NaN       NaN       2      none        5  \n",
      "3085      NaN   NaN   NaN         NaN       NaN       1     0.000        1  \n",
      "3114      NaN   NaN   NaN         NaN       NaN       2      none        3  \n",
      "3177      NaN   NaN   NaN         NaN       NaN       2      none        5  \n",
      "3198      NaN   NaN   NaN         NaN       NaN       2      none        3  \n",
      "3217      NaN   NaN   NaN         NaN       NaN       3      none        4  \n",
      "3218      NaN   NaN   NaN         NaN       NaN       3      none        4  \n",
      "3222      NaN   NaN   NaN 1331680.000   900.576       1     0.000        1  \n",
      "3239      NaN   NaN   NaN         NaN       NaN       3      none        3  \n",
      "3249      NaN   NaN   NaN         NaN       NaN       2      none        5  \n",
      "3303      NaN   NaN   NaN         NaN       NaN       3      none        3  \n",
      "3320      NaN   NaN   NaN 1755710.000  1118.020       2      none        3  \n",
      "3354      NaN   NaN   NaN         NaN       NaN       2      none        3  \n",
      "3355      NaN   NaN   NaN         NaN       NaN       2      none        4  \n",
      "3387      NaN   NaN   NaN 1260930.000   903.892       3      none        4  \n",
      "3388      NaN   NaN   NaN 1260930.000   899.303       3      none        4  \n",
      "3529      NaN   NaN   NaN         NaN       NaN       2      none        4  \n",
      "3530      NaN   NaN   NaN         NaN       NaN       2      none        4  \n"
     ]
    },
    {
     "data": {
      "text/html": [
       "<div>\n",
       "<style scoped>\n",
       "    .dataframe tbody tr th:only-of-type {\n",
       "        vertical-align: middle;\n",
       "    }\n",
       "\n",
       "    .dataframe tbody tr th {\n",
       "        vertical-align: top;\n",
       "    }\n",
       "\n",
       "    .dataframe thead th {\n",
       "        text-align: right;\n",
       "    }\n",
       "</style>\n",
       "<table border=\"1\" class=\"dataframe\">\n",
       "  <thead>\n",
       "    <tr style=\"text-align: right;\">\n",
       "      <th></th>\n",
       "      <th>Visit</th>\n",
       "      <th>Age</th>\n",
       "      <th>MMSE</th>\n",
       "      <th>CDR</th>\n",
       "      <th>eTIV</th>\n",
       "      <th>nWBV</th>\n",
       "      <th>ASF</th>\n",
       "      <th>EICV</th>\n",
       "      <th>BRAINVOL</th>\n",
       "      <th>counts</th>\n",
       "      <th>num_MRI</th>\n",
       "    </tr>\n",
       "  </thead>\n",
       "  <tbody>\n",
       "    <tr>\n",
       "      <th>count</th>\n",
       "      <td>0.000</td>\n",
       "      <td>49.000</td>\n",
       "      <td>34.000</td>\n",
       "      <td>38.000</td>\n",
       "      <td>11.000</td>\n",
       "      <td>11.000</td>\n",
       "      <td>11.000</td>\n",
       "      <td>11.000</td>\n",
       "      <td>13.000</td>\n",
       "      <td>49.000</td>\n",
       "      <td>49.000</td>\n",
       "    </tr>\n",
       "    <tr>\n",
       "      <th>mean</th>\n",
       "      <td>NaN</td>\n",
       "      <td>72.486</td>\n",
       "      <td>26.588</td>\n",
       "      <td>-1.000</td>\n",
       "      <td>1536.636</td>\n",
       "      <td>0.802</td>\n",
       "      <td>1.151</td>\n",
       "      <td>1442766.364</td>\n",
       "      <td>1006.806</td>\n",
       "      <td>1.939</td>\n",
       "      <td>3.000</td>\n",
       "    </tr>\n",
       "    <tr>\n",
       "      <th>std</th>\n",
       "      <td>NaN</td>\n",
       "      <td>11.806</td>\n",
       "      <td>4.500</td>\n",
       "      <td>0.000</td>\n",
       "      <td>142.837</td>\n",
       "      <td>0.026</td>\n",
       "      <td>0.104</td>\n",
       "      <td>164684.745</td>\n",
       "      <td>126.421</td>\n",
       "      <td>0.747</td>\n",
       "      <td>1.620</td>\n",
       "    </tr>\n",
       "    <tr>\n",
       "      <th>min</th>\n",
       "      <td>NaN</td>\n",
       "      <td>50.000</td>\n",
       "      <td>9.000</td>\n",
       "      <td>-1.000</td>\n",
       "      <td>1385.000</td>\n",
       "      <td>0.746</td>\n",
       "      <td>1.006</td>\n",
       "      <td>1260930.000</td>\n",
       "      <td>847.233</td>\n",
       "      <td>1.000</td>\n",
       "      <td>1.000</td>\n",
       "    </tr>\n",
       "    <tr>\n",
       "      <th>25%</th>\n",
       "      <td>NaN</td>\n",
       "      <td>64.300</td>\n",
       "      <td>26.000</td>\n",
       "      <td>-1.000</td>\n",
       "      <td>1410.500</td>\n",
       "      <td>0.789</td>\n",
       "      <td>1.059</td>\n",
       "      <td>1312345.000</td>\n",
       "      <td>900.576</td>\n",
       "      <td>1.000</td>\n",
       "      <td>1.000</td>\n",
       "    </tr>\n",
       "    <tr>\n",
       "      <th>50%</th>\n",
       "      <td>NaN</td>\n",
       "      <td>75.300</td>\n",
       "      <td>28.000</td>\n",
       "      <td>-1.000</td>\n",
       "      <td>1467.000</td>\n",
       "      <td>0.807</td>\n",
       "      <td>1.196</td>\n",
       "      <td>1440430.000</td>\n",
       "      <td>993.444</td>\n",
       "      <td>2.000</td>\n",
       "      <td>3.000</td>\n",
       "    </tr>\n",
       "    <tr>\n",
       "      <th>75%</th>\n",
       "      <td>NaN</td>\n",
       "      <td>82.800</td>\n",
       "      <td>29.000</td>\n",
       "      <td>-1.000</td>\n",
       "      <td>1656.500</td>\n",
       "      <td>0.816</td>\n",
       "      <td>1.244</td>\n",
       "      <td>1461055.000</td>\n",
       "      <td>1116.416</td>\n",
       "      <td>2.000</td>\n",
       "      <td>4.000</td>\n",
       "    </tr>\n",
       "    <tr>\n",
       "      <th>max</th>\n",
       "      <td>NaN</td>\n",
       "      <td>87.300</td>\n",
       "      <td>30.000</td>\n",
       "      <td>-1.000</td>\n",
       "      <td>1745.000</td>\n",
       "      <td>0.846</td>\n",
       "      <td>1.267</td>\n",
       "      <td>1755710.000</td>\n",
       "      <td>1230.007</td>\n",
       "      <td>4.000</td>\n",
       "      <td>8.000</td>\n",
       "    </tr>\n",
       "  </tbody>\n",
       "</table>\n",
       "</div>"
      ],
      "text/plain": [
       "       Visit    Age   MMSE    CDR     eTIV   nWBV    ASF        EICV  \\\n",
       "count  0.000 49.000 34.000 38.000   11.000 11.000 11.000      11.000   \n",
       "mean     NaN 72.486 26.588 -1.000 1536.636  0.802  1.151 1442766.364   \n",
       "std      NaN 11.806  4.500  0.000  142.837  0.026  0.104  164684.745   \n",
       "min      NaN 50.000  9.000 -1.000 1385.000  0.746  1.006 1260930.000   \n",
       "25%      NaN 64.300 26.000 -1.000 1410.500  0.789  1.059 1312345.000   \n",
       "50%      NaN 75.300 28.000 -1.000 1467.000  0.807  1.196 1440430.000   \n",
       "75%      NaN 82.800 29.000 -1.000 1656.500  0.816  1.244 1461055.000   \n",
       "max      NaN 87.300 30.000 -1.000 1745.000  0.846  1.267 1755710.000   \n",
       "\n",
       "       BRAINVOL  counts  num_MRI  \n",
       "count    13.000  49.000   49.000  \n",
       "mean   1006.806   1.939    3.000  \n",
       "std     126.421   0.747    1.620  \n",
       "min     847.233   1.000    1.000  \n",
       "25%     900.576   1.000    1.000  \n",
       "50%     993.444   2.000    3.000  \n",
       "75%    1116.416   2.000    4.000  \n",
       "max    1230.007   4.000    8.000  "
      ]
     },
     "execution_count": 65,
     "metadata": {},
     "output_type": "execute_result"
    }
   ],
   "source": [
    "# explore data for the undiagnosed subjects\n",
    "print(MRI[MRI['Group']=='U'])\n",
    "heyy = MRI[MRI['Group']=='U']\n",
    "heyy.describe()"
   ]
  },
  {
   "cell_type": "markdown",
   "id": "84ccb290",
   "metadata": {},
   "source": [
    "# MMSE"
   ]
  },
  {
   "cell_type": "code",
   "execution_count": 67,
   "id": "1c28c249",
   "metadata": {},
   "outputs": [
    {
     "name": "stdout",
     "output_type": "stream",
     "text": [
      "count   1141.000\n",
      "mean      26.433\n",
      "std        3.718\n",
      "min        0.000\n",
      "25%       24.000\n",
      "50%       28.000\n",
      "75%       29.000\n",
      "max       30.000\n",
      "Name: MMSE, dtype: float64\n",
      "count   1141.000\n",
      "mean      25.491\n",
      "std        5.016\n",
      "min        0.000\n",
      "25%       23.000\n",
      "50%       27.000\n",
      "75%       29.000\n",
      "max       30.000\n",
      "Name: MMSE, dtype: float64\n"
     ]
    }
   ],
   "source": [
    "MMSE = MRI.groupby(['Subject_ID'])\n",
    "MMSE_last = MRI.groupby(['Subject_ID']).MMSE.last()\n",
    "print(MMSE['MMSE'].first().describe())\n",
    "print(MMSE_last.describe())"
   ]
  },
  {
   "cell_type": "markdown",
   "id": "856c4027",
   "metadata": {},
   "source": [
    "# eTIV, nWBV and ASF"
   ]
  },
  {
   "cell_type": "code",
   "execution_count": 68,
   "id": "eab2e652",
   "metadata": {},
   "outputs": [
    {
     "name": "stdout",
     "output_type": "stream",
     "text": [
      "count    380.000\n",
      "mean    1466.558\n",
      "std      164.706\n",
      "min     1123.000\n",
      "25%     1350.750\n",
      "50%     1447.000\n",
      "75%     1556.000\n",
      "max     1992.000\n",
      "Name: eTIV, dtype: float64\n",
      "count    380.000\n",
      "mean    1470.789\n",
      "std      167.038\n",
      "min     1106.000\n",
      "25%     1351.000\n",
      "50%     1453.500\n",
      "75%     1561.250\n",
      "max     2004.000\n",
      "Name: eTIV, dtype: float64\n"
     ]
    }
   ],
   "source": [
    "def describe(column):\n",
    "    HELLO = MRI.groupby(['Subject_ID'])\n",
    "    print(HELLO[column].first().describe())\n",
    "    print(HELLO[column].last().describe())\n",
    "\n",
    "describe('eTIV')"
   ]
  },
  {
   "cell_type": "code",
   "execution_count": 69,
   "id": "52ac5a13",
   "metadata": {},
   "outputs": [
    {
     "name": "stdout",
     "output_type": "stream",
     "text": [
      "count   380.000\n",
      "mean      0.743\n",
      "std       0.044\n",
      "min       0.644\n",
      "25%       0.710\n",
      "50%       0.741\n",
      "75%       0.772\n",
      "max       0.846\n",
      "Name: nWBV, dtype: float64\n",
      "count   380.000\n",
      "mean      0.738\n",
      "std       0.046\n",
      "min       0.644\n",
      "25%       0.702\n",
      "50%       0.736\n",
      "75%       0.770\n",
      "max       0.846\n",
      "Name: nWBV, dtype: float64\n"
     ]
    }
   ],
   "source": [
    "describe('nWBV')\n",
    "\n"
   ]
  },
  {
   "cell_type": "code",
   "execution_count": 70,
   "id": "ef04d73b",
   "metadata": {
    "scrolled": true
   },
   "outputs": [
    {
     "name": "stdout",
     "output_type": "stream",
     "text": [
      "count        509.00\n",
      "mean     1464602.85\n",
      "std       153809.90\n",
      "min      1059560.00\n",
      "25%      1347330.00\n",
      "50%      1460030.00\n",
      "75%      1564790.00\n",
      "max      1951440.00\n",
      "Name: EICV, dtype: object\n",
      "count        509.00\n",
      "mean     1464602.85\n",
      "std       153809.90\n",
      "min      1059560.00\n",
      "25%      1347330.00\n",
      "50%      1460030.00\n",
      "75%      1564790.00\n",
      "max      1951440.00\n",
      "Name: EICV, dtype: object\n"
     ]
    }
   ],
   "source": [
    "#describe('EICV')\n",
    "HELLO = MRI.groupby(['Subject_ID'])\n",
    "print(HELLO['EICV'].first().describe().apply(lambda x: format(x, '.2f')))\n",
    "print(HELLO['EICV'].last().describe().apply(lambda x: format(x, '.2f')))"
   ]
  },
  {
   "cell_type": "code",
   "execution_count": 71,
   "id": "92ac6989",
   "metadata": {},
   "outputs": [
    {
     "name": "stdout",
     "output_type": "stream",
     "text": [
      "count    540.000\n",
      "mean    1027.342\n",
      "std      116.323\n",
      "min      701.968\n",
      "25%      941.938\n",
      "50%     1027.854\n",
      "75%     1106.414\n",
      "max     1376.792\n",
      "Name: BRAINVOL, dtype: float64\n",
      "count    540.000\n",
      "mean    1018.571\n",
      "std      115.047\n",
      "min      688.885\n",
      "25%      932.360\n",
      "50%     1016.740\n",
      "75%     1098.942\n",
      "max     1400.311\n",
      "Name: BRAINVOL, dtype: float64\n"
     ]
    }
   ],
   "source": [
    "describe('BRAINVOL')"
   ]
  },
  {
   "cell_type": "markdown",
   "id": "43ed4706",
   "metadata": {},
   "source": [
    "# Preparation for further analysis"
   ]
  },
  {
   "cell_type": "markdown",
   "id": "02c2323f",
   "metadata": {},
   "source": [
    "For this exploratory data analysis I will be using statistical tests to determine whether there is a difference between groups or whether certain independent variables predict a dependent variable\n",
    "\n",
    "My main interest is the brain volume data of patients with an MCI diagnosis, so I will be using this data for most of the analysis'\n",
    "\n",
    "In order to analyse the brain volume of subjects with MCI on different time intervals I will need more data, so this analysis will not be included in this EDA\n",
    "\n",
    "I will be analysing the following interactions:\n",
    "MMSE, eTIV and nWBV scores of subjects with MCI from converted group 0 and 3\n",
    "\n",
    "The reliability of these analysis' will be questionable due to small sample sizes (13), nonetheless, in future analysis I will obtain a larger dataset "
   ]
  },
  {
   "cell_type": "markdown",
   "id": "42aa624a",
   "metadata": {},
   "source": [
    "# Description of variables\n",
    "\n",
    "#### MMSE - discrete or continuous ordinal variable\n",
    "Although the MMSE is a quantitative clinical assesment, the reliability and validity are not 100%. Additionally, it is a test of cognitive function with variables such as memory and attention. Therefore, I will assume that there is no meaningful interval between scores and MMSE is an ordinal variable, namely, the difference between a score of 15 and 20 may not be the same as the difference between a score of 5 and 10.\n",
    "\n",
    "Although subjects cannot be given half scores, mean MMSE scores can be interpreted by rounding therefore MMSE can be represented as either a continous or discrete variable\n",
    "\n",
    "#### eTIV & nWBV - continous ratio variable\n",
    "as eTIV and nWBV values can be any real numbers between two real numbers they are continuous variables\n",
    "\n",
    "There is a meaningful interval between brain volume measurments and a value of 0 represents the absence of brain volume, therefore eTIV & nWBV will be represented as ratio variables\n",
    "\n",
    "\n",
    "#### MR_Delay - discrete ratio variable\n",
    "Although days can be split into hours and minutes, whole days are being used in this analysis, therefore MR_Delay will be represented as a discrete variable\n",
    "\n",
    "There is a meaningful interval between days and 0 days represents the absence of a full day, therefore MR_Delay will be represented as a ratio variable\n",
    "\n",
    "#### CDR - discrete ordinal\n",
    "\n",
    "#### Converted - categorical discrete"
   ]
  },
  {
   "cell_type": "markdown",
   "id": "1f54823d",
   "metadata": {},
   "source": [
    "## Normality tests\n",
    "\n",
    "I will be checking the normality of various distributions in order to choose the appropriate method for further analysis.\n",
    "\n",
    "I will begin by using a histogram, if the data is not heavily skewed or obviously normal I will use a Shapiro-Wilk test to determine the distribiton of the data.\n",
    "\n",
    "### MMSE\n",
    "\n",
    "\n",
    "\n",
    "From the histogram previously formed for the MMSE scores of subjects with no dementia it is clear that this sample is heavily, negatively skewed. The MMSE scores of subjects with MCI are also heavily skewed, with a wider range.\n",
    "\n",
    "From looking at the histogram, the distribution of MMSE scores for individuals with AD is not as clear, therefore I will use a Shapiro-Wilk test"
   ]
  },
  {
   "cell_type": "code",
   "execution_count": 72,
   "id": "6a8881a6",
   "metadata": {},
   "outputs": [
    {
     "name": "stdout",
     "output_type": "stream",
     "text": [
      "ShapiroResult(statistic=0.9437198042869568, pvalue=2.1326648485527977e-15)\n",
      "0.00\n"
     ]
    }
   ],
   "source": [
    "# remove na values from sample\n",
    "shapirodata = np.array(MRI.loc[MRI['Group']=='AD', 'MMSE'])\n",
    "shapirodatanonan = shapirodata[np.logical_not(np.isnan(shapirodata))]\n",
    "\n",
    "shapiro_test = stats.shapiro(shapirodatanonan)\n",
    "print(shapiro_test)\n",
    "print(format(shapiro_test.pvalue, '.2f'))"
   ]
  },
  {
   "cell_type": "markdown",
   "id": "f64d34e1",
   "metadata": {},
   "source": [
    "The Shapiro-Wilk test showed that the distribution of MMSE scores for subjects with AD departed significantly from normality (W=0.94, p-value<0.01). Although, from the histogram it does not look as heavily skewed as the ND and MCI distribution.\n",
    "\n",
    "Nonetheless, based on this outcome, a non-parametric test will be used for this distribution."
   ]
  },
  {
   "cell_type": "markdown",
   "id": "cfd3e150",
   "metadata": {},
   "source": [
    "### eTIV & nWBV\n",
    "\n",
    "As brain volume data is continous, ANOVA will not be an appropriate statistical analysis, therefore I will use regression analysis which does not require the assumption of normality\n",
    "\n",
    "eTIV and nWBV are both data pertaining to brain volume, therefore, they must be correlated with eachother. If they are not correlated this would suggest that the variability in intracranial volume of those with different diagnosis' is not associated with variability in whole brain volume. This will inform the features I choose for further analysis as I will want to choose the brain volume feature that is the best predictor of diagnosis"
   ]
  },
  {
   "cell_type": "code",
   "execution_count": 153,
   "id": "ece92ef7",
   "metadata": {},
   "outputs": [
    {
     "name": "stdout",
     "output_type": "stream",
     "text": [
      "  Subject_ID         MRI_ID Group  Visit MR_Delay    Age   MMSE   CDR  \\\n",
      "0  OAS2_0001  OAS2_0001_MR1    ND  1.000    0.000 87.000 27.000 0.000   \n",
      "1  OAS2_0001  OAS2_0001_MR2    ND  2.000  457.000 88.000 30.000 0.000   \n",
      "2  OAS2_0002  OAS2_0002_MR1   MCI  1.000    0.000 75.000 23.000 0.500   \n",
      "3  OAS2_0002  OAS2_0002_MR2   MCI  2.000  560.000 76.000 28.000 0.500   \n",
      "4  OAS2_0002  OAS2_0002_MR3   MCI  3.000 1895.000 80.000 22.000 0.500   \n",
      "\n",
      "      eTIV  nWBV   ASF  EICV  BRAINVOL  counts Converted  num_MRI  \n",
      "0 1987.000 0.696 0.883   NaN       NaN       1     0.000        2  \n",
      "1 2004.000 0.681 0.876   NaN       NaN       1     0.000        2  \n",
      "2 1678.000 0.736 1.046   NaN       NaN       1     0.000        3  \n",
      "3 1738.000 0.713 1.010   NaN       NaN       1     0.000        3  \n",
      "4 1698.000 0.701 1.034   NaN       NaN       1     0.000        3  \n"
     ]
    }
   ],
   "source": [
    "print(MRI.head())"
   ]
  },
  {
   "cell_type": "markdown",
   "id": "233fedc5",
   "metadata": {},
   "source": [
    "# Correlation matrix for eTIV & nWBV on conversion groups"
   ]
  },
  {
   "cell_type": "code",
   "execution_count": 172,
   "id": "19b67239",
   "metadata": {},
   "outputs": [
    {
     "name": "stdout",
     "output_type": "stream",
     "text": [
      "IV0\n",
      "158\n",
      "501\n",
      "1220\n",
      "BV0\n",
      "158\n",
      "578\n",
      "IV3\n",
      "13\n",
      "157\n",
      "290\n",
      "BV3\n",
      "13\n",
      "173\n"
     ]
    }
   ],
   "source": [
    "# creates a random sample of 13 rows of the eTIV, nWBV, CDR and Converted columns for different groups\n",
    "#ND0IV = shuffle(MRI.loc[(MRI['CDR']==0)&(MRI['Converted']==0)])\n",
    "#ND0IV = np.array(ND0IV.iloc[0:13,[12,11,16,10]])\n",
    "\n",
    "#ND0BV = shuffle(MRI.loc[(MRI['CDR']==0)&(MRI['Converted']==0)])\n",
    "#ND0BV = np.array(ND0BV.iloc[0:13,13])\n",
    "\n",
    "#AD0IV = shuffle(MRI.loc[(MRI['CDR']==1)&(MRI['Converted']==0)])\n",
    "#AD0IV = np.array(AD0IV.iloc[0:13,[12,11,16,10]])\n",
    "\n",
    "#AD0BV = shuffle(MRI.loc[(MRI['CDR']==1)&(MRI['Converted']==0)])\n",
    "#AD0BV = np.array(AD0BV.iloc[0:13,13])\n",
    "\n",
    "#df[~df['Age'].isnull()]\n",
    "\n",
    "MCI0 = shuffle(MRI.loc[(MRI['CDR']==0.5)&(MRI['Converted']==0)])\n",
    "#MCI0IV = np.array(MRI[~MRI[['eTIV','MMSE','EICV']].isnull()])\n",
    "MCI0 = np.array(MCI0.iloc[0:1256,[8,6,11,4,9,12]])\n",
    "\n",
    "print(\"IV0\")\n",
    "IV0_1 = MCI0[:,0]\n",
    "IV0_1 = IV0_1[~pd.isnull(IV0_1)]\n",
    "print(len(IV0_1))\n",
    "\n",
    "IV0_2 = MCI0[:,2]\n",
    "IV0_2 = IV0_2[~pd.isnull(IV0_2)]\n",
    "print(len(IV0_2))\n",
    "\n",
    "MMSE0 = MCI0[:,1]\n",
    "MMSE0 = MMSE0[~pd.isnull(MMSE0)]\n",
    "print(len(MMSE0))\n",
    "\n",
    "#MCI0BV = shuffle(MRI.loc[(MRI['CDR']==0.5)&(MRI['Converted']==0)&(MRI['MR_Delay']<1278)])\n",
    "#MCI0BV = np.array(MCI0BV.iloc[0:293,[9,12]])\n",
    "print(\"BV0\")\n",
    "BV0_1 = MCI0[:,4]\n",
    "BV0_1 = BV0_1[~pd.isnull(BV0_1)]\n",
    "print(len(BV0_1))\n",
    "\n",
    "BV0_2 = MCI0[:,5]\n",
    "BV0_2 = BV0_2[~pd.isnull(BV0_2)]\n",
    "print(len(BV0_2))\n",
    "\n",
    "MCI3 = MRI.loc[(MRI['CDR']==0.5)&(MRI['Converted']==3)&(MRI['MR_Delay']<1278)]\n",
    "MCI3 = np.array(MCI3[['eTIV','MMSE','EICV','MR_Delay','nWBV','BRAINVOL']])\n",
    "print(\"IV3\")\n",
    "IV3_1 = MCI3[:,0]\n",
    "IV3_1 = IV3_1[~pd.isnull(IV3_1)]\n",
    "print(len(IV3_1))\n",
    "\n",
    "IV3_2 = MCI3[:,2]\n",
    "IV3_2 = IV3_2[~pd.isnull(IV3_2)]\n",
    "print(len(IV3_2))\n",
    "\n",
    "MMSE3 = MCI3[:,1]\n",
    "MMSE3 = MMSE3[~pd.isnull(MMSE3)]\n",
    "print(len(MMSE3))\n",
    "\n",
    "#MCI3BV = MRI.loc[(MRI['CDR']==0.5)&(MRI['Converted']==3)]\n",
    "#MCI3BV = np.array(MCI3BV[['nWBV','BRAINVOL']])\n",
    "print(\"BV3\")\n",
    "BV3_1 = MCI3[:,4]\n",
    "BV3_1 = BV3_1[~pd.isnull(BV3_1)]\n",
    "print(len(BV3_1))\n",
    "\n",
    "BV3_2 = MCI3[:,5]\n",
    "BV3_2 = BV3_2[~pd.isnull(BV3_2)]\n",
    "print(len(BV3_2))\n",
    "\n",
    "\n",
    "# prepares columns for new dataframe\n",
    "#BV = np.concatenate((MCI0BV[:,0],MCI3BV[:,0]),axis=None)\n",
    "#BV2 = np.concatenate((MCI0BV[:,1],MCI3BV[:,1]),axis=None)\n",
    "#IV = np.concatenate((MCI0IV[:,0],MCI3IV[:,0]),axis=None)\n",
    "#IV2 = np.concatenate((MCI0IV[:,3],MCI3IV[:,3]),axis=None)\n",
    "#MMSE = np.concatenate((MCI0IV[:,2],MCI3IV[:,2]),axis=None)\n",
    "#CONVERTED = np.concatenate((MCI0IV[:,1],MCI3IV[:,1]),axis=None)"
   ]
  },
  {
   "cell_type": "markdown",
   "id": "8ee02c3f",
   "metadata": {},
   "source": [
    "# Average rate of atrophy of conversion groups\n",
    "\n",
    "The difference between subjects in these groups may not be their current brain volume, as they have all been diagnosed with MCI, the difference may be in the rate of atrophy of brain volume. It is normal for the brain to atrophy with age (reference), however, subjects with progressive MCI may exhibit a faster rate of atrophying. Thus, the rate of atrophy of subject in each conversion group will be computed  "
   ]
  },
  {
   "cell_type": "code",
   "execution_count": 203,
   "id": "d161a390",
   "metadata": {},
   "outputs": [
    {
     "name": "stdout",
     "output_type": "stream",
     "text": [
      "31\n",
      "29\n",
      "2\n",
      "0\n",
      "31\n",
      "29\n",
      "2\n",
      "0\n",
      "65\n",
      "27\n",
      "1\n",
      "0\n",
      "65\n",
      "27\n",
      "1\n",
      "0\n"
     ]
    }
   ],
   "source": [
    "MR_DELAY0 = MCI0[:,3]\n",
    "MR_DELAY3 = MCI3[:,3]\n",
    "BV0 = MCI0[:,5]\n",
    "BV3 = MCI3[:,5]\n",
    "IV0 = MCI0[:,2]\n",
    "IV3 = MCI3[:,2]\n",
    "maxlen = len(IV3)\n",
    "\n",
    "rdBV = np.concatenate((BV0[0:maxlen],BV3[0:maxlen]),axis=None)\n",
    "rdIV = np.concatenate((IV0[0:maxlen],IV3[0:maxlen]),axis=None)\n",
    "rdDELAY = np.concatenate((MR_DELAY0[0:maxlen],MR_DELAY3[0:maxlen]),axis=None)\n",
    "rdCONVERTED = np.concatenate((np.zeros(maxlen),np.ones(maxlen)),axis=None)\n",
    "\n",
    "rate_decay_df = [rdBV,rdIV,rdDELAY,rdCONVERTED]\n",
    "rate_decay_df = pd.DataFrame(rate_decay_df).T\n",
    "rate_decay_df.rename(columns={0:'BRAINVOL',1:'EICV',2:'MR_DELAY',3:'Converted'},inplace=True)\n",
    "#print(rate_decay_df)\n",
    "\n",
    "rate_decay_df = rate_decay_df.dropna()\n",
    "#print(rate_decay_df)\n",
    "\n",
    "BV0_start = np.array(rate_decay_df[(rate_decay_df['MR_DELAY']==0)&(rate_decay_df['Converted']==0)]['BRAINVOL'])\n",
    "BV0_1yr = np.array(rate_decay_df[(rate_decay_df['MR_DELAY']<547)&(rate_decay_df['MR_DELAY']>364)&(rate_decay_df['Converted']==0)]['BRAINVOL'])\n",
    "BV0_2yr = np.array(rate_decay_df[(rate_decay_df['MR_DELAY']<912)&(rate_decay_df['MR_DELAY']>729)&(rate_decay_df['Converted']==0)]['BRAINVOL'])\n",
    "BV0_3yr = np.array(rate_decay_df[(rate_decay_df['MR_DELAY']<1277)&(rate_decay_df['MR_DELAY']>1095)&(rate_decay_df['Converted']==0)]['BRAINVOL'])\n",
    "\n",
    "IV0_start = np.array(rate_decay_df[(rate_decay_df['MR_DELAY']==0)&(rate_decay_df['Converted']==0)]['EICV'])\n",
    "IV0_1yr = np.array(rate_decay_df[(rate_decay_df['MR_DELAY']<547)&(rate_decay_df['MR_DELAY']>364)&(rate_decay_df['Converted']==0)]['EICV'])\n",
    "IV0_2yr = np.array(rate_decay_df[(rate_decay_df['MR_DELAY']<912)&(rate_decay_df['MR_DELAY']>729)&(rate_decay_df['Converted']==0)]['EICV'])\n",
    "IV0_3yr = np.array(rate_decay_df[(rate_decay_df['MR_DELAY']<1277)&(rate_decay_df['MR_DELAY']>1095)&(rate_decay_df['Converted']==0)]['EICV'])\n",
    "\n",
    "BV3_start = np.array(rate_decay_df[(rate_decay_df['MR_DELAY']==0)&(rate_decay_df['Converted']==1)]['BRAINVOL'])\n",
    "BV3_1yr = np.array(rate_decay_df[(rate_decay_df['MR_DELAY']<547)&(rate_decay_df['MR_DELAY']>364)&(rate_decay_df['Converted']==1)]['BRAINVOL'])\n",
    "BV3_2yr = np.array(rate_decay_df[(rate_decay_df['MR_DELAY']<912)&(rate_decay_df['MR_DELAY']>729)&(rate_decay_df['Converted']==1)]['BRAINVOL'])\n",
    "BV3_3yr = np.array(rate_decay_df[(rate_decay_df['MR_DELAY']<1277)&(rate_decay_df['MR_DELAY']>1095)&(rate_decay_df['Converted']==1)]['BRAINVOL'])\n",
    "\n",
    "IV3_start = np.array(rate_decay_df[(rate_decay_df['MR_DELAY']==0)&(rate_decay_df['Converted']==1)]['EICV'])\n",
    "IV3_1yr = np.array(rate_decay_df[(rate_decay_df['MR_DELAY']<547)&(rate_decay_df['MR_DELAY']>364)&(rate_decay_df['Converted']==1)]['EICV'])\n",
    "IV3_2yr = np.array(rate_decay_df[(rate_decay_df['MR_DELAY']<912)&(rate_decay_df['MR_DELAY']>729)&(rate_decay_df['Converted']==1)]['EICV'])\n",
    "IV3_3yr = np.array(rate_decay_df[(rate_decay_df['MR_DELAY']<1277)&(rate_decay_df['MR_DELAY']>1095)&(rate_decay_df['Converted']==1)]['EICV'])\n",
    "\n",
    "variables = [BV0_start, BV0_1yr, BV0_2yr, BV0_3yr,IV0_start, IV0_1yr, IV0_2yr, IV0_3yr, BV3_start, BV3_1yr, BV3_2yr, BV3_3yr, IV3_start, IV3_1yr, IV3_2yr, IV3_3yr]\n",
    "\n",
    "for i in range(16):\n",
    "    print(len(variables[i]))\n",
    "\n"
   ]
  },
  {
   "cell_type": "markdown",
   "id": "11a4561b",
   "metadata": {},
   "source": [
    "# Average rate of atrophy in 1 year"
   ]
  },
  {
   "cell_type": "code",
   "execution_count": 209,
   "id": "24dc3e4e",
   "metadata": {},
   "outputs": [
    {
     "name": "stdout",
     "output_type": "stream",
     "text": [
      "0.02947941545182213\n",
      "0.0349566676351759\n",
      "0.04276728899757745\n",
      "0.04685326889199114\n"
     ]
    }
   ],
   "source": [
    "#BRAIN VOLUME 0\n",
    "RA_BV0 = (BV0_1yr[0:29]-BV0_start[0:29])/BV0_start[0:29]\n",
    "print(np.mean(RA_BV0))\n",
    "\n",
    "#BRAIN VOLUME 3\n",
    "RA_BV3 = (BV3_1yr[0:27]-BV3_start[0:27])/BV3_start[0:27]\n",
    "print(np.mean(RA_BV3))\n",
    "\n",
    "#INTRACRANIAL VOLUME 0\n",
    "RA_IV0 = (IV0_1yr[0:29]-IV0_start[0:29])/IV0_start[0:29]\n",
    "print(np.mean(RA_IV0))\n",
    "\n",
    "#INTRACRANIAL VOLUME 3\n",
    "RA_IV3 = (IV3_1yr[0:27]-IV3_start[0:27])/IV3_start[0:27]\n",
    "print(np.mean(RA_IV3))\n"
   ]
  },
  {
   "cell_type": "code",
   "execution_count": 80,
   "id": "46760aad",
   "metadata": {},
   "outputs": [
    {
     "name": "stdout",
     "output_type": "stream",
     "text": [
      "    nWBV     eTIV   MMSE  Converted\n",
      "0  0.709 1482.000 23.000      0.000\n",
      "1  0.773 1738.000 29.000      0.000\n",
      "2  0.686 1556.000 29.000      0.000\n",
      "3  0.653 1548.000 19.000      0.000\n",
      "4  0.691 1179.000 19.000      0.000\n",
      "5  0.698 1899.000 29.000      0.000\n",
      "6  0.732 1399.000 25.000      0.000\n",
      "7  0.753 1174.000 26.000      0.000\n",
      "8  0.695 1668.000 20.000      0.000\n",
      "9  0.736 1774.000 28.000      0.000\n",
      "10 0.716 1701.000 28.000      0.000\n",
      "11 0.713 1495.000 24.000      0.000\n",
      "12 0.742 1447.000 29.000      0.000\n",
      "13 0.748 1357.000 28.000      1.000\n",
      "14 0.697 1602.000 21.000      1.000\n",
      "15 0.737 1547.000 22.000      1.000\n",
      "16 0.750 1476.000 20.000      1.000\n",
      "17 0.724 1461.000 20.000      1.000\n",
      "18 0.759 1447.000 23.000      1.000\n",
      "19 0.692 1432.000 29.000      1.000\n",
      "20 0.696 1568.000 25.000      1.000\n",
      "21 0.727 1316.000 27.000      1.000\n",
      "22 0.720 1343.000 30.000      1.000\n",
      "23 0.705 1557.000 27.000      1.000\n",
      "24 0.733 1171.000 26.000      1.000\n",
      "25 0.733 1354.000 24.000      1.000\n"
     ]
    }
   ],
   "source": [
    "O_IV = np.concatenate((IV0_1[0:13],IV3_1[0:13]),axis=None)\n",
    "O_BV = np.concatenate((BV0_1[0:13],BV3_1[0:13]),axis=None)\n",
    "O_MMSE = np.concatenate((MMSE0[0:13],MMSE3[0:13]),axis=None)\n",
    "O_CONVERTED = np.concatenate((np.zeros(13),np.ones(13)),axis=None)\n",
    "O_df = [O_BV,O_IV,O_MMSE,O_CONVERTED]\n",
    "O_df = pd.DataFrame(O_df).T\n",
    "O_df.rename(columns={0:'nWBV',1:'eTIV',2:'MMSE',3:'Converted'},inplace=True)\n",
    "print(O_df)"
   ]
  },
  {
   "cell_type": "code",
   "execution_count": 78,
   "id": "20323364",
   "metadata": {},
   "outputs": [
    {
     "name": "stdout",
     "output_type": "stream",
     "text": [
      "     BRAINVOL        EICV   MMSE  Converted\n",
      "0     992.905 1279750.000 23.000      0.000\n",
      "1    1049.568 1583500.000 29.000      0.000\n",
      "2     943.936 1254250.000 29.000      0.000\n",
      "3    1235.725 1337000.000 19.000      0.000\n",
      "4    1216.695 1720290.000 19.000      0.000\n",
      "..        ...         ...    ...        ...\n",
      "293  1054.036 1165730.000 25.000      1.000\n",
      "294  1172.099 1383950.000 26.000      1.000\n",
      "295  1064.066 1383950.000 21.000      1.000\n",
      "296   917.660 1534770.000 22.000      1.000\n",
      "297   943.896 1534770.000 15.000      1.000\n",
      "\n",
      "[298 rows x 4 columns]\n"
     ]
    }
   ],
   "source": [
    "max_length = len(BV0_2)\n",
    "ADNI_IV = np.concatenate((IV0_2[0:max_length],IV3_2[0:max_length]),axis=None)\n",
    "ADNI_BV = np.concatenate((BV0_2[0:max_length],BV3_2[0:max_length]),axis=None)\n",
    "ADNI_MMSE = np.concatenate((MMSE0[0:max_length],MMSE3[0:max_length]),axis=None)\n",
    "ADNI_CONVERTED = np.concatenate((np.zeros(max_length),np.ones(max_length)),axis=None)\n",
    "ADNI_df = [ADNI_BV,ADNI_IV,ADNI_MMSE,ADNI_CONVERTED]\n",
    "ADNI_df = pd.DataFrame(ADNI_df).T\n",
    "ADNI_df.rename(columns={0:'BRAINVOL',1:'EICV',2:'MMSE',3:'Converted'},inplace=True)\n",
    "print(ADNI_df)"
   ]
  },
  {
   "cell_type": "code",
   "execution_count": 81,
   "id": "7abbac87",
   "metadata": {},
   "outputs": [
    {
     "data": {
      "text/plain": [
       "<seaborn.axisgrid.PairGrid at 0x7ff3001b80d0>"
      ]
     },
     "execution_count": 81,
     "metadata": {},
     "output_type": "execute_result"
    },
    {
     "data": {
      "image/png": "[encoded data removed]",
      "text/plain": [
       "<Figure size 720x720 with 20 Axes>"
      ]
     },
     "metadata": {},
     "output_type": "display_data"
    }
   ],
   "source": [
    "sns.set_theme(style=\"ticks\")\n",
    "sns.pairplot(O_df)"
   ]
  },
  {
   "cell_type": "code",
   "execution_count": 82,
   "id": "b8f12bee",
   "metadata": {},
   "outputs": [
    {
     "name": "stdout",
     "output_type": "stream",
     "text": [
      "            nWBV   eTIV   MMSE  Converted\n",
      "nWBV       1.000 -0.178  0.254      0.178\n",
      "eTIV      -0.178  1.000  0.150     -0.309\n",
      "MMSE       0.254  0.150  1.000     -0.065\n",
      "Converted  0.178 -0.309 -0.065      1.000\n"
     ]
    }
   ],
   "source": [
    "O_corr = O_df.corr()\n",
    "print(O_corr)"
   ]
  },
  {
   "cell_type": "markdown",
   "id": "326618ab",
   "metadata": {},
   "source": [
    "From the scatterplot of the brain volume and MMSE data there appears to be no linear correlation between these variables. The lack of linear correlation could also be due to the small sample size.\n",
    "\n",
    "Additionally, the correlation matrix shows that there are no strong correlations between the independent variables. Although, there is a very moderate negative correlation between Converted group and nWBV (-0.46)"
   ]
  },
  {
   "cell_type": "markdown",
   "id": "d0645fc3",
   "metadata": {},
   "source": [
    "The scatterplot for the nWBV on Converted illustrates this moderate correlation as there are lower nWBV values in Converted group 3 compared to the nWBV values in Converted group 0"
   ]
  },
  {
   "cell_type": "code",
   "execution_count": 84,
   "id": "0b7bf4e3",
   "metadata": {},
   "outputs": [
    {
     "data": {
      "text/plain": [
       "<seaborn.axisgrid.PairGrid at 0x7ff3413320d0>"
      ]
     },
     "execution_count": 84,
     "metadata": {},
     "output_type": "execute_result"
    },
    {
     "data": {
      "image/png": "[encoded data removed]",
      "text/plain": [
       "<Figure size 720x720 with 20 Axes>"
      ]
     },
     "metadata": {},
     "output_type": "display_data"
    }
   ],
   "source": [
    "sns.set_theme(style=\"ticks\")\n",
    "sns.pairplot(ADNI_df)"
   ]
  },
  {
   "cell_type": "code",
   "execution_count": 86,
   "id": "2b33a80d",
   "metadata": {},
   "outputs": [
    {
     "name": "stdout",
     "output_type": "stream",
     "text": [
      "           BRAINVOL   EICV   MMSE  Converted\n",
      "BRAINVOL      1.000 -0.041  0.051     -0.064\n",
      "EICV         -0.041  1.000 -0.079     -0.037\n",
      "MMSE          0.051 -0.079  1.000     -0.283\n",
      "Converted    -0.064 -0.037 -0.283      1.000\n"
     ]
    }
   ],
   "source": [
    "ADNI_corr = ADNI_df.corr()\n",
    "print(ADNI_corr)"
   ]
  },
  {
   "cell_type": "markdown",
   "id": "a1abd490",
   "metadata": {},
   "source": [
    "# NO CORRELATIONS"
   ]
  },
  {
   "cell_type": "markdown",
   "id": "302ae823",
   "metadata": {},
   "source": [
    "# Further analysis"
   ]
  },
  {
   "cell_type": "markdown",
   "id": "f9b1803a",
   "metadata": {},
   "source": [
    "## Kruskal-Wallis H test on MMSE scores\n"
   ]
  },
  {
   "cell_type": "code",
   "execution_count": 87,
   "id": "e28d7908",
   "metadata": {},
   "outputs": [
    {
     "name": "stdout",
     "output_type": "stream",
     "text": [
      "KruskalResult(statistic=60.031899418954495, pvalue=9.333238792592271e-15)\n",
      "0.00\n"
     ]
    }
   ],
   "source": [
    "# MMSE scores for subjects in Converted groups 0 and 3\n",
    "MMSE0 = MMSE0[0:290]\n",
    "MMSE3 = MMSE3[0:290]\n",
    "kruskal_test = stats.kruskal(MMSE0,MMSE3)\n",
    "print(kruskal_test)\n",
    "print(format(kruskal_test.pvalue, '.2f'))"
   ]
  },
  {
   "cell_type": "markdown",
   "id": "c8c95d69",
   "metadata": {},
   "source": [
    "Kruskal-Wallis Test was conducted to examine the differences on MMSE scores accoridng to the conversion group. A significant difference (H=65.88, p<0.01) was found among the 2 samples (group 3, conversion from MCI to AD and group 0, no conversion). A post-hoc test will not be necessary as there are 2 variables, so we know that there is a significant difference between the two variables presented. MMSE will be used in a regression analysis."
   ]
  },
  {
   "cell_type": "code",
   "execution_count": 210,
   "id": "97f10e21",
   "metadata": {},
   "outputs": [
    {
     "name": "stdout",
     "output_type": "stream",
     "text": [
      "KruskalResult(statistic=0.015124016938898421, pvalue=0.9021231397359233)\n",
      "0.90\n"
     ]
    }
   ],
   "source": [
    "kruskal_test2 = stats.kruskal(RA_BV0,RA_BV3)\n",
    "print(kruskal_test2)\n",
    "print(format(kruskal_test2.pvalue, '.2f'))"
   ]
  },
  {
   "cell_type": "code",
   "execution_count": 211,
   "id": "143d269a",
   "metadata": {},
   "outputs": [
    {
     "name": "stdout",
     "output_type": "stream",
     "text": [
      "KruskalResult(statistic=0.042012594000690684, pvalue=0.8375957676529782)\n",
      "0.84\n"
     ]
    }
   ],
   "source": [
    "kruskal_test3 = stats.kruskal(RA_IV0,RA_IV3)\n",
    "print(kruskal_test3)\n",
    "print(format(kruskal_test3.pvalue, '.2f'))"
   ]
  },
  {
   "cell_type": "markdown",
   "id": "109803f1",
   "metadata": {},
   "source": [
    "# Regression on conversion group and brain volume data\n",
    "\n",
    "Logistic regression will be used to find a relationship between brain volume data of subjects with MCI and conversion group. This method will be used due to the dichotomous nature of the dependent variaible, conversion group.\n",
    "\n",
    "Conversion group number 3 will be changed to 1, so those with MCI who later converted to AD will be in group 1 and those with MCI who did not convert will be in group 0\n",
    "\n",
    "eTIV and nWBV will be used as independent variables/predictors with conversion group used as a dependent variable. \n",
    "\n",
    "Hierarchal logistic regression will then be used to determine the effect of eTIV on the model, as the correlation analysis showed that nWBV is the only variable with a moderate linear correlation to conversino group. \n",
    "\n",
    "Although a machine learning model will ultimatley be used for this data, the results of this regression will be used as a benchmark. If a machine learning model cannot outperform the regression model there is truly no relationship in this data."
   ]
  },
  {
   "cell_type": "markdown",
   "id": "71d26582",
   "metadata": {},
   "source": [
    "# BRAINVOL and conversion group"
   ]
  },
  {
   "cell_type": "code",
   "execution_count": 91,
   "id": "f79b65f2",
   "metadata": {},
   "outputs": [],
   "source": [
    "Y1 = ADNI_CONVERTED\n",
    "X1 = ADNI_BV.reshape(-1,1)"
   ]
  },
  {
   "cell_type": "code",
   "execution_count": 111,
   "id": "88e3f2cc",
   "metadata": {},
   "outputs": [],
   "source": [
    "logr1 = linear_model.LogisticRegression(solver='liblinear', random_state=0).fit(X1,Y1)"
   ]
  },
  {
   "cell_type": "code",
   "execution_count": 112,
   "id": "ceb179ab",
   "metadata": {},
   "outputs": [
    {
     "name": "stdout",
     "output_type": "stream",
     "text": [
      "[[0.49685114 0.50314886]\n",
      " [0.50450101 0.49549899]\n",
      " [0.49024106 0.50975894]\n",
      " [0.52959942 0.47040058]\n",
      " [0.52703844 0.47296156]\n",
      " [0.49388039 0.50611961]\n",
      " [0.48682997 0.51317003]\n",
      " [0.49825723 0.50174277]\n",
      " [0.52177476 0.47822524]\n",
      " [0.46964494 0.53035506]\n",
      " [0.52893435 0.47106565]\n",
      " [0.47969205 0.52030795]\n",
      " [0.48717941 0.51282059]\n",
      " [0.47668884 0.52331116]\n",
      " [0.46958588 0.53041412]\n",
      " [0.48888872 0.51111128]\n",
      " [0.48495443 0.51504557]\n",
      " [0.53221289 0.46778711]\n",
      " [0.49721349 0.50278651]\n",
      " [0.49849362 0.50150638]]\n"
     ]
    }
   ],
   "source": [
    "# prints a matrix of probabilities. Each row corresponds to a unique nWBV value, the columns correspond to the \n",
    "# probability that the value belongs to group 0 or 1 respectively\n",
    "print(logr1.predict_proba(X1)[0:20])"
   ]
  },
  {
   "cell_type": "code",
   "execution_count": 113,
   "id": "14ab8bcf",
   "metadata": {},
   "outputs": [
    {
     "data": {
      "text/plain": [
       "0.540268456375839"
      ]
     },
     "execution_count": 113,
     "metadata": {},
     "output_type": "execute_result"
    }
   ],
   "source": [
    "# number of observation divided by correct predictions\n",
    "logr1.score(X1,Y1)"
   ]
  },
  {
   "cell_type": "markdown",
   "id": "c1d7949e",
   "metadata": {},
   "source": [
    "# EICV and conversion group"
   ]
  },
  {
   "cell_type": "code",
   "execution_count": 114,
   "id": "068e483f",
   "metadata": {},
   "outputs": [],
   "source": [
    "\n",
    "X2 = ADNI_IV.reshape(-1,1)"
   ]
  },
  {
   "cell_type": "code",
   "execution_count": 115,
   "id": "d95b21b1",
   "metadata": {},
   "outputs": [],
   "source": [
    "logr2 = linear_model.LogisticRegression(solver='liblinear', random_state=0).fit(X2,Y1)"
   ]
  },
  {
   "cell_type": "code",
   "execution_count": 116,
   "id": "59e05fab",
   "metadata": {},
   "outputs": [
    {
     "name": "stdout",
     "output_type": "stream",
     "text": [
      "[[0.50167725 0.49832275]\n",
      " [0.50207534 0.49792466]\n",
      " [0.50164383 0.49835617]\n",
      " [0.50175228 0.49824772]\n",
      " [0.50225461 0.49774539]\n",
      " [0.50178942 0.49821058]\n",
      " [0.50165131 0.49834869]\n",
      " [0.50180816 0.49819184]\n",
      " [0.50175228 0.49824772]\n",
      " [0.50165131 0.49834869]\n",
      " [0.50182802 0.49817198]\n",
      " [0.50191003 0.49808997]\n",
      " [0.50189462 0.49810538]\n",
      " [0.50189483 0.49810517]\n",
      " [0.50225461 0.49774539]\n",
      " [0.50211603 0.49788397]\n",
      " [0.50221051 0.49778949]\n",
      " [0.50230004 0.49769996]\n",
      " [0.50165221 0.49834779]\n",
      " [0.502404   0.497596  ]]\n"
     ]
    }
   ],
   "source": [
    "print(logr2.predict_proba(X2)[0:20])"
   ]
  },
  {
   "cell_type": "code",
   "execution_count": 117,
   "id": "59798888",
   "metadata": {},
   "outputs": [
    {
     "data": {
      "text/plain": [
       "0.5"
      ]
     },
     "execution_count": 117,
     "metadata": {},
     "output_type": "execute_result"
    }
   ],
   "source": [
    "logr2.score(X2,Y1)"
   ]
  },
  {
   "cell_type": "code",
   "execution_count": 118,
   "id": "a95d52ee",
   "metadata": {},
   "outputs": [],
   "source": [
    "\n",
    "X3 = ADNI_MMSE.reshape(-1,1)"
   ]
  },
  {
   "cell_type": "code",
   "execution_count": 119,
   "id": "5f2e13bc",
   "metadata": {},
   "outputs": [],
   "source": [
    "logr3 = linear_model.LogisticRegression(solver='liblinear', random_state=0).fit(X3,Y1)"
   ]
  },
  {
   "cell_type": "code",
   "execution_count": 120,
   "id": "72200b88",
   "metadata": {},
   "outputs": [
    {
     "name": "stdout",
     "output_type": "stream",
     "text": [
      "[[0.44411307 0.55588693]\n",
      " [0.58947789 0.41052211]\n",
      " [0.58947789 0.41052211]\n",
      " [0.35084025 0.64915975]\n",
      " [0.35084025 0.64915975]\n",
      " [0.58947789 0.41052211]\n",
      " [0.49273684 0.50726316]\n",
      " [0.51715847 0.48284153]\n",
      " [0.37340605 0.62659395]\n",
      " [0.5656419  0.4343581 ]\n",
      " [0.5656419  0.4343581 ]\n",
      " [0.46834982 0.53165018]\n",
      " [0.58947789 0.41052211]\n",
      " [0.35084025 0.64915975]\n",
      " [0.612901   0.387099  ]\n",
      " [0.49273684 0.50726316]\n",
      " [0.42013938 0.57986062]\n",
      " [0.44411307 0.55588693]\n",
      " [0.51715847 0.48284153]\n",
      " [0.49273684 0.50726316]]\n"
     ]
    }
   ],
   "source": [
    "print(logr3.predict_proba(X3)[0:20])"
   ]
  },
  {
   "cell_type": "code",
   "execution_count": 121,
   "id": "3a04c491",
   "metadata": {},
   "outputs": [
    {
     "data": {
      "text/plain": [
       "0.6342281879194631"
      ]
     },
     "execution_count": 121,
     "metadata": {},
     "output_type": "execute_result"
    }
   ],
   "source": [
    "logr3.score(X3,Y1)"
   ]
  },
  {
   "cell_type": "code",
   "execution_count": 132,
   "id": "3832fbce",
   "metadata": {},
   "outputs": [
    {
     "data": {
      "text/plain": [
       "0.68"
      ]
     },
     "execution_count": 132,
     "metadata": {},
     "output_type": "execute_result"
    }
   ],
   "source": [
    "test = np.concatenate((MMSE0[max_length:(max_length+50)],MMSE3[max_length:(max_length+50)])).reshape(-1,1)\n",
    "testlabels = np.concatenate((np.zeros(50),np.ones(50)))\n",
    "logr3.predict(test)\n",
    "logr3.score(test,testlabels)"
   ]
  },
  {
   "cell_type": "markdown",
   "id": "a13ba4ef",
   "metadata": {},
   "source": [
    "# nWBV and conversion group"
   ]
  },
  {
   "cell_type": "code",
   "execution_count": 134,
   "id": "14b1fb89",
   "metadata": {},
   "outputs": [],
   "source": [
    "Y2 = O_CONVERTED\n",
    "X4 = O_BV.reshape(-1,1)\n"
   ]
  },
  {
   "cell_type": "code",
   "execution_count": 135,
   "id": "49336cf8",
   "metadata": {},
   "outputs": [],
   "source": [
    "logr4 = linear_model.LogisticRegression(solver='liblinear', random_state=0).fit(X4,Y2)"
   ]
  },
  {
   "cell_type": "code",
   "execution_count": 139,
   "id": "484080db",
   "metadata": {},
   "outputs": [
    {
     "name": "stdout",
     "output_type": "stream",
     "text": [
      "[[0.49909306 0.50090694]\n",
      " [0.49841073 0.50158927]\n",
      " [0.49933828 0.50066172]\n",
      " [0.49969011 0.50030989]\n",
      " [0.49928497 0.50071503]\n",
      " [0.49921034 0.50078966]\n",
      " [0.49884785 0.50115215]\n",
      " [0.49862396 0.50137604]\n",
      " [0.49924232 0.50075768]\n",
      " [0.4988052  0.5011948 ]\n",
      " [0.49901843 0.50098157]\n",
      " [0.49905042 0.50094958]\n",
      " [0.49874123 0.50125877]\n",
      " [0.49867726 0.50132274]\n",
      " [0.499221   0.500779  ]\n",
      " [0.49879454 0.50120546]\n",
      " [0.49865594 0.50134406]\n",
      " [0.49893314 0.50106686]\n",
      " [0.49855999 0.50144001]\n",
      " [0.49927431 0.50072569]\n",
      " [0.49923166 0.50076834]\n",
      " [0.49890116 0.50109884]\n",
      " [0.49897579 0.50102421]\n",
      " [0.49913571 0.50086429]\n",
      " [0.49883719 0.50116281]\n",
      " [0.49883719 0.50116281]]\n"
     ]
    }
   ],
   "source": [
    "# prints a matrix of probabilities. Each row corresponds to a unique nWBV value, the columns correspond to the \n",
    "# probability that the value belongs to group 0 or 1 respectively\n",
    "print(logr4.predict_proba(X4))\n"
   ]
  },
  {
   "cell_type": "code",
   "execution_count": 140,
   "id": "eae10a70",
   "metadata": {},
   "outputs": [
    {
     "data": {
      "text/plain": [
       "0.5"
      ]
     },
     "execution_count": 140,
     "metadata": {},
     "output_type": "execute_result"
    }
   ],
   "source": [
    "# number of observation divided by correct predictions\n",
    "logr4.score(X4,Y2)"
   ]
  },
  {
   "cell_type": "markdown",
   "id": "5e1a67ce",
   "metadata": {},
   "source": [
    "As there are two classes or dependent values there is a 50/50 chance that the prediction will be correct, therefore this model did not find a relationship between nWBV and conversion group."
   ]
  },
  {
   "cell_type": "markdown",
   "id": "8c74bd05",
   "metadata": {},
   "source": [
    "# eTIV and conversion group"
   ]
  },
  {
   "cell_type": "code",
   "execution_count": 141,
   "id": "147bbb8e",
   "metadata": {},
   "outputs": [],
   "source": [
    "X5=O_IV.reshape(-1,1)"
   ]
  },
  {
   "cell_type": "code",
   "execution_count": 142,
   "id": "dbaf6de3",
   "metadata": {},
   "outputs": [],
   "source": [
    "logr5 = linear_model.LogisticRegression(solver='liblinear', random_state=0).fit(X5,Y2)"
   ]
  },
  {
   "cell_type": "code",
   "execution_count": 143,
   "id": "f48a64b7",
   "metadata": {},
   "outputs": [
    {
     "name": "stdout",
     "output_type": "stream",
     "text": [
      "[[0.51618466 0.48381534]\n",
      " [0.53764689 0.46235311]\n",
      " [0.52239824 0.47760176]\n",
      " [0.5217268  0.4782732 ]\n",
      " [0.49071103 0.50928897]\n",
      " [0.55107853 0.44892147]\n",
      " [0.50920951 0.49079049]\n",
      " [0.49029072 0.50970928]\n",
      " [0.53178879 0.46821121]\n",
      " [0.54065569 0.45934431]\n",
      " [0.53455166 0.46544834]\n",
      " [0.51727665 0.48272335]\n",
      " [0.51324394 0.48675606]\n",
      " [0.50567838 0.49432162]\n",
      " [0.52625737 0.47374263]\n",
      " [0.52164287 0.47835713]\n",
      " [0.51568061 0.48431939]\n",
      " [0.51442035 0.48557965]\n",
      " [0.51324394 0.48675606]\n",
      " [0.51198334 0.48801666]\n",
      " [0.52340525 0.47659475]\n",
      " [0.50223077 0.49776923]\n",
      " [0.50450119 0.49549881]\n",
      " [0.52248217 0.47751783]\n",
      " [0.49003853 0.50996147]\n",
      " [0.50542613 0.49457387]]\n"
     ]
    }
   ],
   "source": [
    "print(logr5.predict_proba(X5))"
   ]
  },
  {
   "cell_type": "code",
   "execution_count": 144,
   "id": "4abc4136",
   "metadata": {},
   "outputs": [
    {
     "data": {
      "text/plain": [
       "0.5"
      ]
     },
     "execution_count": 144,
     "metadata": {},
     "output_type": "execute_result"
    }
   ],
   "source": [
    "logr2.score(X2,Y)"
   ]
  },
  {
   "cell_type": "markdown",
   "id": "4904ecd1",
   "metadata": {},
   "source": [
    "# Discussion"
   ]
  },
  {
   "cell_type": "markdown",
   "id": "9dfda850",
   "metadata": {},
   "source": [
    "The aim of this project was to explore variables related to the conversion from MCI to alzheimer's. A data pipeline has been formed which will aid in the development of a algorithms that find patterns in neuroimaging data.  \n",
    "\n",
    "There seems to be no linear relationship between subjects with MCI who converted to AD and those who didn't. Although this may be due to the small sample size, these results provide grounds for analysis using a more powerful machine learning method that may capture the complex relationship between alzheimer's disease and brain volume.  \n",
    "\n",
    "The Kruskal-Wallis test did not find a significant difference in rate of atrophy in the first year, between conversion group 0 and 3. However sample size was small and data was only analysed from first year between scans where the least difference would be observed. More data is needed and also a more sophisticated method of analysing rate of atrophy can be conducted.\n",
    "\n",
    "The scale used for diagnosis may have caused some limitations in this study, as I used a global CDR rating to classify subjects. Neurodegenerative diseases are complex conditons that vary from individual to indidviual, thus, it is possible that there were variations in the cognitive function of subjects classified as MCI or AD, which may have led to variations in their brain volume. This also applies to the neuroimaging data which were normalised measurements of the whole brain, as alzheimer's primarily effects memory, neuroimaing data specifically targeting the hippocampus may reveal more significant differences between conversion groups.\n",
    "\n",
    "Additionally, modelling the rate of decline in brain volume from one year to the next may reveal more significant differences between conversion groups, this will be explored in further analysis.\n",
    "\n",
    "Research has discovered a number of factors that could contribute to alzheimer's disease, from unavoidable factors such as air pollution, to changes in protein structures of the brain. There are neuroimaging techniques that are highly invasive and expensive, such as molecular imaging of tau proteins, there are also techniques that are more accessible such as MRI. The aim of this project is to form a data pipeline for medical imaging to make the process of diagnosing alzheimer's quicker and easier. Future projects will be focused on the state-of-the-art ML methods solving this problem."
   ]
  },
  {
   "cell_type": "markdown",
   "id": "86e541fe",
   "metadata": {},
   "source": [
    "# References"
   ]
  },
  {
   "cell_type": "code",
   "execution_count": null,
   "id": "bd3a3150",
   "metadata": {},
   "outputs": [],
   "source": []
  }
 ],
 "metadata": {
  "kernelspec": {
   "display_name": "Python 3 (ipykernel)",
   "language": "python",
   "name": "python3"
  },
  "language_info": {
   "codemirror_mode": {
    "name": "ipython",
    "version": 3
   },
   "file_extension": ".py",
   "mimetype": "text/x-python",
   "name": "python",
   "nbconvert_exporter": "python",
   "pygments_lexer": "ipython3",
   "version": "3.9.12"
  }
 },
 "nbformat": 4,
 "nbformat_minor": 5
}
